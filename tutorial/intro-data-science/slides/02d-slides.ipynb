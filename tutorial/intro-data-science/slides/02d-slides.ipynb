{
 "cells": [
  {
   "cell_type": "code",
   "execution_count": null,
   "metadata": {
    "slideshow": {
     "slide_type": "skip"
    },
    "tags": [
     "hide-cell"
    ]
   },
   "outputs": [],
   "source": [
    "import pandas as pd\n",
    "from siuba import arrange, select, mutate, filter, _\n",
    "from plotnine import ggplot, geom_point, coord_flip, aes, labs, geom_text, facet_wrap, geom_line, scale_y_log10\n",
    "\n",
    "# temporary until I figure out where to put data\n",
    "fname = \"https://siublocks.s3.us-east-2.amazonaws.com/course-data/music200.csv\"\n",
    "music_top200 = pd.read_csv(fname)\n",
    "\n",
    "# tracks\n",
    "fname = \"https://siublocks.s3.us-east-2.amazonaws.com/course-data/track_features.csv\"\n",
    "track_features = pd.read_csv(fname)\n",
    "\n",
    "\n",
    "pd.set_option(\"display.max_rows\", 6)\n"
   ]
  },
  {
   "cell_type": "markdown",
   "metadata": {
    "slideshow": {
     "slide_type": "skip"
    }
   },
   "source": [
    "* filter artist, get characteristics\n",
    "* try different combinations of characteristics--which ones seem most related?\n",
    "* diagnose error (unquoted ggplot)\n",
    "* diagnose error (verb without _)\n",
    "* plot with aesthetics\n",
    "* plot text instead\n",
    "* labs?"
   ]
  },
  {
   "cell_type": "markdown",
   "metadata": {
    "slideshow": {
     "slide_type": "slide"
    }
   },
   "source": [
    "# Faceting"
   ]
  },
  {
   "cell_type": "markdown",
   "metadata": {},
   "source": [
    "You've learned to use color in your scatterplots.\n",
    "\n",
    "Now you'll learn another way to explore your data.\n",
    "plotnine lets you divide your plot into subplots to get one smaller graph for each level of a variable.\n",
    "\n",
    "This is called faceting, and it's another powerful way to communicate relationships within your data."
   ]
  },
  {
   "cell_type": "markdown",
   "metadata": {
    "slideshow": {
     "slide_type": "slide"
    },
    "tags": [
     "font-size-sm"
    ]
   },
   "source": [
    "# Faceting"
   ]
  },
  {
   "cell_type": "code",
   "execution_count": null,
   "metadata": {},
   "outputs": [],
   "source": [
    "asia_top200 = (\n",
    "  music_top200\n",
    "  >> filter(_.continent == \"Asia\")\n",
    ")\n",
    "asia_top200"
   ]
  },
  {
   "cell_type": "markdown",
   "metadata": {
    "slideshow": {
     "slide_type": "notes"
    }
   },
   "source": [
    "For this example, we'll use Spotify top 200 track data for countries in Asia."
   ]
  },
  {
   "cell_type": "markdown",
   "metadata": {
    "slideshow": {
     "slide_type": "slide"
    }
   },
   "source": [
    "# Faceting\n"
   ]
  },
  {
   "cell_type": "code",
   "execution_count": null,
   "metadata": {},
   "outputs": [],
   "source": [
    "(asia_top200\n",
    "  >> ggplot(aes(\"position\", \"streams\", color = \"country\"))\n",
    "   + geom_point()\n",
    ")"
   ]
  },
  {
   "cell_type": "markdown",
   "metadata": {
    "slideshow": {
     "slide_type": "notes"
    }
   },
   "source": [
    "This plot shows the number of streams for each top 200 track in Asian countries.\n",
    "\n",
    "There are so many countries that the plot hits two issues:\n",
    "\n",
    "1. it has to use many different colors.\n",
    "2. many points are on top of each other.\n",
    "\n",
    "A facetted plot could help here, by giving each country its own small panel."
   ]
  },
  {
   "cell_type": "markdown",
   "metadata": {
    "slideshow": {
     "slide_type": "slide"
    }
   },
   "source": [
    "# Faceting"
   ]
  },
  {
   "cell_type": "code",
   "execution_count": null,
   "metadata": {},
   "outputs": [],
   "source": [
    "(asia_top200\n",
    "  >> ggplot(aes(\"position\", \"streams\", color = \"country\"))\n",
    "   + geom_point()\n",
    "   + facet_wrap('~country')\n",
    ")"
   ]
  },
  {
   "cell_type": "markdown",
   "metadata": {
    "slideshow": {
     "slide_type": "notes"
    }
   },
   "source": [
    "You facet a plot by adding another option, with a +, to the end of your code, after geom_point.\n",
    "\n",
    "You add facet underscore wrap, then \"tilde continent\" within the parentheses.\n",
    "\n",
    "In R, the tilde symbol typically means \"by\", meaning that we're splitting the\n",
    "plot by continent, and you can usually find it on the upper left of your keyboard.\n",
    "This tells ggplot2 to divide the data into subplots based on the continent variable.\n",
    "\n",
    "Faceting is a powerful tool, and in\n",
    "the exercises you'll see how you can use faceting\n",
    "not just to compare among continents, but to compare between all of the years in our dataset.\n"
   ]
  },
  {
   "cell_type": "markdown",
   "metadata": {
    "slideshow": {
     "slide_type": "slide"
    }
   },
   "source": [
    "# Let's practice!"
   ]
  },
  {
   "cell_type": "markdown",
   "metadata": {
    "slideshow": {
     "slide_type": "notes"
    }
   },
   "source": [
    "Scroll down to get started with practice!"
   ]
  }
 ],
 "metadata": {
  "kernelspec": {
   "display_name": "venv-siublocks-org",
   "language": "python",
   "name": "venv-siublocks-org"
  },
  "language_info": {
   "codemirror_mode": {
    "name": "ipython",
    "version": 3
   },
   "file_extension": ".py",
   "mimetype": "text/x-python",
   "name": "python",
   "nbconvert_exporter": "python",
   "pygments_lexer": "ipython3",
   "version": "3.6.8"
  },
  "nbconvert": {
   "ExecutePreprocessor": {
    "enabled": true
   },
   "TagRemovePreprocessor": {
    "remove_input_tags": [
     "hide-input",
     "hide-cell"
    ]
   },
   "TemplateExporter": {
    "exclude_input_prompt": true,
    "exclude_output_prompt": true,
    "template_file": "tutorial/intro-data-science/slides/slides_template.j2"
   },
   "exporter": "slidessimple"
  }
 },
 "nbformat": 4,
 "nbformat_minor": 4
}
