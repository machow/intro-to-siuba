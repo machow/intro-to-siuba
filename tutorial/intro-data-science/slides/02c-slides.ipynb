{
 "cells": [
  {
   "cell_type": "code",
   "execution_count": null,
   "metadata": {
    "slideshow": {
     "slide_type": "skip"
    },
    "tags": [
     "hide-cell"
    ]
   },
   "outputs": [],
   "source": [
    "import pandas as pd\n",
    "from siuba import arrange, select, mutate, filter, _\n",
    "from plotnine import ggplot, geom_point, geom_label, coord_flip, aes, labs, geom_text, facet_wrap, geom_line, scale_y_log10\n",
    "\n",
    "# temporary until I figure out where to put data\n",
    "fname = \"https://siublocks.s3.us-east-2.amazonaws.com/course-data/music200.csv\"\n",
    "music_top200 = pd.read_csv(fname)\n",
    "\n",
    "# tracks\n",
    "fname = \"https://siublocks.s3.us-east-2.amazonaws.com/course-data/track_features.csv\"\n",
    "track_features = pd.read_csv(fname)\n",
    "\n",
    "\n",
    "pd.set_option(\"display.max_rows\", 6)\n",
    "pd.set_option('display.max_colwidth', 15)\n",
    "\n",
    "billie = filter(track_features, _.artist == \"Billie Eilish\")"
   ]
  },
  {
   "cell_type": "markdown",
   "metadata": {
    "slideshow": {
     "slide_type": "skip"
    }
   },
   "source": [
    "* filter artist, get characteristics\n",
    "* try different combinations of characteristics--which ones seem most related?\n",
    "* diagnose error (unquoted ggplot)\n",
    "* diagnose error (verb without _)\n",
    "* plot with aesthetics\n",
    "* plot text instead\n",
    "* labs?"
   ]
  },
  {
   "cell_type": "markdown",
   "metadata": {
    "slideshow": {
     "slide_type": "slide"
    }
   },
   "source": [
    "# Using plotnine Aesthetics\n"
   ]
  },
  {
   "cell_type": "markdown",
   "metadata": {
    "slideshow": {
     "slide_type": "notes"
    }
   },
   "source": [
    "In this lesson, you'll use plotnine aesthetics to set more than just the position of points on a plot, but other features too--such as size and color."
   ]
  },
  {
   "cell_type": "markdown",
   "metadata": {
    "slideshow": {
     "slide_type": "slide"
    },
    "tags": [
     "img-height-300"
    ]
   },
   "source": [
    "# Scatterplots"
   ]
  },
  {
   "cell_type": "code",
   "execution_count": null,
   "metadata": {},
   "outputs": [],
   "source": [
    "(billie\n",
    "  >> ggplot(aes(\"energy\", \"valence\"))\n",
    "   + geom_point()\n",
    ")"
   ]
  },
  {
   "cell_type": "markdown",
   "metadata": {
    "slideshow": {
     "slide_type": "notes"
    }
   },
   "source": [
    "You've learned how to create a scatter plot to compare\n",
    "two variables within your data\n",
    "using two visual aesthetics: energy x-axis, and valence on the y-axis.\n",
    "\n"
   ]
  },
  {
   "cell_type": "markdown",
   "metadata": {},
   "source": [
    "# Additional variables"
   ]
  },
  {
   "cell_type": "code",
   "execution_count": null,
   "metadata": {},
   "outputs": [],
   "source": [
    "billie"
   ]
  },
  {
   "cell_type": "markdown",
   "metadata": {
    "slideshow": {
     "slide_type": "notes"
    }
   },
   "source": [
    "But these aren't the only variables in the `track_features` dataset: for example, you also have acousticness and popularity.\n",
    "You may want to examine relationships among all these variables in the same plot.\n",
    "\n",
    "You already used the x-axis to represent energy and the y-axis to valence\n",
    "Now you'll learn to add two more aesthetics--color and size--to communicate even more information in your scatter plot.\n"
   ]
  },
  {
   "cell_type": "markdown",
   "metadata": {
    "slideshow": {
     "slide_type": "slide"
    },
    "tags": [
     "img-height-300"
    ]
   },
   "source": [
    "# The color aesthetic"
   ]
  },
  {
   "cell_type": "code",
   "execution_count": null,
   "metadata": {},
   "outputs": [],
   "source": [
    "(billie\n",
    "  >> ggplot(aes(\"energy\", \"valence\", color = \"acousticness\"))\n",
    "   + geom_point()\n",
    ")"
   ]
  },
  {
   "cell_type": "markdown",
   "metadata": {
    "slideshow": {
     "slide_type": "notes"
    }
   },
   "source": [
    "The scatterplot shows that songs with higher energy, tend to have higher valence. Another variable that might be related to energy is `acousticness`.\n",
    "\n",
    "You can explore this relationship by setting the color of your points, like you see here. \n",
    "To use this aesthetic, you add color equals acousticness inside\n",
    "the aes, next to x equals energy and y equals valence.\n",
    "\n",
    "Notice that ggplot2 automatically adds a legend to the plot, indicating which color represents which acousticness.\n",
    "\n",
    "This communicates that lower energy tracks (toward the left of the plot) tend to be more acoustic. Note that brighter colors indicate more acoustic tracks.\n"
   ]
  },
  {
   "cell_type": "markdown",
   "metadata": {
    "slideshow": {
     "slide_type": "slide"
    },
    "tags": [
     "img-height-300",
     "font-size-sm"
    ]
   },
   "source": [
    "# The size aesthetic"
   ]
  },
  {
   "cell_type": "code",
   "execution_count": null,
   "metadata": {},
   "outputs": [],
   "source": [
    "(billie\n",
    "  >> ggplot(aes(\"energy\", \"valence\", color = \"acousticness\", size = \"popularity\"))\n",
    "   + geom_point()\n",
    ")"
   ]
  },
  {
   "cell_type": "markdown",
   "metadata": {
    "slideshow": {
     "slide_type": "notes"
    }
   },
   "source": [
    "Another variable you may want to include in the graph is population, represented by the pop variable in the dataset.\n",
    "\n",
    "One way to represent it is with the size of the points in the scatterplot,\n",
    "with higher popularity songs getting larger points.\n",
    "\n",
    "Just like x, y, and color, you add size = \"popularity\" within the aes parentheses.\n",
    "\n",
    "<details>\n",
    "    \n",
    "Note that to keep the length of each of the code lines reasonable, we put the size aesthetic on\n",
    "a second line, but this doesn't make any difference, and you don't have to do that in the exercises.\n",
    "You've now learned to use four aesthetics in a plot: x, y, color,\n",
    "and size: to communicate information about four variables in your dataset.\n",
    "\n",
    "</details>"
   ]
  },
  {
   "cell_type": "markdown",
   "metadata": {
    "tags": [
     "font-size-sm",
     "img-height-300"
    ]
   },
   "source": [
    "# Aesthetics with multiple geoms"
   ]
  },
  {
   "cell_type": "code",
   "execution_count": null,
   "metadata": {},
   "outputs": [],
   "source": [
    "(billie\n",
    "  >> ggplot(aes(\"energy\", \"valence\", \n",
    "                color = \"acousticness\", size = \"popularity\",\n",
    "                label = \"track_name\"))\n",
    "   + geom_point()\n",
    "   + geom_text(nudge_y = .1)\n",
    ")"
   ]
  },
  {
   "cell_type": "markdown",
   "metadata": {
    "slideshow": {
     "slide_type": "notes"
    }
   },
   "source": [
    "Notice that in this plot, the aesthetics set effect both the points and the text."
   ]
  },
  {
   "cell_type": "markdown",
   "metadata": {
    "slideshow": {
     "slide_type": "slide"
    }
   },
   "source": [
    "# Let's practice!"
   ]
  },
  {
   "cell_type": "markdown",
   "metadata": {
    "slideshow": {
     "slide_type": "notes"
    }
   },
   "source": [
    "In the exercises,\n",
    "you'll learn to mix and match aesthetics and\n",
    "variables to further explore the track features.\n"
   ]
  }
 ],
 "metadata": {
  "kernelspec": {
   "display_name": "venv-siublocks-org",
   "language": "python",
   "name": "venv-siublocks-org"
  },
  "language_info": {
   "codemirror_mode": {
    "name": "ipython",
    "version": 3
   },
   "file_extension": ".py",
   "mimetype": "text/x-python",
   "name": "python",
   "nbconvert_exporter": "python",
   "pygments_lexer": "ipython3",
   "version": "3.6.8"
  },
  "nbconvert": {
   "ExecutePreprocessor": {
    "enabled": true
   },
   "TagRemovePreprocessor": {
    "remove_input_tags": [
     "hide-input",
     "hide-cell"
    ]
   },
   "TemplateExporter": {
    "exclude_input_prompt": true,
    "exclude_output_prompt": true,
    "template_file": "tutorial/intro-data-science/slides/slides_template.j2"
   },
   "exporter": "slidessimple"
  }
 },
 "nbformat": 4,
 "nbformat_minor": 4
}
