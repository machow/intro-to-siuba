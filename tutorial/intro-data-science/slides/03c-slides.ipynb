{
 "cells": [
  {
   "cell_type": "code",
   "execution_count": null,
   "metadata": {
    "slideshow": {
     "slide_type": "skip"
    },
    "tags": [
     "hide-cell"
    ]
   },
   "outputs": [],
   "source": [
    "import pandas as pd\n",
    "from siuba import arrange, select, mutate, filter, _, group_by, summarize\n",
    "from plotnine import ggplot, geom_point, coord_flip, aes, labs, facet_wrap, expand_limits\n",
    "\n",
    "\n",
    "# temporary until I figure out where to put data\n",
    "fname = \"https://siublocks.s3.us-east-2.amazonaws.com/course-data/music200.csv\"\n",
    "music_top200 = pd.read_csv(fname)\n",
    "\n",
    "# tracks\n",
    "fname = \"https://siublocks.s3.us-east-2.amazonaws.com/course-data/track_features.csv\"\n",
    "track_features = pd.read_csv(fname)\n",
    "\n",
    "pd.set_option(\"display.max_rows\", 6)\n"
   ]
  },
  {
   "cell_type": "markdown",
   "metadata": {},
   "source": [
    "# Visualizing summarized data"
   ]
  },
  {
   "cell_type": "markdown",
   "metadata": {
    "slideshow": {
     "slide_type": "notes"
    }
   },
   "source": [
    "In this chapter you learned to use the group by and summarize verbs to summarize the music_top200 data\n",
    "by year, by continent, or by both.\n",
    "\n",
    "Now you'll learn how to turn those summaries into informative\n",
    "visualizations, by returning to the plotnine package from Chapter 2."
   ]
  },
  {
   "cell_type": "markdown",
   "metadata": {
    "slideshow": {
     "slide_type": "slide"
    }
   },
   "source": [
    "# When visualizing raw data doesn't work\n"
   ]
  },
  {
   "cell_type": "code",
   "execution_count": null,
   "metadata": {},
   "outputs": [],
   "source": [
    "(music_top200\n",
    "  >> ggplot(aes(\"position\", \"streams\", color = \"country\"))\n",
    "   + geom_point()\n",
    ")"
   ]
  },
  {
   "cell_type": "markdown",
   "metadata": {
    "slideshow": {
     "slide_type": "notes"
    }
   },
   "source": [
    "Suppose we want to look at how many streams countries have.\n",
    "We could make a scatterplot showing each track in each country, like in the plot on the slide.\n",
    "\n",
    "However, there are so many countries that it is hard to read, and half the plot is the legend that shows what color each country is."
   ]
  },
  {
   "cell_type": "markdown",
   "metadata": {
    "slideshow": {
     "slide_type": "slide"
    }
   },
   "source": [
    "# Calculating min and max streams"
   ]
  },
  {
   "cell_type": "code",
   "execution_count": null,
   "metadata": {},
   "outputs": [],
   "source": [
    "by_position = (\n",
    "  music_top200\n",
    "  >> group_by(_.position)\n",
    "  >> summarize(max_streams = _.streams.max(),\n",
    "               min_streams = _.streams.min())\n",
    ")\n",
    "by_position"
   ]
  },
  {
   "cell_type": "markdown",
   "metadata": {
    "slideshow": {
     "slide_type": "notes"
    }
   },
   "source": [
    "Rather than plotting the raw data, we can plot a summary.\n",
    "\n",
    "For example, previously we summarized data by continent and position, to find the max and min streams.\n",
    "\n",
    "Let's do that again, but instead of viewing the summarized data as a table, let's save it as an object called by_continent_position, so you can visualize the data using plotnine.\n"
   ]
  },
  {
   "cell_type": "markdown",
   "metadata": {
    "slideshow": {
     "slide_type": "slide"
    },
    "tags": [
     "font-size-sm",
     "img-height-300"
    ]
   },
   "source": [
    "# Plotting"
   ]
  },
  {
   "cell_type": "markdown",
   "metadata": {
    "tags": [
     "font-size-sm",
     "img-height-300"
    ]
   },
   "source": [
    "```python\n",
    "(by_position\n",
    "  >> ggplot(aes(\"position\", \"max_streams\"))\n",
    "   + geom_point()\n",
    "   + labs(title = \"Top 200 hits - max streams overall\")\n",
    ")\n",
    "```"
   ]
  },
  {
   "cell_type": "markdown",
   "metadata": {
    "slideshow": {
     "slide_type": "notes"
    }
   },
   "source": [
    "You would\n",
    "construct the graph with the three steps of plotnine:\n",
    "\n",
    "* The data, which is by_year.\n",
    "* The aesthetics, which puts year on the x-axis and total population on the y-axis.\n",
    "* The type of graph, which in this case is a scatter plot, represented by geom_point.\n",
    "\n",
    "Notice that the steps are the same as when you were\n",
    "graphing countries in a scatter plot, even though it's a new dataset."
   ]
  },
  {
   "cell_type": "markdown",
   "metadata": {
    "slideshow": {
     "slide_type": "slide"
    },
    "tags": [
     "font-size-sm",
     "img-height-300"
    ]
   },
   "source": [
    "# Plotting (result)"
   ]
  },
  {
   "cell_type": "code",
   "execution_count": null,
   "metadata": {},
   "outputs": [],
   "source": [
    "(by_position\n",
    "  >> ggplot(aes(\"position\", \"max_streams\"))\n",
    "   + geom_point()\n",
    "   + labs(title = \"Top 200 hits - max streams overall\")\n",
    ")"
   ]
  },
  {
   "cell_type": "markdown",
   "metadata": {
    "slideshow": {
     "slide_type": "notes"
    }
   },
   "source": [
    "The resulting graph of max streams by position, which is much easier to read than the previous plot with all the raw data.\n",
    "\n",
    "The top track is (by definition) the most streamed, with about 100 million streams!\n",
    "\n",
    "You might notice that the graph is a little misleading because it doesn't include zero:\n",
    "It's hard to get a a sense of how many streams the last position track had, since it is at the bottom of the graph.\n"
   ]
  },
  {
   "cell_type": "markdown",
   "metadata": {
    "slideshow": {
     "slide_type": "slide"
    },
    "tags": [
     "font-size-sm",
     "img-height-300"
    ]
   },
   "source": [
    "# Starting y-axis at 0"
   ]
  },
  {
   "cell_type": "markdown",
   "metadata": {},
   "source": [
    "<pre><code class=\"language-python\">(by_position\n",
    "  >> ggplot(aes(\"position\", \"max_streams\"))\n",
    "   + geom_point()\n",
    "   <mark>+ expand_limits(y = 0)</mark>\n",
    "   + labs(title = \"Top 200 hits - max streams overall\"))</code></pre>"
   ]
  },
  {
   "cell_type": "code",
   "execution_count": null,
   "metadata": {
    "tags": [
     "hide-input"
    ]
   },
   "outputs": [],
   "source": [
    "(by_position\n",
    "  >> ggplot(aes(\"position\", \"max_streams\"))\n",
    "   + geom_point()\n",
    "   + expand_limits(y = 0)\n",
    "   + labs(title = \"Top 200 hits - max streams overall\"))"
   ]
  },
  {
   "cell_type": "markdown",
   "metadata": {
    "slideshow": {
     "slide_type": "notes"
    }
   },
   "source": [
    "This is a good time to introduce another graphing option.\n",
    "By adding \"expand underscore limits y = 0\" to the end of the\n",
    "ggplot call, you can specify that you want the y-axis to start at zero.\n",
    "\n",
    "Notice that you added it to the end just like you would with facet_wrap.\n",
    "\n",
    "Now the graph makes it clearer that the top position track has over three times as many streams, as the lowest position one.\n",
    "\n",
    "You could have created other graphs of summarized data, such as a\n",
    "graph of the average streams rather than max, by changing the y aesthetic.\n"
   ]
  },
  {
   "cell_type": "markdown",
   "metadata": {
    "slideshow": {
     "slide_type": "notes"
    }
   },
   "source": [
    " "
   ]
  },
  {
   "cell_type": "markdown",
   "metadata": {
    "slideshow": {
     "slide_type": "slide"
    }
   },
   "source": [
    "# Calculating min and max streams"
   ]
  },
  {
   "cell_type": "code",
   "execution_count": null,
   "metadata": {},
   "outputs": [],
   "source": [
    "by_continent_position = (\n",
    "  music_top200\n",
    "  >> group_by(_.continent, _.position)\n",
    "  >> summarize(max_streams = _.streams.max(),\n",
    "               min_streams = _.streams.min())\n",
    ")\n",
    "by_continent_position"
   ]
  },
  {
   "cell_type": "markdown",
   "metadata": {
    "slideshow": {
     "slide_type": "notes"
    }
   },
   "source": [
    "So far you've been graphing the by-position summarized data.\n",
    "But you have also learned to summarize after grouping by both position and continent,\n",
    "to see how much countries are streaming top tracks on different continents continents."
   ]
  },
  {
   "cell_type": "markdown",
   "metadata": {
    "slideshow": {
     "slide_type": "slide"
    },
    "tags": [
     "font-size-sm",
     "img-height-300"
    ]
   },
   "source": [
    "# Visualize"
   ]
  },
  {
   "cell_type": "code",
   "execution_count": null,
   "metadata": {},
   "outputs": [],
   "source": [
    "(by_continent_position\n",
    "  >> ggplot(aes(\"position\", \"max_streams\", color = \"continent\"))\n",
    "   + geom_point()\n",
    "   + expand_limits(y = 0)\n",
    "   + labs(title = \"Top 200 hits - max streams overall\"))"
   ]
  },
  {
   "cell_type": "markdown",
   "metadata": {
    "slideshow": {
     "slide_type": "notes"
    }
   },
   "source": [
    "Since you now have data over position within each continent, you need a way to separate it in a visualization. \n",
    "\n",
    "To do that you can use the color aesthetic you learned about in chapter two.\n",
    "\n",
    "By setting color equals continent, you can show five separate trends on the same graph.\n",
    "\n",
    "This lets us see that a country in the Americas has a hit tracks with a large number of streams, while there aren't any countries in Africa doing a lot of streaming spotify hits (for more on companies competing to stream in Africa, see [this article](https://weetracker.com/2020/05/13/music-streaming-africa/))."
   ]
  },
  {
   "cell_type": "markdown",
   "metadata": {
    "slideshow": {
     "slide_type": "slide"
    }
   },
   "source": [
    "# Let's practice!"
   ]
  },
  {
   "cell_type": "markdown",
   "metadata": {
    "slideshow": {
     "slide_type": "notes"
    }
   },
   "source": [
    "You'll often combine siuba verbs and plotnine visualizations as part of an exploratory\n",
    "analysis, so it's important to get into the habit of visualizing summarized or processed data.\n",
    "\n",
    "\n",
    "Scroll down to investigate the music data with filter."
   ]
  }
 ],
 "metadata": {
  "kernelspec": {
   "display_name": "venv-siublocks-org",
   "language": "python",
   "name": "venv-siublocks-org"
  },
  "language_info": {
   "codemirror_mode": {
    "name": "ipython",
    "version": 3
   },
   "file_extension": ".py",
   "mimetype": "text/x-python",
   "name": "python",
   "nbconvert_exporter": "python",
   "pygments_lexer": "ipython3",
   "version": "3.6.8"
  },
  "nbconvert": {
   "ExecutePreprocessor": {
    "enabled": true
   },
   "TagRemovePreprocessor": {
    "remove_input_tags": [
     "hide-cell",
     "hide-input"
    ]
   },
   "TemplateExporter": {
    "exclude_input_prompt": true,
    "exclude_output_prompt": true,
    "template_file": "tutorial/intro-data-science/slides/slides_template.j2"
   },
   "exporter": "slidessimple"
  }
 },
 "nbformat": 4,
 "nbformat_minor": 4
}
