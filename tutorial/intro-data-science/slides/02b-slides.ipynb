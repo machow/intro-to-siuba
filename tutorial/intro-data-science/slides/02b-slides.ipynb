{
 "cells": [
  {
   "cell_type": "code",
   "execution_count": null,
   "metadata": {
    "slideshow": {
     "slide_type": "skip"
    },
    "tags": [
     "hide-cell"
    ]
   },
   "outputs": [],
   "source": [
    "import pandas as pd\n",
    "from siuba import arrange, select, mutate, filter, _\n",
    "from plotnine import ggplot, geom_point, geom_label, coord_flip, aes, labs, geom_text, facet_wrap, geom_line, scale_y_log10\n",
    "\n",
    "# temporary until I figure out where to put data\n",
    "fname = \"https://siublocks.s3.us-east-2.amazonaws.com/course-data/music200.csv\"\n",
    "music_top200 = pd.read_csv(fname)\n",
    "\n",
    "# tracks\n",
    "fname = \"https://siublocks.s3.us-east-2.amazonaws.com/course-data/track_features.csv\"\n",
    "track_features = pd.read_csv(fname)\n",
    "\n",
    "\n",
    "pd.set_option(\"display.max_rows\", 6)\n"
   ]
  },
  {
   "cell_type": "markdown",
   "metadata": {
    "slideshow": {
     "slide_type": "slide"
    }
   },
   "source": [
    "# Using plotnine Geoms\n"
   ]
  },
  {
   "cell_type": "code",
   "execution_count": null,
   "metadata": {
    "tags": [
     "hide-input"
    ]
   },
   "outputs": [],
   "source": [
    "billie = filter(track_features, _.artist == \"Billie Eilish\")"
   ]
  },
  {
   "cell_type": "code",
   "execution_count": null,
   "metadata": {},
   "outputs": [],
   "source": [
    "(billie\n",
    " >> ggplot(aes(\"energy\", \"valence\"))\n",
    "  + geom_point()\n",
    ")"
   ]
  },
  {
   "cell_type": "markdown",
   "metadata": {
    "slideshow": {
     "slide_type": "notes"
    }
   },
   "source": [
    "In the previous lesson,\n",
    "you created this scatter plot\n",
    "comparing the energy of each song to its valence.\n",
    "\n",
    "This plot communicates some interesting information: we can see\n",
    "that higher income countries tend to have higher life expectancy.\n",
    "\n",
    "One problem with this plot, however, is that it's impossible to tell which song is which.\n",
    "Adding labels to the point will let us identify songs in the plot."
   ]
  },
  {
   "cell_type": "markdown",
   "metadata": {
    "slideshow": {
     "slide_type": "slide"
    }
   },
   "source": [
    "# Using geom_label"
   ]
  },
  {
   "cell_type": "code",
   "execution_count": null,
   "metadata": {},
   "outputs": [],
   "source": [
    "(billie\n",
    " >> ggplot(aes(\"energy\", \"valence\", label = \"track_name\"))\n",
    "  + geom_label()\n",
    ")"
   ]
  },
  {
   "cell_type": "markdown",
   "metadata": {
    "slideshow": {
     "slide_type": "notes"
    }
   },
   "source": [
    "The first option for plotting text is using `geom_label()`. This plots the text with a filled in box around it.\n",
    "\n",
    "Unlike scanning a DataFrame of results, it's easy to see pick out songs across a range of valence and energy.\n",
    "\n",
    "For example, relative to other songs:\n",
    "\n",
    "* \"i love you\" is low valence and low energy \n",
    "* \"bad guy\" is high valence and high energy\n",
    "* \"bellyache\" is extremely high energe and a moderate amount of valence\n",
    "\n"
   ]
  },
  {
   "cell_type": "markdown",
   "metadata": {
    "slideshow": {
     "slide_type": "slide"
    }
   },
   "source": [
    "# Using geom_text"
   ]
  },
  {
   "cell_type": "code",
   "execution_count": null,
   "metadata": {},
   "outputs": [],
   "source": [
    "(billie\n",
    " >> ggplot(aes(\"energy\", \"valence\", label = \"track_name\"))\n",
    "  + geom_text()\n",
    ")"
   ]
  },
  {
   "cell_type": "markdown",
   "metadata": {
    "slideshow": {
     "slide_type": "notes"
    }
   },
   "source": [
    "A second option for plotting text is with `geom_text()`. This plots text by itself, without a background box.\n",
    "\n",
    "Notice the words in front don't cover other words as much, but it can also be harder to read them."
   ]
  },
  {
   "cell_type": "markdown",
   "metadata": {
    "slideshow": {
     "slide_type": "slide"
    }
   },
   "source": [
    "# Combining geoms"
   ]
  },
  {
   "cell_type": "code",
   "execution_count": null,
   "metadata": {},
   "outputs": [],
   "source": [
    "(billie\n",
    " >> ggplot(aes(\"energy\", \"valence\", label = \"track_name\"))\n",
    "  + geom_text(nudge_y = .1)\n",
    "  + geom_point()\n",
    ")"
   ]
  },
  {
   "cell_type": "markdown",
   "metadata": {
    "slideshow": {
     "slide_type": "notes"
    }
   },
   "source": [
    "When you plot multiple geoms--like in this plot--ggplot goes line-by-line, from top to bottom.\n",
    "\n",
    "For example, in the code here, it first puts down the words from `geom_text()`, then the points from `geom_point()`.\n",
    "\n",
    "Notice also that `geom_text()` has an option passed to it, `nudge_y = ,1`."
   ]
  },
  {
   "cell_type": "markdown",
   "metadata": {
    "slideshow": {
     "slide_type": "slide"
    }
   },
   "source": [
    "# More on geom options"
   ]
  },
  {
   "cell_type": "markdown",
   "metadata": {},
   "source": [
    "![](./plotnine-geom-doc.png)"
   ]
  },
  {
   "cell_type": "markdown",
   "metadata": {
    "slideshow": {
     "slide_type": "notes"
    }
   },
   "source": [
    "In general, there are many arguments you can pass to geoms, and different geoms can take different arguments.\n",
    "\n",
    "The easiest way to understand what arguments geoms can take, and what they do, is to look at the plotnine documentation website.\n",
    "\n",
    "Here are two useful parts of the docs:\n",
    "\n",
    "* [list of available geoms](https://plotnine.readthedocs.io/en/stable/api.html)\n",
    "* [help document on geom_text](https://plotnine.readthedocs.io/en/stable/generated/plotnine.geoms.geom_text.html#plotnine.geoms.geom_text)"
   ]
  },
  {
   "cell_type": "markdown",
   "metadata": {
    "slideshow": {
     "slide_type": "slide"
    }
   },
   "source": [
    "# Let's practice!"
   ]
  },
  {
   "cell_type": "markdown",
   "metadata": {
    "slideshow": {
     "slide_type": "notes"
    }
   },
   "source": [
    "In the exercises, you'll practice creating other scatter plots to compare variables across\n",
    "countries, and in the rest of this chapter you'll learn more ways to communicate information in a graph.\n"
   ]
  }
 ],
 "metadata": {
  "kernelspec": {
   "display_name": "venv-siublocks-org",
   "language": "python",
   "name": "venv-siublocks-org"
  },
  "language_info": {
   "codemirror_mode": {
    "name": "ipython",
    "version": 3
   },
   "file_extension": ".py",
   "mimetype": "text/x-python",
   "name": "python",
   "nbconvert_exporter": "python",
   "pygments_lexer": "ipython3",
   "version": "3.6.8"
  },
  "nbconvert": {
   "ExecutePreprocessor": {
    "enabled": true
   },
   "TagRemovePreprocessor": {
    "remove_input_tags": [
     "hide-input",
     "hide-cell"
    ]
   },
   "TemplateExporter": {
    "exclude_input_prompt": true,
    "exclude_output_prompt": true,
    "template_file": "tutorial/intro-data-science/slides/slides_template.j2"
   },
   "exporter": "slidessimple"
  }
 },
 "nbformat": 4,
 "nbformat_minor": 4
}
