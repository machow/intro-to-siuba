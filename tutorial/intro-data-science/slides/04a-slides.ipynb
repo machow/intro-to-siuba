{
 "cells": [
  {
   "cell_type": "code",
   "execution_count": null,
   "metadata": {
    "slideshow": {
     "slide_type": "skip"
    },
    "tags": [
     "hide-cell"
    ]
   },
   "outputs": [],
   "source": [
    "import pandas as pd\n",
    "from siuba import arrange, select, mutate, filter, _, group_by, summarize\n",
    "from plotnine import ggplot, geom_point, coord_flip, aes, labs, facet_wrap, expand_limits\n",
    "\n",
    "# data --------------\n",
    "from music_top200 import music_top200, track_features\n",
    "\n",
    "pd.set_option(\"display.max_rows\", 6)\n",
    "\n",
    "# remove ggplot printout\n",
    "from IPython import get_ipython\n",
    "html_formatter = get_ipython().display_formatter.formatters['text/html']\n",
    "html_formatter.for_type(ggplot, lambda g: \"\")"
   ]
  },
  {
   "cell_type": "markdown",
   "metadata": {},
   "source": [
    "# Visualizing summarized data (TODO)"
   ]
  },
  {
   "cell_type": "markdown",
   "metadata": {
    "slideshow": {
     "slide_type": "notes"
    }
   },
   "source": [
    " "
   ]
  },
  {
   "cell_type": "markdown",
   "metadata": {
    "slideshow": {
     "slide_type": "slide"
    }
   },
   "source": [
    "# Let's practice!"
   ]
  },
  {
   "cell_type": "markdown",
   "metadata": {
    "slideshow": {
     "slide_type": "notes"
    }
   },
   "source": [
    " "
   ]
  }
 ],
 "metadata": {
  "kernelspec": {
   "display_name": "venv-intro-to-siuba",
   "language": "python",
   "name": "venv-intro-to-siuba"
  },
  "language_info": {
   "codemirror_mode": {
    "name": "ipython",
    "version": 3
   },
   "file_extension": ".py",
   "mimetype": "text/x-python",
   "name": "python",
   "nbconvert_exporter": "python",
   "pygments_lexer": "ipython3",
   "version": "3.7.3"
  },
  "nbconvert": {
   "ExecutePreprocessor": {
    "enabled": true
   },
   "TagRemovePreprocessor": {
    "remove_input_tags": [
     "hide-cell",
     "hide-input"
    ]
   },
   "TemplateExporter": {
    "exclude_input_prompt": true,
    "exclude_output_prompt": true,
    "template_file": "tutorial/intro-data-science/slides/slides_template.j2"
   },
   "exporter": "slidessimple"
  }
 },
 "nbformat": 4,
 "nbformat_minor": 4
}
