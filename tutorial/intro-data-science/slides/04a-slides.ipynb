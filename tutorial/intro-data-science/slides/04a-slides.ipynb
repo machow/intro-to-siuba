{
 "cells": [
  {
   "cell_type": "code",
   "execution_count": null,
   "metadata": {
    "slideshow": {
     "slide_type": "skip"
    },
    "tags": [
     "hide-cell"
    ]
   },
   "outputs": [],
   "source": [
    "import pandas as pd\n",
    "from siuba import arrange, select, mutate, filter, _, group_by, summarize\n",
    "from plotnine import ggplot, geom_point, coord_flip, aes, labs, facet_wrap, expand_limits\n",
    "\n",
    "\n",
    "# temporary until I figure out where to put data\n",
    "fname = \"https://siublocks.s3.us-east-2.amazonaws.com/course-data/music200.csv\"\n",
    "music_top200 = pd.read_csv(fname)\n",
    "\n",
    "# tracks\n",
    "fname = \"https://siublocks.s3.us-east-2.amazonaws.com/course-data/track_features.csv\"\n",
    "track_features = pd.read_csv(fname)\n",
    "\n",
    "pd.set_option(\"display.max_rows\", 6)\n"
   ]
  },
  {
   "cell_type": "markdown",
   "metadata": {},
   "source": [
    "# Visualizing summarized data (TODO)"
   ]
  },
  {
   "cell_type": "markdown",
   "metadata": {
    "slideshow": {
     "slide_type": "notes"
    }
   },
   "source": [
    " "
   ]
  },
  {
   "cell_type": "markdown",
   "metadata": {
    "slideshow": {
     "slide_type": "slide"
    }
   },
   "source": [
    "# Let's practice!"
   ]
  },
  {
   "cell_type": "markdown",
   "metadata": {
    "slideshow": {
     "slide_type": "notes"
    }
   },
   "source": [
    " "
   ]
  }
 ],
 "metadata": {
  "kernelspec": {
   "display_name": "venv-siublocks-org",
   "language": "python",
   "name": "venv-siublocks-org"
  },
  "language_info": {
   "codemirror_mode": {
    "name": "ipython",
    "version": 3
   },
   "file_extension": ".py",
   "mimetype": "text/x-python",
   "name": "python",
   "nbconvert_exporter": "python",
   "pygments_lexer": "ipython3",
   "version": "3.6.8"
  },
  "nbconvert": {
   "ExecutePreprocessor": {
    "enabled": true
   },
   "TagRemovePreprocessor": {
    "remove_input_tags": [
     "hide-cell",
     "hide-input"
    ]
   },
   "TemplateExporter": {
    "exclude_input_prompt": true,
    "exclude_output_prompt": true,
    "template_file": "tutorial/intro-data-science/slides/slides_template.j2"
   },
   "exporter": "slidessimple"
  }
 },
 "nbformat": 4,
 "nbformat_minor": 4
}
