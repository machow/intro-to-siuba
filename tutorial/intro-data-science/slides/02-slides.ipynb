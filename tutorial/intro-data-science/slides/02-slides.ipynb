{
 "cells": [
  {
   "cell_type": "code",
   "execution_count": null,
   "metadata": {
    "slideshow": {
     "slide_type": "skip"
    },
    "tags": [
     "hide-cell"
    ]
   },
   "outputs": [],
   "source": [
    "import pandas as pd\n",
    "from siuba import arrange, select, mutate, filter, _\n",
    "from plotnine import ggplot, geom_point, coord_flip, aes, labs, geom_text, facet_wrap, geom_line, scale_y_log10\n",
    "\n",
    "# temporary until I figure out where to put data\n",
    "fname = \"https://siublocks.s3.us-east-2.amazonaws.com/course-data/music200.csv\"\n",
    "music_top200 = pd.read_csv(fname)\n",
    "\n",
    "# tracks\n",
    "fname = \"https://siublocks.s3.us-east-2.amazonaws.com/course-data/track_features.csv\"\n",
    "track_features = pd.read_csv(fname)\n",
    "\n",
    "# set options ----\n",
    "import plotnine\n",
    "\n",
    "plotnine.options.figsize = (2.4, 1.8)\n",
    "plotnine.options.dpi = 200\n",
    "\n",
    "pd.set_option(\"display.max_rows\", 6)\n"
   ]
  },
  {
   "cell_type": "markdown",
   "metadata": {
    "slideshow": {
     "slide_type": "skip"
    }
   },
   "source": [
    "* filter artist, get characteristics\n",
    "* try different combinations of characteristics--which ones seem most related?\n",
    "* diagnose error (unquoted ggplot)\n",
    "* diagnose error (verb without _)\n",
    "* plot with aesthetics\n",
    "* plot text instead\n",
    "* labs?"
   ]
  },
  {
   "cell_type": "markdown",
   "metadata": {
    "slideshow": {
     "slide_type": "skip"
    }
   },
   "source": [
    "---"
   ]
  },
  {
   "cell_type": "markdown",
   "metadata": {
    "slideshow": {
     "slide_type": "slide"
    }
   },
   "source": [
    "# Visualization with plotnine\n"
   ]
  },
  {
   "cell_type": "markdown",
   "metadata": {
    "slideshow": {
     "slide_type": "notes"
    }
   },
   "source": [
    "In the last chapter, you used the dplyr package to answer some questions about the gapminder dataset.\n",
    "\n",
    "You've been able to..\n",
    "\n",
    "* filter for particular observations.\n",
    "* arrange to find the highest or lowest values.\n",
    "* mutate to add new columns.\n",
    "\n",
    "However, most of the code so far has only printed out results as a table.\n",
    "Often a better way to understand and present this kind of data is as a graph.\n",
    "\n",
    "In this chapter, you'll learn the essential skill of data visualization using the plotnine package.\n"
   ]
  },
  {
   "cell_type": "markdown",
   "metadata": {
    "slideshow": {
     "slide_type": "slide"
    }
   },
   "source": [
    "# Visualizing with plotnine"
   ]
  },
  {
   "cell_type": "code",
   "execution_count": null,
   "metadata": {
    "tags": [
     "hide-input"
    ]
   },
   "outputs": [],
   "source": [
    "# Reverse: can you find an artist with a different relationship, or is it a general trend?\n",
    "(track_features\n",
    " >> filter(_.artist == \"Billie Eilish\")\n",
    " >> ggplot(aes(\"energy\", \"valence\", size = \"popularity\", color = \"acousticness\", label = \"track_name\"))\n",
    "  + geom_point()\n",
    "  #+ geom_text(nudge_y = .1)\n",
    "  + labs(title = \"Billie Eilish hit track features\")\n",
    ")"
   ]
  },
  {
   "cell_type": "markdown",
   "metadata": {
    "slideshow": {
     "slide_type": "notes"
    }
   },
   "source": [
    "In particular, this chapter will show you how to create scatterplots, like the one you see here.\n",
    "\n",
    "Scatterplots compare two variables on an x- and y- axis.\n",
    "\n",
    "Visualization and data wrangling are often intertwined, so you'll see how\n",
    "the siuba and plotnine packages work closely together to create informative graphs.\n"
   ]
  },
  {
   "cell_type": "markdown",
   "metadata": {
    "slideshow": {
     "slide_type": "slide"
    }
   },
   "source": [
    "# Importing plotnine"
   ]
  },
  {
   "cell_type": "markdown",
   "metadata": {},
   "source": [
    "<pre><code class=\"language-python\">\n",
    "from siuba import *\n",
    "from plotnine import *\n",
    "</code></pre>\n"
   ]
  },
  {
   "cell_type": "markdown",
   "metadata": {
    "slideshow": {
     "slide_type": "notes"
    }
   },
   "source": [
    "You'll be creating plots using the plotnine package.\n",
    "\n",
    "Just like the siuba package, you'll have to load it with `import`.\n"
   ]
  },
  {
   "cell_type": "markdown",
   "metadata": {
    "slideshow": {
     "slide_type": "slide"
    }
   },
   "source": [
    "# Variables"
   ]
  },
  {
   "cell_type": "code",
   "execution_count": null,
   "metadata": {},
   "outputs": [],
   "source": [
    "billie = (\n",
    "  track_features\n",
    "  >> filter(_.artist == \"Billie Eilish\")\n",
    ")"
   ]
  },
  {
   "cell_type": "markdown",
   "metadata": {
    "slideshow": {
     "slide_type": "notes"
    }
   },
   "source": [
    "In this chapter, you'll sometimes be visualizing subsets of the `track_features` data.\n",
    "For example, this code gets only tracks by the artist Billie Eilish.\n",
    "\n",
    "When you're working with just that subset, sometimes it's useful to save the filtered data, as a new data frame.\n",
    "\n",
    "To do this, you use the assignment operator.\n",
    "\n",
    "**Click down for a breakdown of assignment**"
   ]
  },
  {
   "cell_type": "markdown",
   "metadata": {
    "slideshow": {
     "slide_type": "subslide"
    }
   },
   "source": [
    "# Variables"
   ]
  },
  {
   "cell_type": "markdown",
   "metadata": {},
   "source": [
    "```python\n",
    "(\n",
    "  track_features\n",
    "  >> filter(_.artist == \"Billie Eilish\")\n",
    ")\n",
    "```"
   ]
  },
  {
   "cell_type": "markdown",
   "metadata": {
    "slideshow": {
     "slide_type": "notes"
    }
   },
   "source": [
    "First, write out the pipe with the filter verb.\n",
    "\n",
    "This is the same as you did in the previous chapter.\n",
    "\n",
    "Note that whether the name of the data, `track_features` is right after the `(` or on its own line, the code works the same."
   ]
  },
  {
   "cell_type": "markdown",
   "metadata": {
    "slideshow": {
     "slide_type": "subslide"
    }
   },
   "source": [
    "# Variables"
   ]
  },
  {
   "cell_type": "markdown",
   "metadata": {},
   "source": [
    "<pre><code class=\"language-python\">\n",
    "<mark>billie = </mark>(\n",
    "  track_features\n",
    "  >> filter(_.artist == \"Billie Eilish\")\n",
    ")\n",
    "</code></pre>"
   ]
  },
  {
   "cell_type": "markdown",
   "metadata": {
    "slideshow": {
     "slide_type": "notes"
    }
   },
   "source": [
    "Then, write the variable name, followed by the variable operator (an equal sign).\n",
    "\n",
    "In this case, the variable name is `billie`."
   ]
  },
  {
   "cell_type": "markdown",
   "metadata": {
    "slideshow": {
     "slide_type": "slide"
    }
   },
   "source": [
    "# Variables (result)\n",
    "\n",
    "```python\n",
    "billie\n",
    "```\n"
   ]
  },
  {
   "cell_type": "code",
   "execution_count": null,
   "metadata": {
    "tags": [
     "hide-input"
    ]
   },
   "outputs": [],
   "source": [
    "from IPython.display import HTML\n",
    "with pd.option_context('display.max_colwidth', 15):\n",
    "    display(HTML(billie._repr_html_()))"
   ]
  },
  {
   "cell_type": "markdown",
   "metadata": {
    "slideshow": {
     "slide_type": "notes"
    }
   },
   "source": [
    "Now if you print the `billie` dataset, we can see that it's another table.\n",
    "\n",
    "But this one has only 27 rows: one for each track by Billie Eilish in the original data."
   ]
  },
  {
   "cell_type": "markdown",
   "metadata": {
    "slideshow": {
     "slide_type": "slide"
    },
    "tags": [
     "font-size-sm",
     "img-height-300"
    ]
   },
   "source": [
    "# Visualizing with plotnine"
   ]
  },
  {
   "cell_type": "code",
   "execution_count": null,
   "metadata": {},
   "outputs": [],
   "source": [
    "(billie\n",
    " >> ggplot(aes(\"energy\", \"valence\"))\n",
    "  + geom_point()\n",
    "  + labs(title = \"Billie Eilish hit track features\")\n",
    ")"
   ]
  },
  {
   "cell_type": "markdown",
   "metadata": {
    "slideshow": {
     "slide_type": "notes"
    }
   },
   "source": [
    "Suppose you want to examine the energy and valence of Billie Eilish's songs.\n",
    "\n",
    "You could do this with a scatterplot comparing two variables in our\n",
    "track_features dataset: energy on the x-axis and valence on the y-axis.\n",
    "\n",
    "There are three parts to a plotnine graph.\n",
    "\n",
    "**(Click the down button to see a breakdown of the code)**"
   ]
  },
  {
   "cell_type": "markdown",
   "metadata": {
    "slideshow": {
     "slide_type": "subslide"
    },
    "tags": [
     "font-size-sm"
    ]
   },
   "source": [
    "# Visualizing with plotnine"
   ]
  },
  {
   "cell_type": "markdown",
   "metadata": {},
   "source": [
    "<pre><code class=\"language-python\">(<mark>billie</mark>\n",
    " >> ggplot(aes(\"energy\", \"valence\"))\n",
    "  + geom_point()\n",
    "  + labs(title = \"Billie Eilish hit track features\")  \n",
    ")\n",
    "</code></pre>"
   ]
  },
  {
   "cell_type": "markdown",
   "metadata": {
    "slideshow": {
     "slide_type": "notes"
    }
   },
   "source": [
    "First is the data that we're visualizing.\n",
    "In this case, that is the `billie` variable you just created."
   ]
  },
  {
   "cell_type": "markdown",
   "metadata": {
    "slideshow": {
     "slide_type": "subslide"
    },
    "tags": [
     "font-size-sm"
    ]
   },
   "source": [
    "# Visualizing with plotnine"
   ]
  },
  {
   "cell_type": "markdown",
   "metadata": {},
   "source": [
    "<pre><code class=\"language-python\">(billie\n",
    " >> ggplot(<mark>aes(\"energy\", \"valence\")</mark>)\n",
    "  + geom_point()\n",
    "  + labs(title = \"Billie Eilish hit track features\")\n",
    ")\n",
    "</code></pre>"
   ]
  },
  {
   "cell_type": "markdown",
   "metadata": {
    "slideshow": {
     "slide_type": "notes"
    }
   },
   "source": [
    "Second is the mapping of variables in your dataset to aesthetics in your graph.\n",
    "\n",
    "An aesthetic is a visual dimension of a graph that can be used to communicate information.\n",
    "\n",
    "In a scatterplot, your two dimensions are the x axis and the y axis, so you write aes (for\n",
    "\"aesthetic\"), parentheses, x equals gdpPerCap, y = lifeExp, telling it which variables to place on which axes.\n"
   ]
  },
  {
   "cell_type": "markdown",
   "metadata": {
    "slideshow": {
     "slide_type": "subslide"
    },
    "tags": [
     "font-size-sm"
    ]
   },
   "source": [
    "# Visualizing with plotnine"
   ]
  },
  {
   "cell_type": "markdown",
   "metadata": {},
   "source": [
    "<pre><code class=\"language-python\">(billie\n",
    " >> ggplot(aes(\"energy\", \"valence\"))\n",
    "  <mark>+ geom_point()</mark>\n",
    "  + labs(title = \"Billie Eilish hit track features\")\n",
    ")\n",
    "</code></pre>"
   ]
  },
  {
   "cell_type": "markdown",
   "metadata": {
    "slideshow": {
     "slide_type": "notes"
    }
   },
   "source": [
    "The third step is specifying the type of graph you're creating.\n",
    "You do that by adding a layer to the graph: use a plus after the ggplot, and then geom underscore point.\n",
    "\n",
    "The \"geom\" means you're adding a type of geometric object to the graph, the\n",
    "\"point\" indicates it's a scatter plot, where each observation corresponds to one point.\n",
    "\n",
    "Together, these three parts of the code--the data, the\n",
    "aesthetic mapping, and the layer--construct the scatter plot you see here.\n"
   ]
  },
  {
   "cell_type": "markdown",
   "metadata": {
    "slideshow": {
     "slide_type": "slide"
    }
   },
   "source": [
    "# Let's practice!"
   ]
  },
  {
   "cell_type": "markdown",
   "metadata": {
    "slideshow": {
     "slide_type": "notes"
    }
   },
   "source": [
    "Scroll down to get started with practice!"
   ]
  }
 ],
 "metadata": {
  "kernelspec": {
   "display_name": "venv-siublocks-org",
   "language": "python",
   "name": "venv-siublocks-org"
  },
  "language_info": {
   "codemirror_mode": {
    "name": "ipython",
    "version": 3
   },
   "file_extension": ".py",
   "mimetype": "text/x-python",
   "name": "python",
   "nbconvert_exporter": "python",
   "pygments_lexer": "ipython3",
   "version": "3.6.8"
  },
  "nbconvert": {
   "ExecutePreprocessor": {
    "enabled": true
   },
   "TagRemovePreprocessor": {
    "remove_input_tags": [
     "hide-input",
     "hide-cell"
    ]
   },
   "TemplateExporter": {
    "exclude_input_prompt": true,
    "exclude_output_prompt": true,
    "template_file": "tutorial/intro-data-science/slides/slides_template.j2"
   },
   "exporter": "slidessimple"
  }
 },
 "nbformat": 4,
 "nbformat_minor": 4
}
