{
 "cells": [
  {
   "cell_type": "code",
   "execution_count": null,
   "metadata": {
    "slideshow": {
     "slide_type": "skip"
    },
    "tags": [
     "hide-cell"
    ]
   },
   "outputs": [],
   "source": [
    "import pandas as pd\n",
    "from siuba import arrange, select, mutate, filter, summarize, _\n",
    "from plotnine import ggplot, geom_point, coord_flip, aes, labs, facet_wrap\n",
    "\n",
    "\n",
    "# temporary until I figure out where to put data\n",
    "fname = \"https://siublocks.s3.us-east-2.amazonaws.com/course-data/music200.csv\"\n",
    "music_top200 = pd.read_csv(fname)\n",
    "\n",
    "# tracks\n",
    "fname = \"https://siublocks.s3.us-east-2.amazonaws.com/course-data/track_features.csv\"\n",
    "track_features = pd.read_csv(fname)\n",
    "\n",
    "pd.set_option(\"display.max_rows\", 6)\n"
   ]
  },
  {
   "cell_type": "markdown",
   "metadata": {
    "slideshow": {
     "slide_type": "slide"
    }
   },
   "source": [
    "# Summarizing data\n"
   ]
  },
  {
   "cell_type": "markdown",
   "metadata": {
    "slideshow": {
     "slide_type": "notes"
    }
   },
   "source": [
    "In this chapter, you'll return to the topic of data transformation with siuba to learn more ways to explore your data."
   ]
  },
  {
   "cell_type": "markdown",
   "metadata": {
    "slideshow": {
     "slide_type": "slide"
    }
   },
   "source": [
    "# Data analysis"
   ]
  },
  {
   "cell_type": "markdown",
   "metadata": {},
   "source": [
    "![](model-workflow.png)"
   ]
  },
  {
   "cell_type": "markdown",
   "metadata": {
    "slideshow": {
     "slide_type": "notes"
    }
   },
   "source": [
    "Analyses will usually involve a cycle between these steps of data transformation and visualization, as well as additional components of the data science workflow, like modeling (that this course won't focus on).\n"
   ]
  },
  {
   "cell_type": "markdown",
   "metadata": {
    "slideshow": {
     "slide_type": "slide"
    }
   },
   "source": [
    "# Extracting data"
   ]
  },
  {
   "cell_type": "code",
   "execution_count": null,
   "metadata": {},
   "outputs": [],
   "source": [
    "(music_top200\n",
    "  >> filter(_.country == \"Japan\", _.position == 1)\n",
    ")"
   ]
  },
  {
   "cell_type": "markdown",
   "metadata": {
    "slideshow": {
     "slide_type": "notes"
    }
   },
   "source": [
    "You've learned to use the\n",
    "filter verb to pull out individual\n",
    "observations, such as the track in the first position for Japan.\n",
    "\n",
    "Notice that the track's duration is about 280 seconds.\n",
    "Is this is shorter or longer than the average track.\n",
    "\n",
    "You'll learn to answer this question by summarizing many observations into a single data point."
   ]
  },
  {
   "cell_type": "markdown",
   "metadata": {
    "slideshow": {
     "slide_type": "slide"
    }
   },
   "source": [
    "# The summarize verb"
   ]
  },
  {
   "cell_type": "markdown",
   "metadata": {},
   "source": [
    "![](./model-summarize.png)"
   ]
  },
  {
   "cell_type": "code",
   "execution_count": null,
   "metadata": {},
   "outputs": [],
   "source": [
    "(music_top200\n",
    "  >> summarize(avg_duration = _.duration.mean())\n",
    ")"
   ]
  },
  {
   "cell_type": "markdown",
   "metadata": {
    "slideshow": {
     "slide_type": "notes"
    }
   },
   "source": [
    "You might want to know if the 280 seconds we saw is longer than the average track across all countries.\n",
    "\n",
    "You would do this with the summarize verb. Notice that summarize collapses the entire table down into one row.\n",
    "\n",
    "In the output, we see the answer to our question: mean (or average) duration was around 205 seconds.\n",
    "\n",
    "\n",
    "**(Click down for a breakdown of the code)**"
   ]
  },
  {
   "cell_type": "markdown",
   "metadata": {
    "slideshow": {
     "slide_type": "subslide"
    }
   },
   "source": [
    "# The summarize verb"
   ]
  },
  {
   "cell_type": "markdown",
   "metadata": {},
   "source": [
    "![](./model-summarize.png)"
   ]
  },
  {
   "cell_type": "markdown",
   "metadata": {},
   "source": [
    "<pre><code class=\"language-python\">(music_top200\n",
    "  >> summarize(<mark>avg_duration =</mark> _.duration.mean())\n",
    ")</code></pre>"
   ]
  },
  {
   "cell_type": "code",
   "execution_count": null,
   "metadata": {
    "tags": [
     "hide-input"
    ]
   },
   "outputs": [],
   "source": [
    "(music_top200\n",
    "  >> summarize(avg_duration = _.duration.mean())\n",
    ")"
   ]
  },
  {
   "cell_type": "markdown",
   "metadata": {
    "slideshow": {
     "slide_type": "notes"
    }
   },
   "source": [
    "Take your `music_top200` data, pipe it into summarize.\n",
    "\n",
    "Then, specify that you're creating a summary column called avg_duration.\n",
    "\n",
    "Notice that the highlighted code is similar to when created a new column with the mutate verb."
   ]
  },
  {
   "cell_type": "markdown",
   "metadata": {
    "slideshow": {
     "slide_type": "subslide"
    }
   },
   "source": [
    "# The summarize verb"
   ]
  },
  {
   "cell_type": "markdown",
   "metadata": {},
   "source": [
    "![](./model-summarize.png)"
   ]
  },
  {
   "cell_type": "markdown",
   "metadata": {},
   "source": [
    "<pre><code class=\"language-python\">(music_top200\n",
    "  >> summarize(avg_duration = _.duration<mark>.mean()</mark>)\n",
    ")</code></pre>"
   ]
  },
  {
   "cell_type": "code",
   "execution_count": null,
   "metadata": {
    "tags": [
     "hide-input"
    ]
   },
   "outputs": [],
   "source": [
    "(music_top200\n",
    "  >> summarize(avg_duration = _.duration.mean())\n",
    ")"
   ]
  },
  {
   "cell_type": "markdown",
   "metadata": {
    "slideshow": {
     "slide_type": "notes"
    }
   },
   "source": [
    "The \"duration dot mean, followed by open and close parentheses\" is worth examining.\n",
    "\n",
    "This is calling the **method** mean on the variable duration.\n",
    "The mean method calculates the average of a set of values."
   ]
  },
  {
   "cell_type": "markdown",
   "metadata": {
    "slideshow": {
     "slide_type": "slide"
    }
   },
   "source": [
    "# Summarizing one country"
   ]
  },
  {
   "cell_type": "code",
   "execution_count": null,
   "metadata": {},
   "outputs": [],
   "source": [
    "(music_top200\n",
    "  >> filter(_.country == \"Japan\")\n",
    "  >> summarize(avg_duration = _.duration.mean())\n",
    ")"
   ]
  },
  {
   "cell_type": "markdown",
   "metadata": {
    "slideshow": {
     "slide_type": "notes"
    }
   },
   "source": [
    "If you think about it, it doesn't really make sense to summarize across all countries.\n",
    "It may make more sense to ask compare our track to averages in the same country: Japan.\n",
    "\n",
    "To answer this, you can combine the summarize verb with filter:\n",
    "filter your data for a particular country first, then summarize the result.\n",
    "This shows you that the average track duration in the Japan top 200 chart was about 250 seconds.\n"
   ]
  },
  {
   "cell_type": "markdown",
   "metadata": {
    "slideshow": {
     "slide_type": "slide"
    }
   },
   "source": [
    "# Summarizing into multiple columns"
   ]
  },
  {
   "cell_type": "code",
   "execution_count": null,
   "metadata": {},
   "outputs": [],
   "source": [
    "(music_top200\n",
    "  >> filter(_.country == \"Japan\")\n",
    "  >> summarize(\n",
    "      avg_duration = _.duration.mean(),\n",
    "      ttl_streams = _.streams.sum()\n",
    "  )\n",
    ")"
   ]
  },
  {
   "cell_type": "markdown",
   "metadata": {
    "slideshow": {
     "slide_type": "notes"
    }
   },
   "source": [
    "You can create multiple summaries at once with the summarize verb.\n",
    "\n",
    "For example, suppose that along with finding the average track duration in Japan,\n",
    "you want to find their chart's total streams.\n",
    "\n",
    "To do that, add a comma after the mean of the duration.\n",
    "Then, specify another column you're creating.\n",
    "\n",
    "You could give it a useful name like ttl_streams, and say that it's\n",
    "equal to the sum--that's another built-in function--of the pop variable."
   ]
  },
  {
   "cell_type": "markdown",
   "metadata": {
    "slideshow": {
     "slide_type": "slide"
    }
   },
   "source": [
    "# Methods for summarizing\n",
    "\n",
    "E.g. `_.some_column.mean()`\n",
    "\n",
    "* `.mean()`\n",
    "* `.sum()`\n",
    "* `.median()`\n",
    "* `.min()`\n",
    "* `.max()`\n"
   ]
  },
  {
   "cell_type": "markdown",
   "metadata": {
    "slideshow": {
     "slide_type": "notes"
    }
   },
   "source": [
    "The mean and sum are just two methods you could use to summarize a variable within a dataset.\n",
    "\n",
    "Another example is median: the median represents\n",
    "the point in a set of numbers where half the numbers are above that point and half of the numbers are below.\n",
    "\n",
    "Two others are min, for minimum, and max, for maximum.\n",
    "\n",
    "In the exercises, you'll use several of these functions to answer questions about the `music_top200` dataset.\n"
   ]
  },
  {
   "cell_type": "markdown",
   "metadata": {
    "slideshow": {
     "slide_type": "slide"
    }
   },
   "source": [
    "# Let's practice!"
   ]
  },
  {
   "cell_type": "markdown",
   "metadata": {
    "slideshow": {
     "slide_type": "notes"
    }
   },
   "source": []
  }
 ],
 "metadata": {
  "kernelspec": {
   "display_name": "venv-siublocks-org",
   "language": "python",
   "name": "venv-siublocks-org"
  },
  "language_info": {
   "codemirror_mode": {
    "name": "ipython",
    "version": 3
   },
   "file_extension": ".py",
   "mimetype": "text/x-python",
   "name": "python",
   "nbconvert_exporter": "python",
   "pygments_lexer": "ipython3",
   "version": "3.6.8"
  },
  "nbconvert": {
   "ExecutePreprocessor": {
    "enabled": true
   },
   "TagRemovePreprocessor": {
    "remove_input_tags": [
     "hide-cell",
     "hide-input"
    ]
   },
   "TemplateExporter": {
    "exclude_input_prompt": true,
    "exclude_output_prompt": true,
    "template_file": "tutorial/intro-data-science/slides/slides_template.j2"
   },
   "exporter": "slidessimple"
  }
 },
 "nbformat": 4,
 "nbformat_minor": 4
}
