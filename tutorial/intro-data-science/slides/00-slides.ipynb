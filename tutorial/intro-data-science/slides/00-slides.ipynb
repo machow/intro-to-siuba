{
 "cells": [
  {
   "cell_type": "code",
   "execution_count": null,
   "metadata": {
    "slideshow": {
     "slide_type": "skip"
    },
    "tags": [
     "hide-cell"
    ]
   },
   "outputs": [],
   "source": [
    "import pandas as pd\n",
    "from siuba import arrange, select, mutate, filter, _\n",
    "from plotnine import ggplot, geom_point, coord_flip, aes, labs, geom_text\n",
    "\n",
    "\n",
    "# temporary until I figure out where to put data\n",
    "fname = \"https://siublocks.s3.us-east-2.amazonaws.com/course-data/music200.csv\"\n",
    "music_top200 = pd.read_csv(fname)\n",
    "\n",
    "# tracks\n",
    "fname = \"https://siublocks.s3.us-east-2.amazonaws.com/course-data/track_features.csv\"\n",
    "track_features = pd.read_csv(fname)\n",
    "\n",
    "pd.set_option(\"display.max_rows\", 6)\n",
    "\n",
    "\n"
   ]
  },
  {
   "cell_type": "markdown",
   "metadata": {
    "slideshow": {
     "slide_type": "slide"
    }
   },
   "source": [
    "# Introduction to siuba"
   ]
  },
  {
   "cell_type": "markdown",
   "metadata": {
    "slideshow": {
     "slide_type": "notes"
    }
   },
   "source": [
    "Hi, I'm Michael--the creator of siuba, a library for data analysis in Python.\n",
    "\n",
    "In this course, you'll use Python to explore and visualize data.\n",
    "\n",
    "The course is designed for people who have never programmed before,\n",
    "and anyone interested in siuba!\n",
    "\n"
   ]
  },
  {
   "cell_type": "markdown",
   "metadata": {
    "slideshow": {
     "slide_type": "slide"
    }
   },
   "source": [
    "# Data Analysis\n",
    "\n",
    "![](model-workflow.png)"
   ]
  },
  {
   "cell_type": "markdown",
   "metadata": {
    "slideshow": {
     "slide_type": "notes"
    }
   },
   "source": [
    "Data analysis is the act of using data to produce effective communication.\n",
    "Communication that leads to meaningful action.\n",
    "\n",
    "In this course, we'll focus on one area of data analysis where siuba shines: transforming data.\n",
    "\n",
    "We'll also combine siuba with a library called plotnine to visualize data. Together, these libraries make a powerful combo."
   ]
  },
  {
   "cell_type": "markdown",
   "metadata": {
    "slideshow": {
     "slide_type": "slide"
    }
   },
   "source": [
    "# Meet the data: Spotify top 200\n",
    "\n",
    "![](spotify_site.png)"
   ]
  },
  {
   "cell_type": "markdown",
   "metadata": {
    "slideshow": {
     "slide_type": "notes"
    }
   },
   "source": [
    "We'll use data that Spotify publishes every week on the 200 most streamed songs, in 62 different countries.\n",
    "\n",
    "You can check it out on <a href=\"https://spotifycharts.com/regional/global/weekly/latest\" target =\"_blank\">spotifycharts.com</a>"
   ]
  },
  {
   "cell_type": "markdown",
   "metadata": {
    "slideshow": {
     "slide_type": "slide"
    }
   },
   "source": [
    "# Meet the data: Spotify top 200"
   ]
  },
  {
   "cell_type": "code",
   "execution_count": null,
   "metadata": {},
   "outputs": [],
   "source": [
    "music_top200"
   ]
  },
  {
   "cell_type": "markdown",
   "metadata": {
    "slideshow": {
     "slide_type": "notes"
    }
   },
   "source": [
    "The data we'll use is held in a **DataFrame**. A DataFrame is a big table of data, made up of rows and columns. In the example below, the **variable** called `music_top200` lets us refer to and work on the data.\n",
    "\n",
    "Notice that in the bottom-left of the table, it shows the number of rows and columns. This data has 12,000 rows and 6 columns.\n"
   ]
  },
  {
   "cell_type": "markdown",
   "metadata": {
    "section": "data-transition=\"none-in slide-out\"",
    "slideshow": {
     "slide_type": "subslide"
    }
   },
   "source": [
    "# Meet the data: Spotify top 200"
   ]
  },
  {
   "cell_type": "markdown",
   "metadata": {
    "tags": [
     "hide-output"
    ]
   },
   "source": [
    "```python\n",
    "music_top200\n",
    "```"
   ]
  },
  {
   "cell_type": "code",
   "execution_count": null,
   "metadata": {
    "tags": [
     "hide-input"
    ]
   },
   "outputs": [],
   "source": [
    "from IPython.display import HTML\n",
    "\n",
    "styles = \"\"\"\n",
    "<style>\n",
    "table.dataframe.slides-df__highlight1 tr:nth-child(2) {\n",
    "    background-color: yellow;\n",
    "}\n",
    "</style>\n",
    "\"\"\"\n",
    "HTML(styles + \"\\n\\n\" + music_top200.to_html(max_rows = 6, classes=\"slides-df__highlight1\"))"
   ]
  },
  {
   "cell_type": "markdown",
   "metadata": {
    "slideshow": {
     "slide_type": "notes"
    }
   },
   "source": [
    "Every observation--or row--in the DataFrame is a track in the top 200 for a country.\n",
    "\n",
    "For example, in the highlighted code is the track in position 2 (second most streamed) in Argentina. The track name is Tattoo, and has been streamed 1,344,382 times, and is 202 seconds long!"
   ]
  },
  {
   "cell_type": "markdown",
   "metadata": {
    "slideshow": {
     "slide_type": "slide"
    }
   },
   "source": [
    "# Meet the data: Spotify song features\n",
    "\n",
    "<div style=\"width: 70%\">\n",
    "    \n",
    "![](plot-weeknd-features.png)\n",
    "\n",
    "</div>"
   ]
  },
  {
   "cell_type": "markdown",
   "metadata": {
    "slideshow": {
     "slide_type": "notes"
    }
   },
   "source": [
    "Later in the course, we'll look at measures Spotify calculates for each song.\n",
    "\n",
    "Their measures for a song include:\n",
    "\n",
    "* energy\n",
    "* valence (how happy or positive)\n",
    "* danceability\n",
    "* speechiness\n",
    "* acousticness"
   ]
  },
  {
   "cell_type": "markdown",
   "metadata": {
    "raw_mimetype": "text/html",
    "slideshow": {
     "slide_type": "slide"
    }
   },
   "source": [
    "# Data Analysis\n",
    "\n",
    "<div>\n",
    "<style scoped>\n",
    ".container{\n",
    "    display: flex;\n",
    "}\n",
    ".col{\n",
    "    flex: 1;\n",
    "    height: 450px;\n",
    "}\n",
    "img {\n",
    "    max-height: 50%;\n",
    "}\n",
    "</style>\n",
    "\n",
    "<div class=\"container\" height=\"450px\">\n",
    "\n",
    "<div class=\"col\" width=\"50%\">\n",
    "<img src=\"plot-line.png\">\n",
    "<img src=\"plot-hist.png\">\n",
    "\n",
    "</div>\n",
    "\n",
    "<div class=\"col\" width=\"50%\">\n",
    "<img src=\"plot-point.png\">\n",
    "<img src=\"plot-box.png\">\n",
    "\n",
    "</div>\n",
    "\n",
    "</div>\n",
    "</div>\n",
    "    \n"
   ]
  },
  {
   "cell_type": "markdown",
   "metadata": {
    "slideshow": {
     "slide_type": "notes"
    }
   },
   "source": [
    "The skills you'll build doing transformation and visualization in this course will allow you to start analyzing your own data.\n",
    "\n",
    "The course is interactive: between short lessons you'll complete interactive exercises by typing your own code.\n"
   ]
  },
  {
   "cell_type": "markdown",
   "metadata": {
    "slideshow": {
     "slide_type": "slide"
    }
   },
   "source": [
    "# How code is structured"
   ]
  },
  {
   "cell_type": "code",
   "execution_count": null,
   "metadata": {},
   "outputs": [],
   "source": [
    "(track_features\n",
    "  >> filter(_.artist == \"The Weeknd\")\n",
    "  >> ggplot(aes(\"energy\", \"valence\"))\n",
    "   + geom_point()\n",
    ")"
   ]
  },
  {
   "cell_type": "markdown",
   "metadata": {
    "slideshow": {
     "slide_type": "notes"
    }
   },
   "source": [
    "Here's an example of plotting the energy and valence of tracks by The Weeknd. Each point is a single track (for example, the song \"Blinding Lights\").\n",
    "\n",
    "The top line of the code is the data. Every additional line is an action applied to the data.\n",
    "\n",
    "**Click down to see what each line of code does.**"
   ]
  },
  {
   "cell_type": "markdown",
   "metadata": {
    "section": "data-transition=\"none-in none-out\"",
    "slideshow": {
     "slide_type": "subslide"
    }
   },
   "source": [
    "# How code is structured"
   ]
  },
  {
   "cell_type": "code",
   "execution_count": null,
   "metadata": {},
   "outputs": [],
   "source": [
    "(track_features\n",
    "  >> filter(_.artist == \"The Weeknd\")\n",
    "\n",
    " \n",
    ")"
   ]
  },
  {
   "cell_type": "markdown",
   "metadata": {
    "slideshow": {
     "slide_type": "notes"
    }
   },
   "source": [
    "The first action is filtering the data, to keep only observations (rows) where `artist` is The Weeknd.\n",
    "\n",
    "Don't worry to much about the details for now. Filter is the first thing you'll learn, once you start the first chapter!"
   ]
  },
  {
   "cell_type": "markdown",
   "metadata": {
    "section": "data-transition=\"none-in none-out\"",
    "slideshow": {
     "slide_type": "subslide"
    }
   },
   "source": [
    "# How code is structured"
   ]
  },
  {
   "cell_type": "code",
   "execution_count": null,
   "metadata": {},
   "outputs": [],
   "source": [
    "(track_features\n",
    "  >> filter(_.artist == \"The Weeknd\")\n",
    "  >> ggplot(aes(\"energy\", \"valence\"))\n",
    " \n",
    ")"
   ]
  },
  {
   "cell_type": "markdown",
   "metadata": {
    "slideshow": {
     "slide_type": "notes"
    }
   },
   "source": [
    "The next action, `ggplot(...)`, gets ready to make a plot, based on the data in the previous step."
   ]
  },
  {
   "cell_type": "markdown",
   "metadata": {
    "section": "data-transition=\"none-in slide-out\"",
    "slideshow": {
     "slide_type": "subslide"
    }
   },
   "source": [
    "# How code is structured"
   ]
  },
  {
   "cell_type": "code",
   "execution_count": null,
   "metadata": {},
   "outputs": [],
   "source": [
    "(track_features\n",
    "  >> filter(_.artist == \"The Weeknd\")\n",
    "  >> ggplot(aes(\"energy\", \"valence\"))\n",
    "   + geom_point()\n",
    ")"
   ]
  },
  {
   "cell_type": "markdown",
   "metadata": {
    "slideshow": {
     "slide_type": "notes"
    }
   },
   "source": [
    "Finally, `geom_point()` adds points to the plot. Each point comes from a row of data.\n",
    "\n",
    "So in this case each point is a track by The Weeknd."
   ]
  },
  {
   "cell_type": "markdown",
   "metadata": {
    "slideshow": {
     "slide_type": "slide"
    }
   },
   "source": [
    "# Let's practice!\n",
    "\n",
    "<video width=\"500\" data-autoplay loop controls src=\"./siuba-intro-controls-500px.mp4\" />"
   ]
  },
  {
   "cell_type": "markdown",
   "metadata": {
    "slideshow": {
     "slide_type": "notes"
    }
   },
   "source": [
    "For the practice below, you'll get to explore the two datasets by testing out different options.\n",
    "\n",
    "This is to make sure you get the big picture, before we dive into the specifics of how each piece of code works!"
   ]
  }
 ],
 "metadata": {
  "kernelspec": {
   "display_name": "venv-siublocks-org",
   "language": "python",
   "name": "venv-siublocks-org"
  },
  "language_info": {
   "codemirror_mode": {
    "name": "ipython",
    "version": 3
   },
   "file_extension": ".py",
   "mimetype": "text/x-python",
   "name": "python",
   "nbconvert_exporter": "python",
   "pygments_lexer": "ipython3",
   "version": "3.6.8"
  },
  "nbconvert": {
   "ExecutePreprocessor": {
    "enabled": true
   },
   "TagRemovePreprocessor": {
    "remove_all_outputs_tags": [
     "hide-output"
    ],
    "remove_input_tags": [
     "hide-input",
     "hide-cell"
    ]
   },
   "TemplateExporter": {
    "exclude_input_prompt": true,
    "exclude_output_prompt": true,
    "template_file": "/Users/machow/Dropbox/Repo/siublocks-org/purview/tutorial/intro-data-science/slides/slides_template.j2"
   },
   "exporter": "slidessimple"
  }
 },
 "nbformat": 4,
 "nbformat_minor": 4
}
