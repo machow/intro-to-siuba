{
 "cells": [
  {
   "cell_type": "code",
   "execution_count": null,
   "metadata": {
    "slideshow": {
     "slide_type": "slide"
    },
    "tags": [
     "hide-cell"
    ]
   },
   "outputs": [],
   "source": [
    "import pandas as pd\n",
    "from siuba import arrange, select, mutate, filter, _\n",
    "from plotnine import ggplot, geom_point, coord_flip, aes, labs\n",
    "\n",
    "\n",
    "# temporary until I figure out where to put data\n",
    "fname = \"https://siublocks.s3.us-east-2.amazonaws.com/course-data/music200.csv\"\n",
    "music_top200 = pd.read_csv(fname)\n",
    "\n",
    "# tracks\n",
    "fname = \"https://siublocks.s3.us-east-2.amazonaws.com/course-data/track_features.csv\"\n",
    "track_features = pd.read_csv(fname)\n",
    "\n",
    "pd.set_option(\"display.max_rows\", 6)\n"
   ]
  },
  {
   "cell_type": "markdown",
   "metadata": {},
   "source": [
    "# The filter verb\n"
   ]
  },
  {
   "cell_type": "markdown",
   "metadata": {
    "slideshow": {
     "slide_type": "notes"
    }
   },
   "source": [
    "Now that you've seen some code in action on the music data, we'll focus on writing your own code.\n",
    "\n",
    "In this chapter, you'll learn about the \"verbs\" in the siuba package. The first verb you'll use is filter."
   ]
  },
  {
   "cell_type": "markdown",
   "metadata": {
    "slideshow": {
     "slide_type": "slide"
    }
   },
   "source": [
    "# The filter verb\n",
    "\n",
    "![](model-filter.png)"
   ]
  },
  {
   "cell_type": "markdown",
   "metadata": {
    "slideshow": {
     "slide_type": "notes"
    }
   },
   "source": [
    "You use filter when you want to keep only at a subset of your observations, based on a particular condition.\n",
    "\n",
    "Filtering data is a common first step in an analysis."
   ]
  },
  {
   "cell_type": "markdown",
   "metadata": {
    "section": "data-transition=\"slide-in none-out\"",
    "slideshow": {
     "slide_type": "slide"
    }
   },
   "source": [
    "## Filter for top songs"
   ]
  },
  {
   "cell_type": "markdown",
   "metadata": {},
   "source": [
    "```python\n",
    "(music_top200\n",
    "  >> filter(_.position == 1)\n",
    ")\n",
    "```"
   ]
  },
  {
   "cell_type": "markdown",
   "metadata": {
    "slideshow": {
     "slide_type": "notes"
    }
   },
   "source": [
    "Every time you apply a verb, you'll use a pipe.\n",
    "A pipe is a block of commands, surrounded by parentheses.\n",
    "\n",
    "For example, let's say we want to keep only songs in the first position on the music charts.\n",
    "This is done by using the pipe shown on the slide.\n",
    "\n",
    "**Click the down arrow** on the slideshow to see broken into 3 steps:\n",
    "\n",
    "1. start the block\n",
    "2. write the pipe operator and verb name\n",
    "3. write the operation"
   ]
  },
  {
   "cell_type": "markdown",
   "metadata": {
    "section": "data-transition=\"none-in none-out\"",
    "slideshow": {
     "slide_type": "subslide"
    }
   },
   "source": [
    "## Filter step 1: start the block\n",
    "\n",
    "```python\n",
    "(music_top200\n",
    "\n",
    ")\n",
    "```"
   ]
  },
  {
   "cell_type": "markdown",
   "metadata": {
    "slideshow": {
     "slide_type": "notes"
    }
   },
   "source": [
    "A block is written with opening and closing parentheses, and the name of your data in the middle.\n",
    "\n",
    "Press enter twice after the name of your data, to make an empty line."
   ]
  },
  {
   "cell_type": "markdown",
   "metadata": {
    "section": "data-transition=\"none-in none-out\"",
    "slideshow": {
     "slide_type": "subslide"
    }
   },
   "source": [
    "## Filter step 2: pipe operator and verb name\n",
    "\n",
    "```python\n",
    "(music_top200\n",
    "  >> filter()\n",
    ")\n",
    "```"
   ]
  },
  {
   "cell_type": "markdown",
   "metadata": {
    "slideshow": {
     "slide_type": "notes"
    }
   },
   "source": [
    "Next, write a pipe operator using two greater than signs.\n",
    "It says \"take whatever is before the pipe operator, and feed it into the next step.\"\n",
    "\n",
    "In this case, the next step will be filter."
   ]
  },
  {
   "cell_type": "markdown",
   "metadata": {
    "section": "data-transition=\"none-in none-out\"",
    "slideshow": {
     "slide_type": "subslide"
    }
   },
   "source": [
    "## Filter step 3: write the operation\n",
    "\n",
    "```python\n",
    "(music_top200\n",
    "  >> filter(_.position == 1)\n",
    ")\n",
    "```\n"
   ]
  },
  {
   "cell_type": "markdown",
   "metadata": {
    "slideshow": {
     "slide_type": "notes"
    }
   },
   "source": [
    "Finally, we can complete our first verb.\n",
    "\n",
    "We have all 200 hit songs on the charts, but just want to get the first.\n",
    "\n",
    "The \"position equals equals 1\" is the condition we are using to filter observations. The \"equals equals\" may be surprising: it's what we call a \"logical\n",
    "equals\"- an operation to compare two values: each position, and the number 1.\n",
    "\n",
    "A single equals here would mean something different in python, which you'll see later.\n",
    "\n",
    "Let's see what this code outputs.\n"
   ]
  },
  {
   "cell_type": "markdown",
   "metadata": {
    "section": "data-transition=\"none-in slide-out\"",
    "slideshow": {
     "slide_type": "slide"
    }
   },
   "source": [
    "## Filter for top songs"
   ]
  },
  {
   "cell_type": "code",
   "execution_count": null,
   "metadata": {},
   "outputs": [],
   "source": [
    "(music_top200\n",
    "  >> filter(_.position == 1)\n",
    ")"
   ]
  },
  {
   "cell_type": "markdown",
   "metadata": {
    "slideshow": {
     "slide_type": "notes"
    }
   },
   "source": [
    "Notice that now, we have only 62 rows: that's how many countries are in the dataset.\n",
    "\n",
    "It's important to note that you're not removing any rows from the original `music` data.\n",
    "You can still use the `music` object for other analyses, and it won't be any different than it was before.\n",
    "\n",
    "Instead, filter is returning a new dataset, one with fewer rows, that then gets printed to the screen.\n"
   ]
  },
  {
   "cell_type": "markdown",
   "metadata": {
    "slideshow": {
     "slide_type": "slide"
    }
   },
   "source": [
    "## Filter for country\n"
   ]
  },
  {
   "cell_type": "code",
   "execution_count": null,
   "metadata": {},
   "outputs": [],
   "source": [
    "(music_top200\n",
    "  >> filter(_.country == \"United States\")\n",
    ")"
   ]
  },
  {
   "cell_type": "markdown",
   "metadata": {
    "slideshow": {
     "slide_type": "notes"
    }
   },
   "source": [
    "You could choose another condition to filter on, besides the position. For example, suppose we wanted to get only the observations from the United States.\n",
    "\n",
    "We would write this as \"filter country equals equals quote United\n",
    "States endquote\", resulting in only the 200 observations from that country.\n",
    "\n",
    "The quotes around United States are important: otherwise Python won't understand that the\n",
    "words \"Hong\" and \"Kong\" are the content of a text variable, as opposed to variable names.\n",
    "You didn't need quotes around a number like 1, but you do around text.\n"
   ]
  },
  {
   "cell_type": "markdown",
   "metadata": {
    "slideshow": {
     "slide_type": "slide"
    }
   },
   "source": [
    "## Filter with two variables\n"
   ]
  },
  {
   "cell_type": "code",
   "execution_count": null,
   "metadata": {},
   "outputs": [],
   "source": [
    "(music_top200\n",
    "  >> filter(_.position == 1, _.country == \"United States\")\n",
    ")"
   ]
  },
  {
   "cell_type": "markdown",
   "metadata": {
    "slideshow": {
     "slide_type": "notes"
    }
   },
   "source": [
    "We can specify multiple conditions in the filter.\n",
    "\n",
    "Each of the conditions is separated by a comma: here we are saying we want only\n",
    "the one observation for position 1, comma, where the country is the United States.\n",
    "\n",
    "Each of these equals equals expressions is called an argument.\n",
    "This kind of double filter is useful for extracting a single observation you're interested in.\n",
    "\n",
    "You'll be able to practice this in the exercises.\n"
   ]
  },
  {
   "cell_type": "markdown",
   "metadata": {
    "slideshow": {
     "slide_type": "slide"
    }
   },
   "source": [
    "# Let's practice!"
   ]
  },
  {
   "cell_type": "markdown",
   "metadata": {
    "slideshow": {
     "slide_type": "notes"
    }
   },
   "source": [
    "Scroll down to investigate the music data with filter."
   ]
  }
 ],
 "metadata": {
  "kernelspec": {
   "display_name": "venv-siublocks-org",
   "language": "python",
   "name": "venv-siublocks-org"
  },
  "language_info": {
   "codemirror_mode": {
    "name": "ipython",
    "version": 3
   },
   "file_extension": ".py",
   "mimetype": "text/x-python",
   "name": "python",
   "nbconvert_exporter": "python",
   "pygments_lexer": "ipython3",
   "version": "3.6.8"
  },
  "nbconvert": {
   "ExecutePreprocessor": {
    "enabled": true
   },
   "TagRemovePreprocessor": {
    "remove_input_tags": [
     "hide-cell"
    ]
   },
   "TemplateExporter": {
    "exclude_input_prompt": true,
    "exclude_output_prompt": true,
    "template_file": "/Users/machow/Dropbox/Repo/siublocks-org/purview/tutorial/intro-data-science/slides/slides_template.j2"
   },
   "exporter": "slidessimple"
  }
 },
 "nbformat": 4,
 "nbformat_minor": 4
}
