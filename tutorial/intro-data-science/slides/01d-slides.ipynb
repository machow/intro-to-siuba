{
 "cells": [
  {
   "cell_type": "code",
   "execution_count": null,
   "metadata": {
    "slideshow": {
     "slide_type": "slide"
    },
    "tags": [
     "hide-cell"
    ]
   },
   "outputs": [],
   "source": [
    "import pandas as pd\n",
    "from siuba import arrange, select, mutate, filter, _\n",
    "from plotnine import ggplot, geom_point, coord_flip, aes, labs\n",
    "\n",
    "# temporary until I figure out where to put data\n",
    "fname = \"https://siublocks.s3.us-east-2.amazonaws.com/course-data/music200.csv\"\n",
    "music_top200 = pd.read_csv(fname)\n",
    "\n",
    "# tracks\n",
    "fname = \"https://siublocks.s3.us-east-2.amazonaws.com/course-data/track_features.csv\"\n",
    "track_features = pd.read_csv(fname)\n",
    "\n",
    "\n",
    "pd.set_option(\"display.max_rows\", 6)\n"
   ]
  },
  {
   "cell_type": "markdown",
   "metadata": {},
   "source": [
    "# The mutate verb\n",
    "\n",
    "![](model-mutate.png)"
   ]
  },
  {
   "cell_type": "markdown",
   "metadata": {
    "slideshow": {
     "slide_type": "notes"
    }
   },
   "source": [
    "You've already learned two verbs for manipulating data: filter for\n",
    "extracting a subset of the observations, and arrange for sorting them.\n",
    "\n",
    "Suppose you want to change one of the variables in your dataset, based on the other ones.\n",
    "Or suppose you want to add a new variable.\n",
    "\n",
    "For that, you would use the mutate verb.\n"
   ]
  },
  {
   "cell_type": "markdown",
   "metadata": {
    "section": "data-transition=\"slide-in none-out\"",
    "slideshow": {
     "slide_type": "slide"
    }
   },
   "source": [
    "## Using mutate to change a variable"
   ]
  },
  {
   "cell_type": "markdown",
   "metadata": {},
   "source": [
    "```python\n",
    "(music_top200\n",
    "  >> mutate(streams = _.streams / 1000)\n",
    ")\n",
    "```"
   ]
  },
  {
   "cell_type": "markdown",
   "metadata": {
    "slideshow": {
     "slide_type": "notes"
    }
   },
   "source": [
    "First you'll learn how to change an existing variable.\n",
    "\n",
    "You use mutate like you would filter or arrange, after a pipe operator.\n",
    "\n",
    "Inside this mutate statement, what's on the right of the equals sign is\n",
    "what's being calculated, and what's on the left is what's being replaced.\n",
    "Here, you're calculating streams slash one thousand.\n",
    "\n",
    "**(Click the down arrow for a breakdown)**"
   ]
  },
  {
   "cell_type": "markdown",
   "metadata": {
    "section": "data-transition=\"none-in none-out\"",
    "slideshow": {
     "slide_type": "subslide"
    }
   },
   "source": [
    "## Using mutate to change a variable"
   ]
  },
  {
   "cell_type": "markdown",
   "metadata": {},
   "source": [
    "<pre><code class=\"language-python\">(music_top200\n",
    "  >> mutate(streams = <mark>_.streams / 1000</mark>)\n",
    ")\n",
    "</code></pre>"
   ]
  },
  {
   "cell_type": "markdown",
   "metadata": {
    "slideshow": {
     "slide_type": "notes"
    }
   },
   "source": [
    "The slash in Python performs division, so \"streams divided by one thousand\"."
   ]
  },
  {
   "cell_type": "markdown",
   "metadata": {
    "section": "data-transition=\"none-in none-out\"",
    "slideshow": {
     "slide_type": "subslide"
    }
   },
   "source": [
    "## Using mutate to change a variable"
   ]
  },
  {
   "cell_type": "markdown",
   "metadata": {},
   "source": [
    "<pre><code class=\"language-python\">(music_top200\n",
    "  >> mutate(<mark>streams =</mark> _.streams / 1000)\n",
    ")\n",
    "</code></pre>"
   ]
  },
  {
   "cell_type": "markdown",
   "metadata": {
    "slideshow": {
     "slide_type": "notes"
    }
   },
   "source": [
    "On the left, you're saying you want to replace the existing streams column, by writing streams equals."
   ]
  },
  {
   "cell_type": "markdown",
   "metadata": {
    "section": "data-transition=\"none-in slide-out\"",
    "slideshow": {
     "slide_type": "slide"
    }
   },
   "source": [
    "## Using mutate to change a variable (result)"
   ]
  },
  {
   "cell_type": "code",
   "execution_count": null,
   "metadata": {},
   "outputs": [],
   "source": [
    "(music_top200\n",
    "  >> mutate(streams = _.streams / 1000)\n",
    ")"
   ]
  },
  {
   "cell_type": "markdown",
   "metadata": {
    "slideshow": {
     "slide_type": "notes"
    }
   },
   "source": [
    "The result is the same table, but with streams replaced with a new value, one that's much smaller than it was before.\n",
    "\n",
    "This is how you manipulate existing variables in the table.\n",
    "That's often necessary during data processing and cleaning.\n",
    "\n",
    "Just like filter and arrange, you're not altering the original gapminder\n",
    "data, you're just changing the value in this new data frame that's being returned."
   ]
  },
  {
   "cell_type": "markdown",
   "metadata": {
    "section": "data-transition=\"slide-in none-out\"",
    "slideshow": {
     "slide_type": "slide"
    }
   },
   "source": [
    "## Using mutate to add a new variable"
   ]
  },
  {
   "cell_type": "code",
   "execution_count": null,
   "metadata": {},
   "outputs": [],
   "source": [
    "(music_top200\n",
    "  >> mutate(ttl_stream_time = _.streams * _.duration)\n",
    ")"
   ]
  },
  {
   "cell_type": "markdown",
   "metadata": {
    "slideshow": {
     "slide_type": "notes"
    }
   },
   "source": [
    "Alternatively, you may want to add a new variable.\n",
    "\n",
    "For instance, suppose you want to know the total seconds people have listened to a track.\n",
    "\n",
    "\n",
    "In the data you have a tracks duration in seconds, and its number of streams.\n",
    "This means **total time listened is duration multiplied by streams**.\n",
    "\n",
    "You would use mutate in almost the same way.\n",
    "You pipe your music data to the mutate verb.\n",
    "\n",
    "The asterisk in Python represents multiplication, so you write streams asterisk duration to multiply the two columns."
   ]
  },
  {
   "cell_type": "markdown",
   "metadata": {
    "section": "data-transition=\"none-in slide-out\"",
    "slideshow": {
     "slide_type": "slide"
    }
   },
   "source": [
    "## Using mutate to add a new variable (result)"
   ]
  },
  {
   "cell_type": "markdown",
   "metadata": {},
   "source": [
    "<pre><code class=\"language-python\">(music_top200\n",
    "  >> mutate(<mark>ttl_stream_time</mark> = _.streams * _.duration)\n",
    ")\n",
    "</code></pre>"
   ]
  },
  {
   "cell_type": "code",
   "execution_count": null,
   "metadata": {
    "tags": [
     "hide-input"
    ]
   },
   "outputs": [],
   "source": [
    "(music_top200\n",
    "  >> mutate(ttl_stream_time = _.streams * _.duration)\n",
    ")"
   ]
  },
  {
   "cell_type": "markdown",
   "metadata": {
    "slideshow": {
     "slide_type": "notes"
    }
   },
   "source": [
    "Notice that to be informative, we have named the column `ttl_stream_time`, that's what's to the left of the equals sign in our code.\n",
    "\n",
    "Column names need to be one word like this: you can't use spaces.\n",
    "\n",
    "Notice that in the results, there's a brand new `ttl_stream_time` column, which is much larger than `streams`.\n"
   ]
  },
  {
   "cell_type": "markdown",
   "metadata": {
    "section": "data-transition=\"slide-in none-out\"",
    "slideshow": {
     "slide_type": "slide"
    }
   },
   "source": [
    "# Answering a question"
   ]
  },
  {
   "cell_type": "markdown",
   "metadata": {},
   "source": [
    "```python\n",
    "(music_top200\n",
    "  >> mutate(ttl_stream_time = _.streams * _.duration)\n",
    "  >> filter(_.country == \"Costa Rica\")\n",
    "  >> arrange(-_.ttl_stream_time)\n",
    ")\n",
    "```"
   ]
  },
  {
   "cell_type": "markdown",
   "metadata": {
    "slideshow": {
     "slide_type": "notes"
    }
   },
   "source": [
    "Let's put together the three verbs you learned in this chapter to answer a question about our data.\n",
    "\n",
    "Suppose we wanted to know for a country, like Costa Rica, what songs were listened to longest.\n",
    "\n",
    "We would do this in three steps: \n",
    "\n",
    "* create the column\n",
    "* filter for country\n",
    "* then sort\n",
    "\n",
    "**(Click the down arrow for a breakdown)**"
   ]
  },
  {
   "cell_type": "markdown",
   "metadata": {
    "section": "data-transition=\"none-in none-out\"",
    "slideshow": {
     "slide_type": "subslide"
    }
   },
   "source": [
    "# Answering a question"
   ]
  },
  {
   "cell_type": "code",
   "execution_count": null,
   "metadata": {},
   "outputs": [],
   "source": [
    "(music_top200\n",
    "  >> mutate(ttl_stream_time = _.streams * _.duration)\n",
    " \n",
    " \n",
    ")"
   ]
  },
  {
   "cell_type": "markdown",
   "metadata": {
    "slideshow": {
     "slide_type": "notes"
    }
   },
   "source": [
    "We use mutate to create the ttl_stream_time column. "
   ]
  },
  {
   "cell_type": "markdown",
   "metadata": {
    "section": "data-transition=\"none-in none-out\"",
    "slideshow": {
     "slide_type": "subslide"
    }
   },
   "source": [
    "# Answering a question"
   ]
  },
  {
   "cell_type": "code",
   "execution_count": null,
   "metadata": {},
   "outputs": [],
   "source": [
    "(music_top200\n",
    "  >> mutate(ttl_stream_time = _.streams * _.duration)\n",
    "  >> filter(_.country == \"Costa Rica\")\n",
    " \n",
    ")"
   ]
  },
  {
   "cell_type": "markdown",
   "metadata": {
    "slideshow": {
     "slide_type": "notes"
    }
   },
   "source": [
    "Then we'd use filter to restrict our analysis to only Costa Rica. "
   ]
  },
  {
   "cell_type": "markdown",
   "metadata": {
    "section": "data-transition=\"none-in none-out\"",
    "slideshow": {
     "slide_type": "subslide"
    }
   },
   "source": [
    "# Answering a question"
   ]
  },
  {
   "cell_type": "code",
   "execution_count": null,
   "metadata": {},
   "outputs": [],
   "source": [
    "(music_top200\n",
    "  >> mutate(ttl_stream_time = _.streams * _.duration)\n",
    "  >> filter(_.country == \"Costa Rica\") \n",
    "  >> arrange(-_.ttl_stream_time) \n",
    ")"
   ]
  },
  {
   "cell_type": "markdown",
   "metadata": {
    "slideshow": {
     "slide_type": "notes"
    }
   },
   "source": [
    "Then we'd use arrange to sort the data in descending order of our new ttl_stream_time variable."
   ]
  },
  {
   "cell_type": "markdown",
   "metadata": {
    "section": "data-transition=\"none-in slide-out\"",
    "slideshow": {
     "slide_type": "slide"
    }
   },
   "source": [
    "# Answering a question (result)"
   ]
  },
  {
   "cell_type": "code",
   "execution_count": null,
   "metadata": {},
   "outputs": [],
   "source": [
    "(music_top200\n",
    "  >> mutate(ttl_stream_time = _.streams * _.duration)\n",
    "  >> filter(_.country == \"Costa Rica\") \n",
    "  >> arrange(-_.ttl_stream_time) \n",
    ")"
   ]
  },
  {
   "cell_type": "markdown",
   "metadata": {
    "slideshow": {
     "slide_type": "notes"
    }
   },
   "source": [
    "This gives us the answer we're looking for.\n",
    "\n",
    "The most streamed track in Costa Rica is still the first in our result.\n",
    "\n",
    "However, it looks like the track normally in the 23rd position--René by Residente--is third, since it's over 7 minutes long!"
   ]
  },
  {
   "cell_type": "markdown",
   "metadata": {
    "slideshow": {
     "slide_type": "slide"
    }
   },
   "source": [
    "# Let's practice!"
   ]
  }
 ],
 "metadata": {
  "kernelspec": {
   "display_name": "venv-siublocks-org",
   "language": "python",
   "name": "venv-siublocks-org"
  },
  "language_info": {
   "codemirror_mode": {
    "name": "ipython",
    "version": 3
   },
   "file_extension": ".py",
   "mimetype": "text/x-python",
   "name": "python",
   "nbconvert_exporter": "python",
   "pygments_lexer": "ipython3",
   "version": "3.6.8"
  },
  "nbconvert": {
   "ExecutePreprocessor": {
    "enabled": true
   },
   "TagRemovePreprocessor": {
    "remove_input_tags": [
     "hide-input",
     "hide-cell"
    ]
   },
   "TemplateExporter": {
    "exclude_input_prompt": true,
    "exclude_output_prompt": true,
    "template_file": "tutorial/intro-data-science/slides/slides_template.j2"
   },
   "exporter": "slidessimple"
  }
 },
 "nbformat": 4,
 "nbformat_minor": 4
}
