{
 "cells": [
  {
   "cell_type": "code",
   "execution_count": null,
   "metadata": {
    "slideshow": {
     "slide_type": "slide"
    },
    "tags": [
     "hide-cell"
    ]
   },
   "outputs": [],
   "source": [
    "import pandas as pd\n",
    "from siuba import arrange, select, mutate, filter, _\n",
    "from plotnine import ggplot, geom_point, coord_flip, aes, labs\n",
    "\n",
    "# temporary until I figure out where to put data\n",
    "fname = \"https://siublocks.s3.us-east-2.amazonaws.com/course-data/music200.csv\"\n",
    "music_top200 = pd.read_csv(fname)\n",
    "\n",
    "# tracks\n",
    "fname = \"https://siublocks.s3.us-east-2.amazonaws.com/course-data/track_features.csv\"\n",
    "track_features = pd.read_csv(fname)\n",
    "\n",
    "\n",
    "pd.set_option(\"display.max_rows\", 6)\n"
   ]
  },
  {
   "cell_type": "markdown",
   "metadata": {},
   "source": [
    "# The arrange verb\n",
    "\n",
    "![](model-arrange.png)"
   ]
  },
  {
   "cell_type": "markdown",
   "metadata": {
    "slideshow": {
     "slide_type": "notes"
    }
   },
   "source": [
    "In the last video you learned the filter verb, for extracting a subset of your observations based on a condition.\n",
    "\n",
    "Now you'll learn the arrange verb.\n",
    "\n",
    "Arrange sorts the observations in a dataset, in ascending or descending order based on one of its variables.\n",
    "\n",
    "This is useful, for example, when you want to know the most extreme values in a dataset.\n"
   ]
  },
  {
   "cell_type": "markdown",
   "metadata": {
    "slideshow": {
     "slide_type": "slide"
    }
   },
   "source": [
    "## Sorting with arrange"
   ]
  },
  {
   "cell_type": "code",
   "execution_count": null,
   "metadata": {},
   "outputs": [],
   "source": [
    "(music_top200\n",
    "  >> arrange(_.duration)\n",
    ")"
   ]
  },
  {
   "cell_type": "markdown",
   "metadata": {
    "slideshow": {
     "slide_type": "notes"
    }
   },
   "source": [
    "Just like filter, you use the arrange verb after the pipe operator.\n",
    "\n",
    "You would type music, then the pipe operator (two greater than symbols) and then arrange.\n",
    "Within those parentheses, you tell it what column you want to arrange by.\n",
    "\n",
    "The observations are now sorted in ascending order, with the lowest duration songs appearing first.\n",
    "\n",
    "Look at the second to rightmost column: it starts with 65.631, the smallest value in the dataset, then keeps increasing.\n",
    "Looking at the track name column, this track is called Klop Klop, and is the shortest track in the data.\n",
    "\n",
    "Just like with filter, the music object itself is unchanged: arrange is just giving you a new, sorted dataset.\n"
   ]
  },
  {
   "cell_type": "markdown",
   "metadata": {
    "slideshow": {
     "slide_type": "slide"
    }
   },
   "source": [
    "## arrange descending"
   ]
  },
  {
   "cell_type": "code",
   "execution_count": null,
   "metadata": {},
   "outputs": [],
   "source": [
    "(music_top200\n",
    "  >> arrange(-_.duration)\n",
    ")"
   ]
  },
  {
   "cell_type": "markdown",
   "metadata": {
    "slideshow": {
     "slide_type": "notes"
    }
   },
   "source": [
    "arrange also lets you sort in **descending order**.\n",
    "To do that, you'd put a **negative sign** next to the variable you're sorting by.\n",
    "\n",
    "This lets us see that the track with the longest duration is Susamam, which is a hit in at least Turkey. It's almost 15 minutes long!\n",
    "\n",
    "However, we might be interested in looking at duration within a specific country.\n"
   ]
  },
  {
   "cell_type": "markdown",
   "metadata": {
    "slideshow": {
     "slide_type": "slide"
    }
   },
   "source": [
    "## arrange and filter"
   ]
  },
  {
   "cell_type": "code",
   "execution_count": null,
   "metadata": {},
   "outputs": [],
   "source": [
    "(music_top200\n",
    "  >> filter(_.country == \"United States\")\n",
    "  >> arrange(-_.duration)\n",
    ")"
   ]
  },
  {
   "cell_type": "markdown",
   "metadata": {
    "slideshow": {
     "slide_type": "notes"
    }
   },
   "source": [
    "Suppose you wanted to find the longest duration song in the United States.\n",
    "\n",
    "To do that, you can combine the two verbs you've already learned: filter, and arrange."
   ]
  },
  {
   "cell_type": "markdown",
   "metadata": {
    "slideshow": {
     "slide_type": "subslide"
    }
   },
   "source": [
    "## arrange and filter"
   ]
  },
  {
   "cell_type": "code",
   "execution_count": null,
   "metadata": {},
   "outputs": [],
   "source": [
    "(music_top200\n",
    "  >> filter(_.country == \"United States\")\n",
    "\n",
    ")"
   ]
  },
  {
   "cell_type": "markdown",
   "metadata": {
    "slideshow": {
     "slide_type": "notes"
    }
   },
   "source": [
    "**Longest duration song in the United States.**\n",
    "\n",
    "You start with the music dataset, then a pipe to give the dataset to filter.\n",
    "Then you specify that you want to filter for country equals equals United States.\n",
    "\n",
    "Then you use another pipe step."
   ]
  },
  {
   "cell_type": "markdown",
   "metadata": {
    "slideshow": {
     "slide_type": "subslide"
    }
   },
   "source": [
    "## arrange and filter"
   ]
  },
  {
   "cell_type": "code",
   "execution_count": null,
   "metadata": {},
   "outputs": [],
   "source": [
    "(music_top200\n",
    "  >> filter(_.country == \"United States\")\n",
    "  >> arrange(-_.duration)\n",
    ")"
   ]
  },
  {
   "cell_type": "markdown",
   "metadata": {
    "slideshow": {
     "slide_type": "notes"
    }
   },
   "source": [
    "**Longest duration song in the United States.**\n",
    "\n",
    "The added pipe line takes the result of the filter, and gives it to arrange.\n",
    "You specify that you want to sort in descending order of duration."
   ]
  },
  {
   "cell_type": "markdown",
   "metadata": {
    "slideshow": {
     "slide_type": "slide"
    }
   },
   "source": [
    "## arrange and filter"
   ]
  },
  {
   "cell_type": "code",
   "execution_count": null,
   "metadata": {},
   "outputs": [],
   "source": [
    "(music_top200\n",
    "  >> filter(_.country == \"United States\")\n",
    "  >> arrange(-_.duration)\n",
    ")"
   ]
  },
  {
   "cell_type": "markdown",
   "metadata": {
    "slideshow": {
     "slide_type": "notes"
    }
   },
   "source": [
    "The result shows that the longest duration track in the United States is After Hours by The Weeknd.\n",
    "\n",
    "We can explore many such questions with various combinations of dplyr verbs.\n",
    "\n",
    "Over the course of these lessons, you'll\n",
    "learn to pipe together\n",
    "multiple simple operations to create a rich and informative data analysis.\n"
   ]
  },
  {
   "cell_type": "markdown",
   "metadata": {
    "slideshow": {
     "slide_type": "slide"
    }
   },
   "source": [
    "# Let's practice!"
   ]
  }
 ],
 "metadata": {
  "kernelspec": {
   "display_name": "venv-siublocks-org",
   "language": "python",
   "name": "venv-siublocks-org"
  },
  "language_info": {
   "codemirror_mode": {
    "name": "ipython",
    "version": 3
   },
   "file_extension": ".py",
   "mimetype": "text/x-python",
   "name": "python",
   "nbconvert_exporter": "python",
   "pygments_lexer": "ipython3",
   "version": "3.6.8"
  },
  "nbconvert": {
   "ExecutePreprocessor": {
    "enabled": true
   },
   "TagRemovePreprocessor": {
    "remove_input_tags": [
     "hide-cell"
    ]
   },
   "TemplateExporter": {
    "exclude_input_prompt": true,
    "exclude_output_prompt": true,
    "template_file": "tutorial/intro-data-science/slides/slides_template.j2"
   },
   "exporter": "slidessimple"
  }
 },
 "nbformat": 4,
 "nbformat_minor": 4
}
