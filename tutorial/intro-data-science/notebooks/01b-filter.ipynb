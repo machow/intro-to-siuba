{
 "cells": [
  {
   "cell_type": "raw",
   "metadata": {},
   "source": [
    "---\n",
    "title: \"Filter\"\n",
    "output: html_document\n",
    "editor_options: \n",
    "  chunk_output_type: console\n",
    "chunk: wrangle\n",
    "---"
   ]
  },
  {
   "cell_type": "code",
   "execution_count": 1,
   "metadata": {
    "name": "setup",
    "tags": [
     "input-details",
     "setup"
    ]
   },
   "outputs": [],
   "source": [
    "# TODO: explain how to run this, and that they only need the gist (loads tools)\n",
    "\n",
    "# wranglign ---------\n",
    "import pandas as pd\n",
    "from siuba import *\n",
    "\n",
    "# plotting ----------\n",
    "from plotnine import *\n",
    "\n",
    "theme_set(theme_classic(base_family = \"Noto Sans CJK JP\"))\n",
    "\n",
    "# data --------------\n",
    "#fname = \"/Users/machow/Dropbox/Repo/siublocks-org/intro-tidyverse/tutorial/data/music200.csv\"\n",
    "fname = \"https://siublocks.s3.us-east-2.amazonaws.com/course-data/music200.csv\"\n",
    "music_top200 = pd.read_csv(fname)\n",
    "\n",
    "# tracks\n",
    "#fname = \"/Users/machow/Dropbox/Repo/siublocks-org/intro-tidyverse/tutorial/data/track_features.csv\"\n",
    "fname = \"https://siublocks.s3.us-east-2.amazonaws.com/course-data/track_features.csv\"\n",
    "track_features = pd.read_csv(fname)\n",
    "\n",
    "# student support ----------\n",
    "from siuba import pipe\n",
    "from IPython.display import HTML, display\n",
    "from siututor import Blank\n",
    "___ = Blank()\n",
    "\n",
    "# DataFrame display --------\n",
    "pd.set_option(\"display.max_rows\", 6)\n",
    "\n",
    "from IPython import get_ipython\n",
    "# special ipython function to get the html formatter\n",
    "html_formatter = get_ipython().display_formatter.formatters['text/html']\n",
    "\n",
    "# here, we avoid the default df._repr_html_ method, since it inlines css\n",
    "# (style tags make vue angry)\n",
    "html_formatter.for_type(\n",
    "    pd.DataFrame,\n",
    "    lambda df: df.to_html(max_rows = pd.get_option(\"display.max_rows\"), show_dimensions = True)\n",
    ")\n",
    "\n"
   ]
  },
  {
   "cell_type": "raw",
   "metadata": {},
   "source": [
    "import slides from '../slides/01b-slides.markdown'\n",
    "\n",
    "<RevealSlides :slides=\"slides\" />\n"
   ]
  },
  {
   "cell_type": "markdown",
   "metadata": {},
   "source": [
    "### Exercise 1: \n",
    "\n",
    "The code below is filtering to keep only hits where `country` is United States.\n",
    "Change the filter to get hits from Canada.\n"
   ]
  },
  {
   "cell_type": "code",
   "execution_count": 2,
   "metadata": {},
   "outputs": [
    {
     "data": {
      "text/html": [
       "<table border=\"1\" class=\"dataframe\">\n",
       "  <thead>\n",
       "    <tr style=\"text-align: right;\">\n",
       "      <th></th>\n",
       "      <th>country</th>\n",
       "      <th>position</th>\n",
       "      <th>track_name</th>\n",
       "      <th>artist</th>\n",
       "      <th>streams</th>\n",
       "      <th>duration</th>\n",
       "      <th>continent</th>\n",
       "    </tr>\n",
       "  </thead>\n",
       "  <tbody>\n",
       "    <tr>\n",
       "      <th>7800</th>\n",
       "      <td>United States</td>\n",
       "      <td>1</td>\n",
       "      <td>The Box</td>\n",
       "      <td>Roddy Ricch</td>\n",
       "      <td>12987027</td>\n",
       "      <td>196.653</td>\n",
       "      <td>Americas</td>\n",
       "    </tr>\n",
       "    <tr>\n",
       "      <th>7801</th>\n",
       "      <td>United States</td>\n",
       "      <td>2</td>\n",
       "      <td>Myron</td>\n",
       "      <td>Lil Uzi Vert</td>\n",
       "      <td>9163134</td>\n",
       "      <td>224.955</td>\n",
       "      <td>Americas</td>\n",
       "    </tr>\n",
       "    <tr>\n",
       "      <th>7802</th>\n",
       "      <td>United States</td>\n",
       "      <td>3</td>\n",
       "      <td>Blueberry Faygo</td>\n",
       "      <td>Lil Mosey</td>\n",
       "      <td>8043475</td>\n",
       "      <td>162.547</td>\n",
       "      <td>Americas</td>\n",
       "    </tr>\n",
       "    <tr>\n",
       "      <th>...</th>\n",
       "      <td>...</td>\n",
       "      <td>...</td>\n",
       "      <td>...</td>\n",
       "      <td>...</td>\n",
       "      <td>...</td>\n",
       "      <td>...</td>\n",
       "      <td>...</td>\n",
       "    </tr>\n",
       "    <tr>\n",
       "      <th>7997</th>\n",
       "      <td>United States</td>\n",
       "      <td>198</td>\n",
       "      <td>Lights Up</td>\n",
       "      <td>Harry Styles</td>\n",
       "      <td>1606234</td>\n",
       "      <td>172.227</td>\n",
       "      <td>Americas</td>\n",
       "    </tr>\n",
       "    <tr>\n",
       "      <th>7998</th>\n",
       "      <td>United States</td>\n",
       "      <td>199</td>\n",
       "      <td>Without Me</td>\n",
       "      <td>Halsey</td>\n",
       "      <td>1606153</td>\n",
       "      <td>201.661</td>\n",
       "      <td>Americas</td>\n",
       "    </tr>\n",
       "    <tr>\n",
       "      <th>7999</th>\n",
       "      <td>United States</td>\n",
       "      <td>200</td>\n",
       "      <td>Enemies (feat. DaBaby)</td>\n",
       "      <td>Post Malone</td>\n",
       "      <td>1597824</td>\n",
       "      <td>196.760</td>\n",
       "      <td>Americas</td>\n",
       "    </tr>\n",
       "  </tbody>\n",
       "</table>\n",
       "<p>200 rows × 7 columns</p>"
      ],
      "text/plain": [
       "            country  position              track_name        artist   streams  \\\n",
       "7800  United States         1                 The Box   Roddy Ricch  12987027   \n",
       "7801  United States         2                   Myron  Lil Uzi Vert   9163134   \n",
       "7802  United States         3         Blueberry Faygo     Lil Mosey   8043475   \n",
       "...             ...       ...                     ...           ...       ...   \n",
       "7997  United States       198               Lights Up  Harry Styles   1606234   \n",
       "7998  United States       199              Without Me        Halsey   1606153   \n",
       "7999  United States       200  Enemies (feat. DaBaby)   Post Malone   1597824   \n",
       "\n",
       "      duration continent  \n",
       "7800   196.653  Americas  \n",
       "7801   224.955  Americas  \n",
       "7802   162.547  Americas  \n",
       "...        ...       ...  \n",
       "7997   172.227  Americas  \n",
       "7998   201.661  Americas  \n",
       "7999   196.760  Americas  \n",
       "\n",
       "[200 rows x 7 columns]"
      ]
     },
     "execution_count": 2,
     "metadata": {},
     "output_type": "execute_result"
    }
   ],
   "source": [
    "(music_top200\n",
    "  >> filter(_.country == \"United States\")\n",
    ")"
   ]
  },
  {
   "cell_type": "code",
   "execution_count": 3,
   "metadata": {
    "collapsed": true,
    "jupyter": {
     "outputs_hidden": true,
     "source_hidden": true
    },
    "tags": [
     "solution-code"
    ]
   },
   "outputs": [
    {
     "data": {
      "text/html": [
       "<table border=\"1\" class=\"dataframe\">\n",
       "  <thead>\n",
       "    <tr style=\"text-align: right;\">\n",
       "      <th></th>\n",
       "      <th>country</th>\n",
       "      <th>position</th>\n",
       "      <th>track_name</th>\n",
       "      <th>artist</th>\n",
       "      <th>streams</th>\n",
       "      <th>duration</th>\n",
       "      <th>continent</th>\n",
       "    </tr>\n",
       "  </thead>\n",
       "  <tbody>\n",
       "    <tr>\n",
       "      <th>1400</th>\n",
       "      <td>Canada</td>\n",
       "      <td>1</td>\n",
       "      <td>The Box</td>\n",
       "      <td>Roddy Ricch</td>\n",
       "      <td>1662638</td>\n",
       "      <td>196.653</td>\n",
       "      <td>Americas</td>\n",
       "    </tr>\n",
       "    <tr>\n",
       "      <th>1401</th>\n",
       "      <td>Canada</td>\n",
       "      <td>2</td>\n",
       "      <td>Dance Monkey</td>\n",
       "      <td>Tones And I</td>\n",
       "      <td>1287622</td>\n",
       "      <td>209.755</td>\n",
       "      <td>Americas</td>\n",
       "    </tr>\n",
       "    <tr>\n",
       "      <th>1402</th>\n",
       "      <td>Canada</td>\n",
       "      <td>3</td>\n",
       "      <td>Blinding Lights</td>\n",
       "      <td>The Weeknd</td>\n",
       "      <td>1233608</td>\n",
       "      <td>201.573</td>\n",
       "      <td>Americas</td>\n",
       "    </tr>\n",
       "    <tr>\n",
       "      <th>...</th>\n",
       "      <td>...</td>\n",
       "      <td>...</td>\n",
       "      <td>...</td>\n",
       "      <td>...</td>\n",
       "      <td>...</td>\n",
       "      <td>...</td>\n",
       "      <td>...</td>\n",
       "    </tr>\n",
       "    <tr>\n",
       "      <th>1597</th>\n",
       "      <td>Canada</td>\n",
       "      <td>198</td>\n",
       "      <td>Envy Me</td>\n",
       "      <td>Calboy</td>\n",
       "      <td>211725</td>\n",
       "      <td>120.137</td>\n",
       "      <td>Americas</td>\n",
       "    </tr>\n",
       "    <tr>\n",
       "      <th>1598</th>\n",
       "      <td>Canada</td>\n",
       "      <td>199</td>\n",
       "      <td>Into the Unknown</td>\n",
       "      <td>Idina Menzel</td>\n",
       "      <td>211633</td>\n",
       "      <td>194.848</td>\n",
       "      <td>Americas</td>\n",
       "    </tr>\n",
       "    <tr>\n",
       "      <th>1599</th>\n",
       "      <td>Canada</td>\n",
       "      <td>200</td>\n",
       "      <td>Dancing With A Stranger (with Normani)</td>\n",
       "      <td>Sam Smith</td>\n",
       "      <td>210840</td>\n",
       "      <td>171.030</td>\n",
       "      <td>Americas</td>\n",
       "    </tr>\n",
       "  </tbody>\n",
       "</table>\n",
       "<p>200 rows × 7 columns</p>"
      ],
      "text/plain": [
       "     country  position                              track_name        artist  \\\n",
       "1400  Canada         1                                 The Box   Roddy Ricch   \n",
       "1401  Canada         2                            Dance Monkey   Tones And I   \n",
       "1402  Canada         3                         Blinding Lights    The Weeknd   \n",
       "...      ...       ...                                     ...           ...   \n",
       "1597  Canada       198                                 Envy Me        Calboy   \n",
       "1598  Canada       199                        Into the Unknown  Idina Menzel   \n",
       "1599  Canada       200  Dancing With A Stranger (with Normani)     Sam Smith   \n",
       "\n",
       "      streams  duration continent  \n",
       "1400  1662638   196.653  Americas  \n",
       "1401  1287622   209.755  Americas  \n",
       "1402  1233608   201.573  Americas  \n",
       "...       ...       ...       ...  \n",
       "1597   211725   120.137  Americas  \n",
       "1598   211633   194.848  Americas  \n",
       "1599   210840   171.030  Americas  \n",
       "\n",
       "[200 rows x 7 columns]"
      ]
     },
     "execution_count": 3,
     "metadata": {},
     "output_type": "execute_result"
    }
   ],
   "source": [
    "(music_top200\n",
    "  >> filter(_.country == \"Canada\")\n",
    ")"
   ]
  },
  {
   "cell_type": "raw",
   "metadata": {},
   "source": [
    "<prompt-expandable header=\"Comparing results, which artist is in the top 3 in both (the) United States and Canada?\">\n",
    "\n",
    "<q-multiple-choice>\n",
    "  <q-opt text=\"Roddy Ricch\"><span>Nailed it!</span></q-opt>\n",
    "  <q-opt text=\"The Weeknd\"><span>That artis is only top 3 in the United States</span></q-opt>\n",
    "  <q-opt text=\"Tones And I\"><span>That artist is only top 3 in the Canada</span></q-opt>\n",
    "</q-multiple-choice>\n",
    "\n",
    "</prompt-expandable>\n"
   ]
  },
  {
   "cell_type": "markdown",
   "metadata": {},
   "source": [
    "### Exercise 2: \n",
    "\n",
    "* Filter to keep tracks where position equals 5."
   ]
  },
  {
   "cell_type": "code",
   "execution_count": 4,
   "metadata": {},
   "outputs": [
    {
     "data": {
      "text/html": [
       "⚠️: <b>Don't forget to replace all the blanks!</b>"
      ],
      "text/plain": [
       "⚠️: <b>Don't forget to replace all the blanks!</b>"
      ]
     },
     "execution_count": 4,
     "metadata": {},
     "output_type": "execute_result"
    }
   ],
   "source": [
    "(music_top200\n",
    "  >> filter(___)\n",
    ")"
   ]
  },
  {
   "cell_type": "code",
   "execution_count": 5,
   "metadata": {
    "collapsed": true,
    "jupyter": {
     "outputs_hidden": true,
     "source_hidden": true
    },
    "tags": [
     "solution-code"
    ]
   },
   "outputs": [
    {
     "data": {
      "text/html": [
       "<table border=\"1\" class=\"dataframe\">\n",
       "  <thead>\n",
       "    <tr style=\"text-align: right;\">\n",
       "      <th></th>\n",
       "      <th>country</th>\n",
       "      <th>position</th>\n",
       "      <th>track_name</th>\n",
       "      <th>artist</th>\n",
       "      <th>streams</th>\n",
       "      <th>duration</th>\n",
       "      <th>continent</th>\n",
       "    </tr>\n",
       "  </thead>\n",
       "  <tbody>\n",
       "    <tr>\n",
       "      <th>4</th>\n",
       "      <td>Argentina</td>\n",
       "      <td>5</td>\n",
       "      <td>La Difícil</td>\n",
       "      <td>Bad Bunny</td>\n",
       "      <td>1205852</td>\n",
       "      <td>163.084</td>\n",
       "      <td>Americas</td>\n",
       "    </tr>\n",
       "    <tr>\n",
       "      <th>204</th>\n",
       "      <td>Austria</td>\n",
       "      <td>5</td>\n",
       "      <td>Dance Monkey</td>\n",
       "      <td>Tones And I</td>\n",
       "      <td>162646</td>\n",
       "      <td>209.755</td>\n",
       "      <td>Europe</td>\n",
       "    </tr>\n",
       "    <tr>\n",
       "      <th>404</th>\n",
       "      <td>Australia</td>\n",
       "      <td>5</td>\n",
       "      <td>The Box</td>\n",
       "      <td>Roddy Ricch</td>\n",
       "      <td>1330929</td>\n",
       "      <td>196.653</td>\n",
       "      <td>Oceania</td>\n",
       "    </tr>\n",
       "    <tr>\n",
       "      <th>...</th>\n",
       "      <td>...</td>\n",
       "      <td>...</td>\n",
       "      <td>...</td>\n",
       "      <td>...</td>\n",
       "      <td>...</td>\n",
       "      <td>...</td>\n",
       "      <td>...</td>\n",
       "    </tr>\n",
       "    <tr>\n",
       "      <th>11804</th>\n",
       "      <td>Uruguay</td>\n",
       "      <td>5</td>\n",
       "      <td>Hola - Remix</td>\n",
       "      <td>Dalex</td>\n",
       "      <td>77471</td>\n",
       "      <td>249.520</td>\n",
       "      <td>Americas</td>\n",
       "    </tr>\n",
       "    <tr>\n",
       "      <th>12004</th>\n",
       "      <td>Viet Nam</td>\n",
       "      <td>5</td>\n",
       "      <td>Black Swan</td>\n",
       "      <td>BTS</td>\n",
       "      <td>109112</td>\n",
       "      <td>198.261</td>\n",
       "      <td>Asia</td>\n",
       "    </tr>\n",
       "    <tr>\n",
       "      <th>12204</th>\n",
       "      <td>South Africa</td>\n",
       "      <td>5</td>\n",
       "      <td>Godzilla (feat. Juice WRLD)</td>\n",
       "      <td>Eminem</td>\n",
       "      <td>58462</td>\n",
       "      <td>210.800</td>\n",
       "      <td>Africa</td>\n",
       "    </tr>\n",
       "  </tbody>\n",
       "</table>\n",
       "<p>62 rows × 7 columns</p>"
      ],
      "text/plain": [
       "            country  position                   track_name       artist  \\\n",
       "4         Argentina         5                   La Difícil    Bad Bunny   \n",
       "204         Austria         5                 Dance Monkey  Tones And I   \n",
       "404       Australia         5                      The Box  Roddy Ricch   \n",
       "...             ...       ...                          ...          ...   \n",
       "11804       Uruguay         5                 Hola - Remix        Dalex   \n",
       "12004      Viet Nam         5                   Black Swan          BTS   \n",
       "12204  South Africa         5  Godzilla (feat. Juice WRLD)       Eminem   \n",
       "\n",
       "       streams  duration continent  \n",
       "4      1205852   163.084  Americas  \n",
       "204     162646   209.755    Europe  \n",
       "404    1330929   196.653   Oceania  \n",
       "...        ...       ...       ...  \n",
       "11804    77471   249.520  Americas  \n",
       "12004   109112   198.261      Asia  \n",
       "12204    58462   210.800    Africa  \n",
       "\n",
       "[62 rows x 7 columns]"
      ]
     },
     "execution_count": 5,
     "metadata": {},
     "output_type": "execute_result"
    }
   ],
   "source": [
    "(music_top200\n",
    "  >> filter(_.position == 5)\n",
    ")"
   ]
  },
  {
   "cell_type": "raw",
   "metadata": {},
   "source": [
    "<prompt-expandable header=\"Which artist is in position 5 in South Africa?\">\n",
    "\n",
    "<q-multiple-choice>\n",
    "  <q-opt text=\"Bad Bunny\"><span></span></q-opt>\n",
    "  <q-opt text=\"Eminem\"><span>That's right!</span></q-opt>\n",
    "  <q-opt text=\"BTS\"><span></span></q-opt>\n",
    "  <q-opt text=\"Selena Gomes\"><span></span></q-opt>  \n",
    "</q-multiple-choice>\n",
    "\n",
    "</prompt-expandable>\n"
   ]
  },
  {
   "cell_type": "markdown",
   "metadata": {},
   "source": [
    "### Exercise 3:\n",
    "\n",
    "Find the top 5 songs in Hong Kong.\n",
    "\n",
    "In the slides we discussed the `==` operator. Here is a longer list of some options!\n",
    "\n",
    "* `==`: is equal to\n",
    "* `<`: less than\n",
    "* `>`: greater than\n"
   ]
  },
  {
   "cell_type": "code",
   "execution_count": 6,
   "metadata": {},
   "outputs": [
    {
     "data": {
      "text/html": [
       "⚠️: <b>Don't forget to replace all the blanks!</b>"
      ],
      "text/plain": [
       "⚠️: <b>Don't forget to replace all the blanks!</b>"
      ]
     },
     "execution_count": 6,
     "metadata": {},
     "output_type": "execute_result"
    }
   ],
   "source": [
    "(music_top200\n",
    "  >> filter(___, ___)\n",
    ")"
   ]
  },
  {
   "cell_type": "code",
   "execution_count": 7,
   "metadata": {
    "collapsed": true,
    "jupyter": {
     "outputs_hidden": true,
     "source_hidden": true
    },
    "tags": [
     "solution-code"
    ]
   },
   "outputs": [
    {
     "data": {
      "text/html": [
       "<table border=\"1\" class=\"dataframe\">\n",
       "  <thead>\n",
       "    <tr style=\"text-align: right;\">\n",
       "      <th></th>\n",
       "      <th>country</th>\n",
       "      <th>position</th>\n",
       "      <th>track_name</th>\n",
       "      <th>artist</th>\n",
       "      <th>streams</th>\n",
       "      <th>duration</th>\n",
       "      <th>continent</th>\n",
       "    </tr>\n",
       "  </thead>\n",
       "  <tbody>\n",
       "    <tr>\n",
       "      <th>4600</th>\n",
       "      <td>Hong Kong</td>\n",
       "      <td>1</td>\n",
       "      <td>WANNABE</td>\n",
       "      <td>ITZY</td>\n",
       "      <td>112648</td>\n",
       "      <td>191.242</td>\n",
       "      <td>Asia</td>\n",
       "    </tr>\n",
       "    <tr>\n",
       "      <th>4601</th>\n",
       "      <td>Hong Kong</td>\n",
       "      <td>2</td>\n",
       "      <td>Intentions (feat. Quavo)</td>\n",
       "      <td>Justin Bieber</td>\n",
       "      <td>104467</td>\n",
       "      <td>212.867</td>\n",
       "      <td>Asia</td>\n",
       "    </tr>\n",
       "    <tr>\n",
       "      <th>4602</th>\n",
       "      <td>Hong Kong</td>\n",
       "      <td>3</td>\n",
       "      <td>Señorita</td>\n",
       "      <td>Shawn Mendes</td>\n",
       "      <td>84196</td>\n",
       "      <td>190.960</td>\n",
       "      <td>Asia</td>\n",
       "    </tr>\n",
       "    <tr>\n",
       "      <th>4603</th>\n",
       "      <td>Hong Kong</td>\n",
       "      <td>4</td>\n",
       "      <td>Don't Start Now</td>\n",
       "      <td>Dua Lipa</td>\n",
       "      <td>80457</td>\n",
       "      <td>183.290</td>\n",
       "      <td>Asia</td>\n",
       "    </tr>\n",
       "    <tr>\n",
       "      <th>4604</th>\n",
       "      <td>Hong Kong</td>\n",
       "      <td>5</td>\n",
       "      <td>Dance Monkey</td>\n",
       "      <td>Tones And I</td>\n",
       "      <td>79376</td>\n",
       "      <td>209.755</td>\n",
       "      <td>Asia</td>\n",
       "    </tr>\n",
       "  </tbody>\n",
       "</table>\n",
       "<p>5 rows × 7 columns</p>"
      ],
      "text/plain": [
       "        country  position                track_name         artist  streams  \\\n",
       "4600  Hong Kong         1                   WANNABE           ITZY   112648   \n",
       "4601  Hong Kong         2  Intentions (feat. Quavo)  Justin Bieber   104467   \n",
       "4602  Hong Kong         3                  Señorita   Shawn Mendes    84196   \n",
       "4603  Hong Kong         4           Don't Start Now       Dua Lipa    80457   \n",
       "4604  Hong Kong         5              Dance Monkey    Tones And I    79376   \n",
       "\n",
       "      duration continent  \n",
       "4600   191.242      Asia  \n",
       "4601   212.867      Asia  \n",
       "4602   190.960      Asia  \n",
       "4603   183.290      Asia  \n",
       "4604   209.755      Asia  "
      ]
     },
     "execution_count": 7,
     "metadata": {},
     "output_type": "execute_result"
    }
   ],
   "source": [
    "(music_top200\n",
    "  >> filter(_.country == \"Hong Kong\", _.position < 6)\n",
    ")"
   ]
  },
  {
   "cell_type": "markdown",
   "metadata": {},
   "source": [
    "### Exercise 4: looking at The Weeknd's streams\n",
    "\n",
    "How many times has The Weeknd had over 1,000,000 streams?\n",
    "\n",
    "<details>\n",
    "    <summary>Hint:</summary>\n",
    "    Do in steps. Run first to get all rows where the artist is The Weeknd, and then modify your code to get where he has over 1,000,000 streams.\n",
    "</details>"
   ]
  },
  {
   "cell_type": "code",
   "execution_count": 8,
   "metadata": {},
   "outputs": [
    {
     "data": {
      "text/plain": [
       "()"
      ]
     },
     "execution_count": 8,
     "metadata": {},
     "output_type": "execute_result"
    }
   ],
   "source": [
    "(\n",
    "\n",
    ")"
   ]
  },
  {
   "cell_type": "code",
   "execution_count": 9,
   "metadata": {
    "collapsed": true,
    "jupyter": {
     "outputs_hidden": true,
     "source_hidden": true
    },
    "tags": [
     "solution-code"
    ]
   },
   "outputs": [
    {
     "data": {
      "text/html": [
       "<table border=\"1\" class=\"dataframe\">\n",
       "  <thead>\n",
       "    <tr style=\"text-align: right;\">\n",
       "      <th></th>\n",
       "      <th>country</th>\n",
       "      <th>position</th>\n",
       "      <th>track_name</th>\n",
       "      <th>artist</th>\n",
       "      <th>streams</th>\n",
       "      <th>duration</th>\n",
       "      <th>continent</th>\n",
       "    </tr>\n",
       "  </thead>\n",
       "  <tbody>\n",
       "    <tr>\n",
       "      <th>400</th>\n",
       "      <td>Australia</td>\n",
       "      <td>1</td>\n",
       "      <td>Blinding Lights</td>\n",
       "      <td>The Weeknd</td>\n",
       "      <td>1757343</td>\n",
       "      <td>201.573</td>\n",
       "      <td>Oceania</td>\n",
       "    </tr>\n",
       "    <tr>\n",
       "      <th>1248</th>\n",
       "      <td>Brazil</td>\n",
       "      <td>49</td>\n",
       "      <td>Blinding Lights</td>\n",
       "      <td>The Weeknd</td>\n",
       "      <td>1343243</td>\n",
       "      <td>201.573</td>\n",
       "      <td>Americas</td>\n",
       "    </tr>\n",
       "    <tr>\n",
       "      <th>1402</th>\n",
       "      <td>Canada</td>\n",
       "      <td>3</td>\n",
       "      <td>Blinding Lights</td>\n",
       "      <td>The Weeknd</td>\n",
       "      <td>1233608</td>\n",
       "      <td>201.573</td>\n",
       "      <td>Americas</td>\n",
       "    </tr>\n",
       "    <tr>\n",
       "      <th>...</th>\n",
       "      <td>...</td>\n",
       "      <td>...</td>\n",
       "      <td>...</td>\n",
       "      <td>...</td>\n",
       "      <td>...</td>\n",
       "      <td>...</td>\n",
       "      <td>...</td>\n",
       "    </tr>\n",
       "    <tr>\n",
       "      <th>7841</th>\n",
       "      <td>United States</td>\n",
       "      <td>42</td>\n",
       "      <td>After Hours</td>\n",
       "      <td>The Weeknd</td>\n",
       "      <td>3672033</td>\n",
       "      <td>361.027</td>\n",
       "      <td>Americas</td>\n",
       "    </tr>\n",
       "    <tr>\n",
       "      <th>7906</th>\n",
       "      <td>United States</td>\n",
       "      <td>107</td>\n",
       "      <td>Heartless</td>\n",
       "      <td>The Weeknd</td>\n",
       "      <td>2265446</td>\n",
       "      <td>200.080</td>\n",
       "      <td>Americas</td>\n",
       "    </tr>\n",
       "    <tr>\n",
       "      <th>8210</th>\n",
       "      <td>Mexico</td>\n",
       "      <td>11</td>\n",
       "      <td>Blinding Lights</td>\n",
       "      <td>The Weeknd</td>\n",
       "      <td>3785306</td>\n",
       "      <td>201.573</td>\n",
       "      <td>Americas</td>\n",
       "    </tr>\n",
       "  </tbody>\n",
       "</table>\n",
       "<p>13 rows × 7 columns</p>"
      ],
      "text/plain": [
       "            country  position       track_name      artist  streams  duration  \\\n",
       "400       Australia         1  Blinding Lights  The Weeknd  1757343   201.573   \n",
       "1248         Brazil        49  Blinding Lights  The Weeknd  1343243   201.573   \n",
       "1402         Canada         3  Blinding Lights  The Weeknd  1233608   201.573   \n",
       "...             ...       ...              ...         ...      ...       ...   \n",
       "7841  United States        42      After Hours  The Weeknd  3672033   361.027   \n",
       "7906  United States       107        Heartless  The Weeknd  2265446   200.080   \n",
       "8210         Mexico        11  Blinding Lights  The Weeknd  3785306   201.573   \n",
       "\n",
       "     continent  \n",
       "400    Oceania  \n",
       "1248  Americas  \n",
       "1402  Americas  \n",
       "...        ...  \n",
       "7841  Americas  \n",
       "7906  Americas  \n",
       "8210  Americas  \n",
       "\n",
       "[13 rows x 7 columns]"
      ]
     },
     "execution_count": 9,
     "metadata": {},
     "output_type": "execute_result"
    }
   ],
   "source": [
    "(music_top200\n",
    "  >> filter(_.artist == \"The Weeknd\", _.streams > 1000000)\n",
    ")"
   ]
  }
 ],
 "metadata": {
  "jupytext": {
   "cell_metadata_filter": "name,tags,-all",
   "formats": "Rmd//Rmd,notebooks//ipynb",
   "notebook_metadata_filter": "purview"
  },
  "kernelspec": {
   "display_name": "Python 3",
   "language": "python",
   "name": "python3"
  },
  "language_info": {
   "codemirror_mode": {
    "name": "ipython",
    "version": 3
   },
   "file_extension": ".py",
   "mimetype": "text/x-python",
   "name": "python",
   "nbconvert_exporter": "python",
   "pygments_lexer": "ipython3",
   "version": "3.7.3"
  },
  "purview": {
   "branch": "master",
   "repo": "machow/purview",
   "url": "https://mybinder.org",
   "useBinder": 1,
   "useStorage": 1
  }
 },
 "nbformat": 4,
 "nbformat_minor": 4
}
