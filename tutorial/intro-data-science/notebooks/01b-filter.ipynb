{
 "cells": [
  {
   "cell_type": "raw",
   "id": "491896a5",
   "metadata": {},
   "source": [
    "---\n",
    "title: \"Filter\"\n",
    "output: html_document\n",
    "editor_options: \n",
    "  chunk_output_type: console\n",
    "chunk: wrangle\n",
    "---"
   ]
  },
  {
   "cell_type": "code",
   "execution_count": null,
   "id": "c44aa786",
   "metadata": {
    "name": "setup",
    "tags": [
     "input-details",
     "setup"
    ]
   },
   "outputs": [],
   "source": [
    "# TODO: explain how to run this, and that they only need the gist (loads tools)\n",
    "\n",
    "# wranglign ---------\n",
    "import pandas as pd\n",
    "from siuba import *\n",
    "\n",
    "# plotting ----------\n",
    "from plotnine import *\n",
    "\n",
    "theme_set(theme_classic(base_family = \"Noto Sans CJK JP\"))\n",
    "\n",
    "# data --------------\n",
    "from music_top200 import music_top200, track_features\n",
    "\n",
    "# student support ----------\n",
    "from siuba import pipe\n",
    "from IPython.display import HTML, display\n",
    "from siututor import Blank\n",
    "___ = Blank()\n",
    "\n",
    "# DataFrame display --------\n",
    "pd.set_option(\"display.max_rows\", 6)\n",
    "\n",
    "from IPython import get_ipython\n",
    "# special ipython function to get the html formatter\n",
    "html_formatter = get_ipython().display_formatter.formatters['text/html']\n",
    "\n",
    "# here, we avoid the default df._repr_html_ method, since it inlines css\n",
    "# (style tags make vue angry)\n",
    "html_formatter.for_type(\n",
    "    pd.DataFrame,\n",
    "    lambda df: df.to_html(max_rows = pd.get_option(\"display.max_rows\"), show_dimensions = True)\n",
    ")\n",
    "\n",
    "# remove the <ggplot: (528...)> printout\n",
    "html_formatter.for_type(ggplot, lambda g: \"\")\n"
   ]
  },
  {
   "cell_type": "raw",
   "id": "1bf7aa62",
   "metadata": {},
   "source": [
    "import slides from '../slides/01b-slides.markdown'\n",
    "\n",
    "<RevealSlides :slides=\"slides\" />\n"
   ]
  },
  {
   "cell_type": "markdown",
   "id": "2a74ce3f",
   "metadata": {},
   "source": [
    "### Exercise 1: \n",
    "\n",
    "The code below is filtering to keep only hits where `country` is United States.\n",
    "Change the filter to get hits from Canada.\n"
   ]
  },
  {
   "cell_type": "code",
   "execution_count": null,
   "id": "df9e3a8d",
   "metadata": {},
   "outputs": [],
   "source": [
    "(music_top200\n",
    "  >> filter(_.country == \"United States\")\n",
    ")"
   ]
  },
  {
   "cell_type": "code",
   "execution_count": null,
   "id": "35d4ba2b",
   "metadata": {
    "tags": [
     "solution-code"
    ]
   },
   "outputs": [],
   "source": [
    "(music_top200\n",
    "  >> filter(_.country == \"Canada\")\n",
    ")"
   ]
  },
  {
   "cell_type": "raw",
   "id": "f755cd0c",
   "metadata": {},
   "source": [
    "<prompt-expandable header=\"Comparing results, which artist is in the top 3 in both (the) United States and Canada?\">\n",
    "\n",
    "<q-multiple-choice>\n",
    "  <q-opt text=\"Roddy Ricch\"><span>Nailed it!</span></q-opt>\n",
    "  <q-opt text=\"The Weeknd\"><span>That artist is only top 3 in the United States</span></q-opt>\n",
    "  <q-opt text=\"Tones And I\"><span>That artist is only top 3 in the Canada</span></q-opt>\n",
    "</q-multiple-choice>\n",
    "\n",
    "</prompt-expandable>\n"
   ]
  },
  {
   "cell_type": "markdown",
   "id": "25814550",
   "metadata": {},
   "source": [
    "### Exercise 2: \n",
    "\n",
    "* Filter to keep tracks where position equals 5."
   ]
  },
  {
   "cell_type": "code",
   "execution_count": null,
   "id": "888b4413",
   "metadata": {},
   "outputs": [],
   "source": [
    "(music_top200\n",
    "  >> filter(___)\n",
    ")"
   ]
  },
  {
   "cell_type": "code",
   "execution_count": null,
   "id": "1d127c5b",
   "metadata": {
    "tags": [
     "solution-code"
    ]
   },
   "outputs": [],
   "source": [
    "(music_top200\n",
    "  >> filter(_.position == 5)\n",
    ")"
   ]
  },
  {
   "cell_type": "raw",
   "id": "49ddabff",
   "metadata": {},
   "source": [
    "<prompt-expandable header=\"Which artist is in position 5 in South Africa?\">\n",
    "\n",
    "<q-multiple-choice>\n",
    "  <q-opt text=\"Bad Bunny\"><span></span></q-opt>\n",
    "  <q-opt text=\"Eminem\"><span>That's right!</span></q-opt>\n",
    "  <q-opt text=\"BTS\"><span></span></q-opt>\n",
    "  <q-opt text=\"Selena Gomes\"><span></span></q-opt>  \n",
    "</q-multiple-choice>\n",
    "\n",
    "</prompt-expandable>\n"
   ]
  },
  {
   "cell_type": "markdown",
   "id": "f3409fe8",
   "metadata": {},
   "source": [
    "### Exercise 3:\n",
    "\n",
    "Find the top 5 songs in Hong Kong.\n",
    "\n",
    "In the slides we discussed the `==` operator. Here is a longer list of some options!\n",
    "\n",
    "| operator | meaning |\n",
    "| -------- | ------- |\n",
    "| `==`     | is equal to |\n",
    "| `<`      | is less than |\n",
    "| `>`      | is greater than |\n"
   ]
  },
  {
   "cell_type": "code",
   "execution_count": null,
   "id": "18c79dc0",
   "metadata": {},
   "outputs": [],
   "source": [
    "(music_top200\n",
    "  >> filter(___, ___)\n",
    ")"
   ]
  },
  {
   "cell_type": "code",
   "execution_count": null,
   "id": "18a4d7bb",
   "metadata": {
    "tags": [
     "solution-code"
    ]
   },
   "outputs": [],
   "source": [
    "(music_top200\n",
    "  >> filter(_.country == \"Hong Kong\", _.position < 6)\n",
    ")"
   ]
  },
  {
   "cell_type": "markdown",
   "id": "f379dbcd",
   "metadata": {},
   "source": [
    "### Exercise 4: looking at The Weeknd's streams\n",
    "\n",
    "How many times has The Weeknd had over 1,000,000 streams?\n",
    "\n",
    "<details>\n",
    "    <summary>Hint:</summary>\n",
    "    Do in steps. Run first to get all rows where the artist is The Weeknd, and then modify your code to get where he has over 1,000,000 streams.\n",
    "</details>"
   ]
  },
  {
   "cell_type": "code",
   "execution_count": null,
   "id": "4bee1fed",
   "metadata": {},
   "outputs": [],
   "source": [
    "(\n",
    "\n",
    ")"
   ]
  },
  {
   "cell_type": "code",
   "execution_count": null,
   "id": "a5600e27",
   "metadata": {
    "tags": [
     "solution-code"
    ]
   },
   "outputs": [],
   "source": [
    "(music_top200\n",
    "  >> filter(_.artist == \"The Weeknd\", _.streams > 1000000)\n",
    ")"
   ]
  }
 ],
 "metadata": {
  "jupytext": {
   "cell_metadata_filter": "name,tags,-all",
   "formats": "Rmd//Rmd,notebooks//ipynb",
   "notebook_metadata_filter": "purview"
  },
  "kernelspec": {
   "display_name": "venv-intro-to-siuba",
   "language": "python",
   "name": "venv-intro-to-siuba"
  },
  "purview": {
   "branch": "master",
   "repo": "machow/intro-to-siuba",
   "url": "https://mybinder.org",
   "useBinder": 1,
   "useStorage": 1
  }
 },
 "nbformat": 4,
 "nbformat_minor": 5
}
