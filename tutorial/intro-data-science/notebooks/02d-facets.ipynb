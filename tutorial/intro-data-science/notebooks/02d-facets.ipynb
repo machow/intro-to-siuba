{
 "cells": [
  {
   "cell_type": "raw",
   "id": "c4c78194",
   "metadata": {},
   "source": [
    "---\n",
    "title: \"Facets\"\n",
    "output: html_document\n",
    "editor_options: \n",
    "  chunk_output_type: console\n",
    "chunk: visualize\n",
    "---"
   ]
  },
  {
   "cell_type": "code",
   "execution_count": null,
   "id": "a591a16f",
   "metadata": {
    "name": "setup",
    "tags": [
     "input-details",
     "setup"
    ]
   },
   "outputs": [],
   "source": [
    "# TODO: explain how to run this, and that they only need the gist (loads tools)\n",
    "\n",
    "# wranglign ---------\n",
    "import pandas as pd\n",
    "from siuba import *\n",
    "\n",
    "# plotting ----------\n",
    "from plotnine import *\n",
    "\n",
    "theme_set(theme_classic(base_family = \"Noto Sans CJK JP\"))\n",
    "\n",
    "# data --------------\n",
    "from music_top200 import music_top200, track_features\n",
    "\n",
    "# student support ----------\n",
    "from siuba import pipe\n",
    "from IPython.display import HTML, display\n",
    "from siututor import Blank\n",
    "___ = Blank()\n",
    "\n",
    "# DataFrame display --------\n",
    "pd.set_option(\"display.max_rows\", 6)\n",
    "\n",
    "from IPython import get_ipython\n",
    "# special ipython function to get the html formatter\n",
    "html_formatter = get_ipython().display_formatter.formatters['text/html']\n",
    "\n",
    "# here, we avoid the default df._repr_html_ method, since it inlines css\n",
    "# (style tags make vue angry)\n",
    "html_formatter.for_type(\n",
    "    pd.DataFrame,\n",
    "    lambda df: df.to_html(max_rows = pd.get_option(\"display.max_rows\"), show_dimensions = True)\n",
    ")\n",
    "\n",
    "# remove the <ggplot: (528...)> printout\n",
    "html_formatter.for_type(ggplot, lambda g: \"\")\n"
   ]
  },
  {
   "cell_type": "raw",
   "id": "966f4ab3",
   "metadata": {},
   "source": [
    "\n",
    "import slides from '../slides/02d-slides.markdown'\n",
    "\n",
    "<RevealSlides :slides=\"slides\" />\n"
   ]
  },
  {
   "cell_type": "markdown",
   "id": "79607696",
   "metadata": {},
   "source": [
    "### Exercise 1: "
   ]
  },
  {
   "cell_type": "markdown",
   "id": "ce8caf30",
   "metadata": {},
   "source": [
    "**TODO**"
   ]
  },
  {
   "cell_type": "markdown",
   "id": "e48d8fc9",
   "metadata": {},
   "source": [
    "### Exercise 2:\n",
    "\n",
    "Below is the start of plotnine's documentation for `facet_wrap`. \n",
    "\n",
    "\n",
    "<img src=\"../assets/facet_wrap_docs.png\" style=\"width: 100%;\">\n",
    "\n",
    "Notice that the Parameters section lists `ncol` and `nrow` options. These determine how many columns or rows to use. For example, the plot below has `nrow = 1`.\n",
    "\n",
    "Try out the plot as is, and with the `nrow` argument changed to `ncol = 1`.\n",
    "Then, answer the questions below."
   ]
  },
  {
   "cell_type": "code",
   "execution_count": null,
   "id": "f9711988",
   "metadata": {},
   "outputs": [],
   "source": [
    "# This code keeps the 3 artists listed ----\n",
    "artists_to_keep = [\"Billie Eilish\", \"ITZY\", \"Roddy Ricch\"]\n",
    "\n",
    "some_artists = (\n",
    "  track_features\n",
    "  >> filter(_.artist.isin(artists_to_keep))\n",
    ")\n",
    "\n",
    "# This code plots the data ----\n",
    "(some_artists\n",
    "  >> ggplot(aes(\"energy\", \"valence\", color = \"artist\"))\n",
    "   + geom_point()\n",
    "   + facet_wrap(\"~artist\", nrow = 1)\n",
    "   + labs(title = \"Song features across 3 artists\")\n",
    ")"
   ]
  },
  {
   "cell_type": "markdown",
   "id": "54a54d54",
   "metadata": {},
   "source": [
    "<prompt-expandable header=\"Which of the three artists tends to have the lowest valence?\">\n",
    "\n",
    "<q-multiple-choice>\n",
    "  <q-opt text=\"Billie Eilish\"><span>Correct! We'll discuss how to measure the idea of \"tends to have\" in the next chapter.</span></q-opt>\n",
    "  <q-opt text=\"ITZY\"><span>That's not right. This artist tends to have the highest valence.</span></q-opt>\n",
    "  <q-opt text=\"Roddy Ricch\"><span>That's not right. Look for the cluster of points toward the bottom of the plot.</span></q-opt>\n",
    "</q-multiple-choice>\n",
    "\n",
    "</prompt-expandable>\n"
   ]
  },
  {
   "cell_type": "markdown",
   "id": "f49ab5c0",
   "metadata": {},
   "source": [
    "Which value seems easier to compare across facets, when ncol is set to 1?\n",
    "\n",
    "<details>\n",
    "<summary>answer</summary>\n",
    "    \n",
    "This is subjective, but I would say energy is easier to compare, since there is only one x-axis for across all plots. (For example, there is a only one spot on the x-axis where energy is .25).\n",
    "    \n",
    "</details>"
   ]
  }
 ],
 "metadata": {
  "jupytext": {
   "cell_metadata_filter": "name,tags,-all",
   "formats": "Rmd//Rmd,notebooks//ipynb",
   "notebook_metadata_filter": "purview"
  },
  "kernelspec": {
   "display_name": "venv-intro-to-siuba",
   "language": "python",
   "name": "venv-intro-to-siuba"
  },
  "purview": {
   "branch": "master",
   "repo": "machow/intro-to-siuba",
   "url": "https://mybinder.org",
   "useBinder": 1,
   "useStorage": 1
  }
 },
 "nbformat": 4,
 "nbformat_minor": 5
}
