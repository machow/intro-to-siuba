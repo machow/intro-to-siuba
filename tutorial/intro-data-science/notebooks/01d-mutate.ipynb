{
 "cells": [
  {
   "cell_type": "raw",
   "id": "3a01ab8e",
   "metadata": {},
   "source": [
    "---\n",
    "title: \"Mutate\"\n",
    "output: html_document\n",
    "editor_options: \n",
    "  chunk_output_type: console\n",
    "chunk: wrangle\n",
    "---"
   ]
  },
  {
   "cell_type": "code",
   "execution_count": null,
   "id": "9bcf25b6",
   "metadata": {
    "name": "setup",
    "tags": [
     "input-details",
     "setup"
    ]
   },
   "outputs": [],
   "source": [
    "# TODO: explain how to run this, and that they only need the gist (loads tools)\n",
    "\n",
    "# wranglign ---------\n",
    "import pandas as pd\n",
    "from siuba import *\n",
    "\n",
    "# plotting ----------\n",
    "from plotnine import *\n",
    "\n",
    "theme_set(theme_classic(base_family = \"Noto Sans CJK JP\"))\n",
    "\n",
    "# data --------------\n",
    "from music_top200 import music_top200, track_features\n",
    "\n",
    "# student support ----------\n",
    "from siuba import pipe\n",
    "from IPython.display import HTML, display\n",
    "from siututor import Blank\n",
    "___ = Blank()\n",
    "\n",
    "# DataFrame display --------\n",
    "pd.set_option(\"display.max_rows\", 6)\n",
    "\n",
    "from IPython import get_ipython\n",
    "# special ipython function to get the html formatter\n",
    "html_formatter = get_ipython().display_formatter.formatters['text/html']\n",
    "\n",
    "# here, we avoid the default df._repr_html_ method, since it inlines css\n",
    "# (style tags make vue angry)\n",
    "html_formatter.for_type(\n",
    "    pd.DataFrame,\n",
    "    lambda df: df.to_html(max_rows = pd.get_option(\"display.max_rows\"), show_dimensions = True)\n",
    ")\n",
    "\n",
    "# remove the <ggplot: (528...)> printout\n",
    "html_formatter.for_type(ggplot, lambda g: \"\")\n"
   ]
  },
  {
   "cell_type": "raw",
   "id": "119ae4e6",
   "metadata": {
    "lines_to_next_cell": 2
   },
   "source": [
    "import slides from '../slides/01d-slides.markdown'\n",
    "\n",
    "<RevealSlides :slides=\"slides\" />\n"
   ]
  },
  {
   "cell_type": "markdown",
   "id": "6ea744bc",
   "metadata": {},
   "source": [
    "### Exercise 0:\n",
    "\n",
    "Delete the `#` symbol on the line `# music_top200`. This symbol is called a comment, and causes everything to the right of it to be ignored."
   ]
  },
  {
   "cell_type": "code",
   "execution_count": null,
   "id": "828107c7",
   "metadata": {},
   "outputs": [],
   "source": [
    "# I am a helpful not. I am not code!\n",
    "\n",
    "# music_top200"
   ]
  },
  {
   "cell_type": "markdown",
   "id": "01281e08",
   "metadata": {},
   "source": [
    "### Exercise 1:\n",
    "\n",
    "Currently, the `duration` is calculated in seconds.\n",
    "\n",
    "* Delete (uncomment) the `#` symbol in the code.\n",
    "* Complete the code to convert duration to milliseconds.\n",
    "\n",
    "<details>\n",
    "  <summary>hint</summary>\n",
    "  \n",
    "  > Delete the # symbol. This is called a comment. When it is the first non-blank on a line, it stops that line from being run.\n",
    "  \n",
    "  > 1 second is 1000 milliseconds. So you would multiply the duration by 1000.\n",
    "</details>"
   ]
  },
  {
   "cell_type": "code",
   "execution_count": null,
   "id": "a8dd42d5",
   "metadata": {
    "lines_to_next_cell": 2
   },
   "outputs": [],
   "source": [
    "(music_top200\n",
    "  # >> mutate(___ = ___)\n",
    ")"
   ]
  },
  {
   "cell_type": "markdown",
   "id": "8f764b56",
   "metadata": {},
   "source": [
    "### Exercise 2:\n",
    "\n",
    "Uncomment the mutate in the pipe below. Can you fix the two errors in it?\n",
    "\n",
    "It should return data with a new column on the right, that divides position by 200.\n"
   ]
  },
  {
   "cell_type": "code",
   "execution_count": null,
   "id": "2b306fea",
   "metadata": {},
   "outputs": [],
   "source": [
    "(music_top200\n",
    "  # >> mutate(new position = position / 200)\n",
    ")"
   ]
  },
  {
   "cell_type": "code",
   "execution_count": null,
   "id": "a1e9f782",
   "metadata": {
    "tags": [
     "solution-code"
    ]
   },
   "outputs": [],
   "source": [
    "(music_top200\n",
    "  >> mutate(new_position = _.position / 200)\n",
    ")"
   ]
  },
  {
   "cell_type": "markdown",
   "id": "51f9556d",
   "metadata": {},
   "source": [
    "### Exercise 3: \n",
    "\n",
    "The mutate below uses code from a future chapter to calculate how many letters are in each artist's name.\n",
    "\n",
    "Which artist with the shortest name has the most streams?\n",
    "\n",
    "<details>\n",
    "  <summary>hint</summary>\n",
    "  \n",
    "  > You'll need to use an arrange in the pipe with 2 arguments.\n",
    "</details>"
   ]
  },
  {
   "cell_type": "code",
   "execution_count": null,
   "id": "bcd7148b",
   "metadata": {},
   "outputs": [],
   "source": [
    "(music_top200\n",
    "  >> mutate(artist_length = _.artist.str.len())\n",
    ")"
   ]
  },
  {
   "cell_type": "code",
   "execution_count": null,
   "id": "ab16a932",
   "metadata": {
    "tags": [
     "solution-code"
    ]
   },
   "outputs": [],
   "source": [
    "(music_top200\n",
    "  >> mutate(artist_length = _.artist.str.len())\n",
    "  >> arrange(_.artist_length, -_.streams)\n",
    ")"
   ]
  },
  {
   "cell_type": "raw",
   "id": "c4c17db8",
   "metadata": {},
   "source": [
    "\n",
    "<prompt-expandable header=\"\">\n",
    "\n",
    "<q-multiple-choice>\n",
    "  <q-opt text=\"V, for their track in Indonesia\"><span>That's right!</span></q-opt>\n",
    "  <q-opt text=\"V, for their track in Hong Kong\"><span>That's the right artist, but did you sort by most streams first?</span></q-opt>\n",
    "  <q-opt text=\"F, for their track in Finland\"><span>Incorrect. Did you sort by most streams first?</span></q-opt>\n",
    "    <q-opt text=\"F, for their track in Hong Kong\"><span>Incorrect. Did you sort by most streams first?</span></q-opt>\n",
    "</q-multiple-choice>\n",
    "\n",
    "</prompt-expandable>\n"
   ]
  }
 ],
 "metadata": {
  "jupytext": {
   "cell_metadata_filter": "name,tags,-all",
   "formats": "Rmd//Rmd,notebooks//ipynb",
   "notebook_metadata_filter": "purview"
  },
  "kernelspec": {
   "display_name": "venv-intro-to-siuba",
   "language": "python",
   "name": "venv-intro-to-siuba"
  },
  "purview": {
   "branch": "master",
   "repo": "machow/intro-to-siuba",
   "url": "https://mybinder.org",
   "useBinder": 1,
   "useStorage": 1
  }
 },
 "nbformat": 4,
 "nbformat_minor": 5
}
