{
 "cells": [
  {
   "cell_type": "raw",
   "id": "44a99fc8",
   "metadata": {},
   "source": [
    "---\n",
    "title: \"Getting started\"\n",
    "output: html_document\n",
    "editor_options: \n",
    "  chunk_output_type: console\n",
    "chunk: visualize\n",
    "---"
   ]
  },
  {
   "cell_type": "code",
   "execution_count": null,
   "id": "7265c9ec",
   "metadata": {
    "name": "setup",
    "tags": [
     "input-details",
     "setup"
    ]
   },
   "outputs": [],
   "source": [
    "# TODO: explain how to run this, and that they only need the gist (loads tools)\n",
    "\n",
    "# wranglign ---------\n",
    "import pandas as pd\n",
    "from siuba import *\n",
    "\n",
    "# plotting ----------\n",
    "from plotnine import *\n",
    "\n",
    "theme_set(theme_classic(base_family = \"Noto Sans CJK JP\"))\n",
    "\n",
    "# data --------------\n",
    "from music_top200 import music_top200, track_features\n",
    "\n",
    "# student support ----------\n",
    "from siuba import pipe\n",
    "from IPython.display import HTML, display\n",
    "from siututor import Blank\n",
    "___ = Blank()\n",
    "\n",
    "# DataFrame display --------\n",
    "pd.set_option(\"display.max_rows\", 6)\n",
    "\n",
    "from IPython import get_ipython\n",
    "# special ipython function to get the html formatter\n",
    "html_formatter = get_ipython().display_formatter.formatters['text/html']\n",
    "\n",
    "# here, we avoid the default df._repr_html_ method, since it inlines css\n",
    "# (style tags make vue angry)\n",
    "html_formatter.for_type(\n",
    "    pd.DataFrame,\n",
    "    lambda df: df.to_html(max_rows = pd.get_option(\"display.max_rows\"), show_dimensions = True)\n",
    ")\n",
    "\n",
    "# remove the <ggplot: (528...)> printout\n",
    "html_formatter.for_type(ggplot, lambda g: \"\")\n"
   ]
  },
  {
   "cell_type": "raw",
   "id": "78182743",
   "metadata": {},
   "source": [
    "import slides from '../slides/02-slides.markdown'\n",
    "\n",
    "<RevealSlides :slides=\"slides\" />\n"
   ]
  },
  {
   "cell_type": "markdown",
   "id": "8ea86c0e",
   "metadata": {
    "tags": [
     "exercise"
    ]
   },
   "source": [
    "### Exercise 1: \n",
    "\n",
    "In this exercise, there are two code cells. The first defines variables for tracks by different artists. The second creates a plot.\n",
    "\n",
    "Read through the code and plot, and then modify it to answer the question beneath."
   ]
  },
  {
   "cell_type": "code",
   "execution_count": null,
   "id": "11f3f69a",
   "metadata": {},
   "outputs": [],
   "source": [
    "roddy = (\n",
    "  track_features\n",
    "  >> filter(_.artist == \"Roddy Ricch\")\n",
    ")\n",
    "\n",
    "billie = (\n",
    "  track_features\n",
    "  >> filter(_.artist == \"Billie Eilish\")\n",
    ")\n",
    "\n",
    "other = (\n",
    "  track_features\n",
    "  >> filter(_.artist == \"ITZY\")\n",
    ")\n",
    "\n",
    "other"
   ]
  },
  {
   "cell_type": "markdown",
   "id": "6d3833b9",
   "metadata": {},
   "source": [
    "The code below plots hits for the `roddy` variable.\n",
    "Note that you could swap out `roddy` for any of the other two variables above."
   ]
  },
  {
   "cell_type": "code",
   "execution_count": null,
   "id": "3e5531da",
   "metadata": {},
   "outputs": [],
   "source": [
    "(roddy\n",
    "  >> ggplot(aes(\"danceability\", \"speechiness\"))\n",
    "   + geom_point()\n",
    "   + expand_limits(x = [0, 1], y = [0, 1])\n",
    ")"
   ]
  },
  {
   "cell_type": "markdown",
   "id": "01d719d0",
   "metadata": {},
   "source": [
    "\n",
    "\n",
    "<prompt-expandable header=\"Who has the widest range of danceability? (i.e. biggist difference between highest and lowest)\">\n",
    "\n",
    "<q-multiple-choice>\n",
    "  <q-opt text=\"Roddy Ricch\"><span>Try again.</span></q-opt>\n",
    "  <q-opt text=\"Billie Eilish\"><span>That's right!</span></q-opt>\n",
    "  <q-opt text=\"ITZY\"><span>Try again. All the ITZY songs shown have roughly the same danceability.</span></q-opt>\n",
    "</q-multiple-choice>\n",
    "\n",
    "</prompt-expandable>\n",
    "\n"
   ]
  },
  {
   "cell_type": "code",
   "execution_count": null,
   "id": "9c87a8a0",
   "metadata": {
    "tags": [
     "solution-code"
    ]
   },
   "outputs": [],
   "source": [
    "import pandas as pd\n",
    "all_together = pd.concat([roddy, billie, other])\n",
    "\n",
    "(all_together\n",
    "  >> ggplot(aes(\"danceability\", \"speechiness\", color = \"artist\"))\n",
    "   + geom_point()\n",
    "   + expand_limits(x = [0, 1], y = [0, 1])\n",
    ")"
   ]
  },
  {
   "cell_type": "markdown",
   "id": "2badaff6",
   "metadata": {
    "tags": [
     "exercise"
    ]
   },
   "source": [
    "### Exercise 2:\n",
    "\n",
    "Does it look like there any extremely popular songs over 15 minutes long?\n",
    "\n",
    "There is not one concrete answer to this question.\n",
    "Make a plot below, and come up with an answer you might share with another person.\n",
    "\n",
    "<details><summary>hint</summary>\n",
    "\n",
    "> The duration column contains the length of each song in seconds. Use this with the popularity column.\n",
    "\n",
    "</details>"
   ]
  },
  {
   "cell_type": "code",
   "execution_count": null,
   "id": "4a485be2",
   "metadata": {},
   "outputs": [],
   "source": [
    "(track_features\n",
    "  >> ggplot()\n",
    "\n",
    ")"
   ]
  },
  {
   "cell_type": "code",
   "execution_count": null,
   "id": "7d7e865c",
   "metadata": {
    "tags": [
     "solution-code"
    ]
   },
   "outputs": [],
   "source": [
    "(track_features\n",
    "  >> ggplot(aes(\"duration\", \"popularity\"))\n",
    "   + geom_point()\n",
    ")"
   ]
  },
  {
   "cell_type": "markdown",
   "id": "e9761339",
   "metadata": {},
   "source": [
    "<details>\n",
    "<summary>possible answers</summary>\n",
    "    \n",
    "<a target=\"_blank\" href=\"https://v.usetapes.com/XhWxJ9lAox\">screencast</a>\n",
    "    \n",
    "    \n",
    "</details>"
   ]
  },
  {
   "cell_type": "markdown",
   "id": "99cacb65",
   "metadata": {
    "tags": [
     "exercise"
    ]
   },
   "source": [
    "### Exercise 3:\n",
    "\n",
    "Does the lowest energy track belong to a \"low energy\" artist? In this exercise, we'll explore the questions using tracks by two artists.\n",
    "\n",
    "Here is the track data sorted by energy."
   ]
  },
  {
   "cell_type": "code",
   "execution_count": null,
   "id": "8a569a19",
   "metadata": {},
   "outputs": [],
   "source": [
    "# this code is to help you examine track energy levels \n",
    "(\n",
    "  track_features\n",
    "  >> arrange(_.energy)\n",
    ")"
   ]
  },
  {
   "cell_type": "markdown",
   "id": "fdb9d500",
   "metadata": {},
   "source": [
    " Notice that Simon Smith has the lowest energy song (\"Blagaslavlaju vas\"), while Scooter has the highest energy song (\"How Much is the Fish?\")."
   ]
  },
  {
   "cell_type": "markdown",
   "id": "0aa58326",
   "metadata": {},
   "source": [
    "First, filter the track_features data to create a variable named `artist_low` that has only tracks by the artist Simon Smith."
   ]
  },
  {
   "cell_type": "code",
   "execution_count": null,
   "id": "a743ff1a",
   "metadata": {},
   "outputs": [],
   "source": [
    "# create artist_low variable here\n",
    "\n",
    "artist_low = (\n",
    "    \n",
    ")"
   ]
  },
  {
   "cell_type": "markdown",
   "id": "ba59ce3d",
   "metadata": {},
   "source": [
    "Next, create a variable named `artist_high` with tracks by the artist Scooter, who has the highest energy song."
   ]
  },
  {
   "cell_type": "code",
   "execution_count": null,
   "id": "543f874d",
   "metadata": {},
   "outputs": [],
   "source": [
    "# create artist_high variable here\n",
    "\n",
    " "
   ]
  },
  {
   "cell_type": "markdown",
   "id": "9a866c78",
   "metadata": {},
   "source": [
    "Based on separate plots of their data, does the artist with the lowest energy track seem to have lower energy songs in general?"
   ]
  },
  {
   "cell_type": "code",
   "execution_count": null,
   "id": "a682198f",
   "metadata": {},
   "outputs": [],
   "source": [
    "# examine plots of each artist, to answer question\n",
    "# note, we're examining energy, so to make a scatterplot you could set\n",
    "# the second variable to anything interesting (e.g. popularity)\n",
    "\n",
    "(___\n",
    "\n",
    ")"
   ]
  },
  {
   "cell_type": "code",
   "execution_count": null,
   "id": "a14c30ab",
   "metadata": {
    "lines_to_next_cell": 2,
    "tags": [
     "solution-code"
    ]
   },
   "outputs": [],
   "source": [
    "artist_low = track_features >> filter(_.artist == \"Simon Smith\")\n",
    "\n",
    "artist_high = track_features >> filter(_.artist == \"Scooter\")\n",
    "\n",
    "ggplot(artist_low, aes(\"energy\", \"popularity\")) + geom_point()\n",
    "\n",
    "#ggplot(artist_high, aes(\"energy\", \"popularity\")) + geom_point()"
   ]
  },
  {
   "cell_type": "markdown",
   "id": "8c0058ca",
   "metadata": {},
   "source": [
    "<details><summary>possible answer</summary>\n",
    "\n",
    "The high energy artist, Scooter, seems to only have high energy songs (from about .9 to 1 energy).\n",
    "    \n",
    "On the other hand, the low energy artist, Simon Smith, seems to have a wide range of energy values (from about 0 to 1 energy).\n",
    "</details>"
   ]
  }
 ],
 "metadata": {
  "jupytext": {
   "cell_metadata_filter": "name,tags,-all",
   "formats": "Rmd//Rmd,notebooks//ipynb",
   "notebook_metadata_filter": "purview"
  },
  "kernelspec": {
   "display_name": "venv-intro-to-siuba",
   "language": "python",
   "name": "venv-intro-to-siuba"
  },
  "purview": {
   "branch": "master",
   "repo": "machow/intro-to-siuba",
   "url": "https://mybinder.org",
   "useBinder": 1,
   "useStorage": 1
  }
 },
 "nbformat": 4,
 "nbformat_minor": 5
}
