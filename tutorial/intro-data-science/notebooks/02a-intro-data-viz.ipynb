{
 "cells": [
  {
   "cell_type": "raw",
   "metadata": {},
   "source": [
    "---\n",
    "title: \"Getting started\"\n",
    "output: html_document\n",
    "editor_options: \n",
    "  chunk_output_type: console\n",
    "chunk: visualize\n",
    "---"
   ]
  },
  {
   "cell_type": "code",
   "execution_count": 1,
   "metadata": {
    "name": "setup",
    "tags": [
     "input-details",
     "setup"
    ]
   },
   "outputs": [],
   "source": [
    "# TODO: explain how to run this, and that they only need the gist (loads tools)\n",
    "\n",
    "# wranglign ---------\n",
    "import pandas as pd\n",
    "from siuba import *\n",
    "\n",
    "# plotting ----------\n",
    "from plotnine import *\n",
    "\n",
    "theme_set(theme_classic(base_family = \"Noto Sans CJK JP\"))\n",
    "\n",
    "# data --------------\n",
    "#fname = \"/Users/machow/Dropbox/Repo/siublocks-org/intro-tidyverse/tutorial/data/music200.csv\"\n",
    "fname = \"https://siublocks.s3.us-east-2.amazonaws.com/course-data/music200.csv\"\n",
    "music_top200 = pd.read_csv(fname)\n",
    "\n",
    "# tracks\n",
    "#fname = \"/Users/machow/Dropbox/Repo/siublocks-org/intro-tidyverse/tutorial/data/track_features.csv\"\n",
    "fname = \"https://siublocks.s3.us-east-2.amazonaws.com/course-data/track_features.csv\"\n",
    "track_features = pd.read_csv(fname)\n",
    "\n",
    "# student support ----------\n",
    "from siuba import pipe\n",
    "from IPython.display import HTML, display\n",
    "from siututor import Blank\n",
    "___ = Blank()\n",
    "\n",
    "# DataFrame display --------\n",
    "pd.set_option(\"display.max_rows\", 6)\n",
    "\n",
    "from IPython import get_ipython\n",
    "# special ipython function to get the html formatter\n",
    "html_formatter = get_ipython().display_formatter.formatters['text/html']\n",
    "\n",
    "# here, we avoid the default df._repr_html_ method, since it inlines css\n",
    "# (style tags make vue angry)\n",
    "html_formatter.for_type(\n",
    "    pd.DataFrame,\n",
    "    lambda df: df.to_html(max_rows = pd.get_option(\"display.max_rows\"), show_dimensions = True)\n",
    ")\n",
    "\n"
   ]
  },
  {
   "cell_type": "raw",
   "metadata": {},
   "source": [
    "import slides from '../slides/02-slides.markdown'\n",
    "\n",
    "<RevealSlides :slides=\"slides\" />\n"
   ]
  },
  {
   "cell_type": "markdown",
   "metadata": {
    "tags": [
     "exercise"
    ]
   },
   "source": [
    "### Exercise 1: \n",
    "\n",
    "In this exercise, there are two code cells. The first defines variables for tracks by different artists. The second creates a plot.\n",
    "\n",
    "Read through the code and plot, and then answer the question beneath."
   ]
  },
  {
   "cell_type": "code",
   "execution_count": 2,
   "metadata": {},
   "outputs": [
    {
     "data": {
      "text/html": [
       "<table border=\"1\" class=\"dataframe\">\n",
       "  <thead>\n",
       "    <tr style=\"text-align: right;\">\n",
       "      <th></th>\n",
       "      <th>artist</th>\n",
       "      <th>album</th>\n",
       "      <th>track_name</th>\n",
       "      <th>energy</th>\n",
       "      <th>valence</th>\n",
       "      <th>danceability</th>\n",
       "      <th>speechiness</th>\n",
       "      <th>acousticness</th>\n",
       "      <th>popularity</th>\n",
       "      <th>duration</th>\n",
       "    </tr>\n",
       "  </thead>\n",
       "  <tbody>\n",
       "    <tr>\n",
       "      <th>1432</th>\n",
       "      <td>ITZY</td>\n",
       "      <td>IT'z Different</td>\n",
       "      <td>달라달라 (DALLA DALLA)</td>\n",
       "      <td>0.853</td>\n",
       "      <td>0.713</td>\n",
       "      <td>0.790</td>\n",
       "      <td>0.0665</td>\n",
       "      <td>0.00116</td>\n",
       "      <td>73</td>\n",
       "      <td>199.874</td>\n",
       "    </tr>\n",
       "    <tr>\n",
       "      <th>21149</th>\n",
       "      <td>ITZY</td>\n",
       "      <td>IT'z Different</td>\n",
       "      <td>달라달라 DALLA DALLA</td>\n",
       "      <td>0.853</td>\n",
       "      <td>0.713</td>\n",
       "      <td>0.790</td>\n",
       "      <td>0.0665</td>\n",
       "      <td>0.00116</td>\n",
       "      <td>57</td>\n",
       "      <td>199.874</td>\n",
       "    </tr>\n",
       "    <tr>\n",
       "      <th>22389</th>\n",
       "      <td>ITZY</td>\n",
       "      <td>It'z Me</td>\n",
       "      <td>WANNABE</td>\n",
       "      <td>0.911</td>\n",
       "      <td>0.640</td>\n",
       "      <td>0.809</td>\n",
       "      <td>0.0617</td>\n",
       "      <td>0.00795</td>\n",
       "      <td>81</td>\n",
       "      <td>191.242</td>\n",
       "    </tr>\n",
       "    <tr>\n",
       "      <th>25288</th>\n",
       "      <td>ITZY</td>\n",
       "      <td>IT'z ICY</td>\n",
       "      <td>ICY</td>\n",
       "      <td>0.904</td>\n",
       "      <td>0.814</td>\n",
       "      <td>0.801</td>\n",
       "      <td>0.0834</td>\n",
       "      <td>0.03240</td>\n",
       "      <td>72</td>\n",
       "      <td>191.142</td>\n",
       "    </tr>\n",
       "  </tbody>\n",
       "</table>\n",
       "<p>4 rows × 10 columns</p>"
      ],
      "text/plain": [
       "      artist           album          track_name  energy  valence  \\\n",
       "1432    ITZY  IT'z Different  달라달라 (DALLA DALLA)   0.853    0.713   \n",
       "21149   ITZY  IT'z Different    달라달라 DALLA DALLA   0.853    0.713   \n",
       "22389   ITZY         It'z Me             WANNABE   0.911    0.640   \n",
       "25288   ITZY        IT'z ICY                 ICY   0.904    0.814   \n",
       "\n",
       "       danceability  speechiness  acousticness  popularity  duration  \n",
       "1432          0.790       0.0665       0.00116          73   199.874  \n",
       "21149         0.790       0.0665       0.00116          57   199.874  \n",
       "22389         0.809       0.0617       0.00795          81   191.242  \n",
       "25288         0.801       0.0834       0.03240          72   191.142  "
      ]
     },
     "execution_count": 2,
     "metadata": {},
     "output_type": "execute_result"
    }
   ],
   "source": [
    "roddy = (\n",
    "  track_features\n",
    "  >> filter(_.artist == \"Roddy Ricch\")\n",
    ")\n",
    "\n",
    "billie = (\n",
    "  track_features\n",
    "  >> filter(_.artist == \"Billie Eilish\")\n",
    ")\n",
    "\n",
    "other = (\n",
    "  track_features\n",
    "  >> filter(_.artist == \"ITZY\")\n",
    ")\n",
    "\n",
    "other"
   ]
  },
  {
   "cell_type": "code",
   "execution_count": 3,
   "metadata": {},
   "outputs": [
    {
     "name": "stderr",
     "output_type": "stream",
     "text": [
      "findfont: Font family ['Noto Sans CJK JP'] not found. Falling back to DejaVu Sans.\n"
     ]
    },
    {
     "name": "stderr",
     "output_type": "stream",
     "text": [
      "findfont: Font family ['Noto Sans CJK JP'] not found. Falling back to DejaVu Sans.\n"
     ]
    },
    {
     "data": {
      "image/png": "[encoded data removed]",
      "text/plain": [
       "<Figure size 640x480 with 1 Axes>"
      ]
     },
     "metadata": {},
     "output_type": "display_data"
    },
    {
     "data": {
      "text/plain": [
       "<ggplot: (-9223372036559026579)>"
      ]
     },
     "execution_count": 3,
     "metadata": {},
     "output_type": "execute_result"
    }
   ],
   "source": [
    "(roddy\n",
    "  >> ggplot(aes(\"danceability\", \"speechiness\"))\n",
    "   + geom_point()\n",
    "   + expand_limits(x = [0, 1], y = [0, 1])\n",
    ")"
   ]
  },
  {
   "cell_type": "markdown",
   "metadata": {},
   "source": [
    "\n",
    "\n",
    "<prompt-expandable header=\"Who has the widest range of danceability? (i.e. biggist difference between highest and lowest)\">\n",
    "\n",
    "<q-multiple-choice>\n",
    "  <q-opt text=\"Roddy Ricch\"><span>Try again.</span></q-opt>\n",
    "  <q-opt text=\"Billie Eilish\"><span>That's right!</span></q-opt>\n",
    "  <q-opt text=\"ITZY\"><span>Try again. All the ITZY songs shown have roughly the same danceability.</span></q-opt>\n",
    "</q-multiple-choice>\n",
    "\n",
    "</prompt-expandable>\n",
    "\n"
   ]
  },
  {
   "cell_type": "code",
   "execution_count": 4,
   "metadata": {
    "tags": [
     "solution-code"
    ]
   },
   "outputs": [
    {
     "data": {
      "image/png": "[encoded data removed]",
      "text/plain": [
       "<Figure size 640x480 with 1 Axes>"
      ]
     },
     "metadata": {},
     "output_type": "display_data"
    },
    {
     "data": {
      "text/plain": [
       "<ggplot: (295829417)>"
      ]
     },
     "execution_count": 4,
     "metadata": {},
     "output_type": "execute_result"
    }
   ],
   "source": [
    "import pandas as pd\n",
    "all_together = pd.concat([roddy, billie, other])\n",
    "\n",
    "(all_together\n",
    "  >> ggplot(aes(\"danceability\", \"speechiness\", color = \"artist\"))\n",
    "   + geom_point()\n",
    "   + expand_limits(x = [0, 1], y = [0, 1])\n",
    ")"
   ]
  },
  {
   "cell_type": "markdown",
   "metadata": {
    "tags": [
     "exercise"
    ]
   },
   "source": [
    "### Exercise 2:\n",
    "\n",
    "Does it look like there any extremely popular songs over 15 minutes long?\n",
    "\n",
    "There is not one concrete answer to this question.\n",
    "Make a plot below, and come up with an answer you might share with another person."
   ]
  },
  {
   "cell_type": "code",
   "execution_count": 5,
   "metadata": {},
   "outputs": [
    {
     "data": {
      "image/png": "[encoded data removed]",
      "text/plain": [
       "<Figure size 640x480 with 1 Axes>"
      ]
     },
     "metadata": {},
     "output_type": "display_data"
    },
    {
     "data": {
      "text/plain": [
       "<ggplot: (274975969)>"
      ]
     },
     "execution_count": 5,
     "metadata": {},
     "output_type": "execute_result"
    }
   ],
   "source": [
    "(track_features\n",
    "  >> ggplot()\n",
    "\n",
    ")"
   ]
  },
  {
   "cell_type": "code",
   "execution_count": 6,
   "metadata": {
    "tags": [
     "solution-code"
    ]
   },
   "outputs": [
    {
     "data": {
      "image/png": "[encoded data removed]",
      "text/plain": [
       "<Figure size 640x480 with 1 Axes>"
      ]
     },
     "metadata": {},
     "output_type": "display_data"
    },
    {
     "data": {
      "text/plain": [
       "<ggplot: (274975801)>"
      ]
     },
     "execution_count": 6,
     "metadata": {},
     "output_type": "execute_result"
    }
   ],
   "source": [
    "(track_features\n",
    "  >> ggplot(aes(\"duration\", \"popularity\"))\n",
    "   + geom_point()\n",
    ")"
   ]
  },
  {
   "cell_type": "markdown",
   "metadata": {},
   "source": [
    "<details>\n",
    "<summary>possible answers</summary>\n",
    "    \n",
    "<a target=\"_blank\" href=\"https://v.usetapes.com/XhWxJ9lAox\">screencast</a>\n",
    "    \n",
    "    \n",
    "</details>"
   ]
  },
  {
   "cell_type": "markdown",
   "metadata": {
    "tags": [
     "exercise"
    ]
   },
   "source": [
    "### Exercise 3:\n",
    "\n",
    "Does the lowest energy track belong to a \"low energy\" artist?\n",
    "\n",
    "Filter the track_features data to create two variables\n",
    "\n",
    "* **artist_low**: tracks for the artist with the lowest energy track.\n",
    "* **artist_high**: tracks for the artist with the highest energy track.\n",
    "\n",
    "After examining plots of both artists, does the one with the lowest energy track seem to have lower energy songs in general?"
   ]
  },
  {
   "cell_type": "code",
   "execution_count": 7,
   "metadata": {},
   "outputs": [
    {
     "data": {
      "text/html": [
       "<table border=\"1\" class=\"dataframe\">\n",
       "  <thead>\n",
       "    <tr style=\"text-align: right;\">\n",
       "      <th></th>\n",
       "      <th>artist</th>\n",
       "      <th>album</th>\n",
       "      <th>track_name</th>\n",
       "      <th>energy</th>\n",
       "      <th>valence</th>\n",
       "      <th>danceability</th>\n",
       "      <th>speechiness</th>\n",
       "      <th>acousticness</th>\n",
       "      <th>popularity</th>\n",
       "      <th>duration</th>\n",
       "    </tr>\n",
       "  </thead>\n",
       "  <tbody>\n",
       "    <tr>\n",
       "      <th>1003</th>\n",
       "      <td>Simon Smith</td>\n",
       "      <td>Loops</td>\n",
       "      <td>Blagaslavlaju vas</td>\n",
       "      <td>0.000778</td>\n",
       "      <td>0.000</td>\n",
       "      <td>0.779</td>\n",
       "      <td>0.4210</td>\n",
       "      <td>0.99400</td>\n",
       "      <td>0</td>\n",
       "      <td>36.038</td>\n",
       "    </tr>\n",
       "    <tr>\n",
       "      <th>5996</th>\n",
       "      <td>DMS</td>\n",
       "      <td>Prepáčte</td>\n",
       "      <td>Nič</td>\n",
       "      <td>0.000791</td>\n",
       "      <td>0.000</td>\n",
       "      <td>0.571</td>\n",
       "      <td>0.4460</td>\n",
       "      <td>0.95000</td>\n",
       "      <td>25</td>\n",
       "      <td>37.355</td>\n",
       "    </tr>\n",
       "    <tr>\n",
       "      <th>16690</th>\n",
       "      <td>Peter Simon</td>\n",
       "      <td>Snowrain</td>\n",
       "      <td>Snowrain</td>\n",
       "      <td>0.003480</td>\n",
       "      <td>0.373</td>\n",
       "      <td>0.472</td>\n",
       "      <td>0.0517</td>\n",
       "      <td>0.99600</td>\n",
       "      <td>0</td>\n",
       "      <td>31.000</td>\n",
       "    </tr>\n",
       "    <tr>\n",
       "      <th>...</th>\n",
       "      <td>...</td>\n",
       "      <td>...</td>\n",
       "      <td>...</td>\n",
       "      <td>...</td>\n",
       "      <td>...</td>\n",
       "      <td>...</td>\n",
       "      <td>...</td>\n",
       "      <td>...</td>\n",
       "      <td>...</td>\n",
       "      <td>...</td>\n",
       "    </tr>\n",
       "    <tr>\n",
       "      <th>22696</th>\n",
       "      <td>Nino Xypolitas</td>\n",
       "      <td>Epireastika</td>\n",
       "      <td>Eime Enas Allos - Original</td>\n",
       "      <td>0.996000</td>\n",
       "      <td>0.517</td>\n",
       "      <td>0.644</td>\n",
       "      <td>0.1030</td>\n",
       "      <td>0.00346</td>\n",
       "      <td>34</td>\n",
       "      <td>214.693</td>\n",
       "    </tr>\n",
       "    <tr>\n",
       "      <th>17073</th>\n",
       "      <td>Otira</td>\n",
       "      <td>Soundboy Burnin’</td>\n",
       "      <td>Soundboy Burnin’</td>\n",
       "      <td>0.997000</td>\n",
       "      <td>0.327</td>\n",
       "      <td>0.568</td>\n",
       "      <td>0.2330</td>\n",
       "      <td>0.00299</td>\n",
       "      <td>14</td>\n",
       "      <td>173.846</td>\n",
       "    </tr>\n",
       "    <tr>\n",
       "      <th>11070</th>\n",
       "      <td>Scooter</td>\n",
       "      <td>No Time To Chill</td>\n",
       "      <td>How Much Is the Fish?</td>\n",
       "      <td>0.999000</td>\n",
       "      <td>0.615</td>\n",
       "      <td>0.533</td>\n",
       "      <td>0.0786</td>\n",
       "      <td>0.00130</td>\n",
       "      <td>48</td>\n",
       "      <td>226.200</td>\n",
       "    </tr>\n",
       "  </tbody>\n",
       "</table>\n",
       "<p>25322 rows × 10 columns</p>"
      ],
      "text/plain": [
       "               artist             album                  track_name    energy  \\\n",
       "1003      Simon Smith             Loops           Blagaslavlaju vas  0.000778   \n",
       "5996              DMS          Prepáčte                         Nič  0.000791   \n",
       "16690     Peter Simon          Snowrain                    Snowrain  0.003480   \n",
       "...               ...               ...                         ...       ...   \n",
       "22696  Nino Xypolitas       Epireastika  Eime Enas Allos - Original  0.996000   \n",
       "17073           Otira  Soundboy Burnin’            Soundboy Burnin’  0.997000   \n",
       "11070         Scooter  No Time To Chill       How Much Is the Fish?  0.999000   \n",
       "\n",
       "       valence  danceability  speechiness  acousticness  popularity  duration  \n",
       "1003     0.000         0.779       0.4210       0.99400           0    36.038  \n",
       "5996     0.000         0.571       0.4460       0.95000          25    37.355  \n",
       "16690    0.373         0.472       0.0517       0.99600           0    31.000  \n",
       "...        ...           ...          ...           ...         ...       ...  \n",
       "22696    0.517         0.644       0.1030       0.00346          34   214.693  \n",
       "17073    0.327         0.568       0.2330       0.00299          14   173.846  \n",
       "11070    0.615         0.533       0.0786       0.00130          48   226.200  \n",
       "\n",
       "[25322 rows x 10 columns]"
      ]
     },
     "execution_count": 7,
     "metadata": {},
     "output_type": "execute_result"
    }
   ],
   "source": [
    "# this code is to help you examine track energy levels \n",
    "\n",
    "(\n",
    "  track_features\n",
    "  >> arrange(_.energy)\n",
    ")"
   ]
  },
  {
   "cell_type": "code",
   "execution_count": 8,
   "metadata": {},
   "outputs": [],
   "source": [
    "# create artist_low variable here\n",
    "\n",
    "artist_low = (\n",
    "    \n",
    ")"
   ]
  },
  {
   "cell_type": "code",
   "execution_count": 9,
   "metadata": {},
   "outputs": [],
   "source": [
    "# create artist_high variable here\n",
    "\n",
    " "
   ]
  },
  {
   "cell_type": "code",
   "execution_count": 10,
   "metadata": {},
   "outputs": [
    {
     "data": {
      "text/html": [
       "⚠️: <b>Don't forget to replace all the blanks!</b>"
      ],
      "text/plain": [
       "⚠️: <b>Don't forget to replace all the blanks!</b>"
      ]
     },
     "execution_count": 10,
     "metadata": {},
     "output_type": "execute_result"
    }
   ],
   "source": [
    "# examine plots of each artist, to answer question\n",
    "# note, we're examining energy, so to make a scatterplot you could set\n",
    "# the second variable to anything interesting (e.g. popularity)\n",
    "\n",
    "(___\n",
    "\n",
    ")"
   ]
  },
  {
   "cell_type": "code",
   "execution_count": 11,
   "metadata": {
    "lines_to_next_cell": 2
   },
   "outputs": [
    {
     "data": {
      "image/png": "[encoded data removed]",
      "text/plain": [
       "<Figure size 640x480 with 1 Axes>"
      ]
     },
     "metadata": {},
     "output_type": "display_data"
    },
    {
     "data": {
      "text/plain": [
       "<ggplot: (-9223372036556993988)>"
      ]
     },
     "execution_count": 11,
     "metadata": {},
     "output_type": "execute_result"
    }
   ],
   "source": [
    "artist_low = track_features >> filter(_.artist == \"Simon Smith\")\n",
    "\n",
    "artist_high = track_features >> filter(_.artist == \"Scooter\")\n",
    "\n",
    "ggplot(artist_low, aes(\"energy\", \"popularity\")) + geom_point()\n",
    "\n",
    "#ggplot(artist_high, aes(\"energy\", \"popularity\")) + geom_point()"
   ]
  },
  {
   "cell_type": "markdown",
   "metadata": {},
   "source": [
    "<details><summary>possible answer</summary>\n",
    "\n",
    "The high energy artist, Scooter, seems to only have high energy songs (from about .9 to 1 energy).\n",
    "    \n",
    "On the other hand, the low energy artist, Simon Smith, seems to have a wide range of energy values (from about 0 to 1 energy).\n",
    "</details>"
   ]
  }
 ],
 "metadata": {
  "jupytext": {
   "cell_metadata_filter": "name,tags,-all",
   "formats": "Rmd//Rmd,notebooks//ipynb",
   "notebook_metadata_filter": "purview"
  },
  "kernelspec": {
   "display_name": "Python 3",
   "language": "python",
   "name": "python3"
  },
  "language_info": {
   "codemirror_mode": {
    "name": "ipython",
    "version": 3
   },
   "file_extension": ".py",
   "mimetype": "text/x-python",
   "name": "python",
   "nbconvert_exporter": "python",
   "pygments_lexer": "ipython3",
   "version": "3.6.8"
  },
  "purview": {
   "branch": "master",
   "repo": "machow/purview",
   "url": "https://mybinder.org",
   "useBinder": 1,
   "useStorage": 1
  }
 },
 "nbformat": 4,
 "nbformat_minor": 4
}
