{
 "cells": [
  {
   "cell_type": "raw",
   "id": "ee5d7d57",
   "metadata": {},
   "source": [
    "---\n",
    "title: \"Aesthetics\"\n",
    "output: html_document\n",
    "editor_options: \n",
    "  chunk_output_type: console\n",
    "chunk: visualize\n",
    "---"
   ]
  },
  {
   "cell_type": "code",
   "execution_count": null,
   "id": "d2cf9fc0",
   "metadata": {
    "name": "setup",
    "tags": [
     "input-details",
     "setup"
    ]
   },
   "outputs": [],
   "source": [
    "# TODO: explain how to run this, and that they only need the gist (loads tools)\n",
    "\n",
    "# wranglign ---------\n",
    "import pandas as pd\n",
    "from siuba import *\n",
    "\n",
    "# plotting ----------\n",
    "from plotnine import *\n",
    "\n",
    "theme_set(theme_classic(base_family = \"Noto Sans CJK JP\"))\n",
    "\n",
    "# data --------------\n",
    "from music_top200 import music_top200, track_features\n",
    "\n",
    "# student support ----------\n",
    "from siuba import pipe\n",
    "from IPython.display import HTML, display\n",
    "from siututor import Blank\n",
    "___ = Blank()\n",
    "\n",
    "# DataFrame display --------\n",
    "pd.set_option(\"display.max_rows\", 6)\n",
    "\n",
    "from IPython import get_ipython\n",
    "# special ipython function to get the html formatter\n",
    "html_formatter = get_ipython().display_formatter.formatters['text/html']\n",
    "\n",
    "# here, we avoid the default df._repr_html_ method, since it inlines css\n",
    "# (style tags make vue angry)\n",
    "html_formatter.for_type(\n",
    "    pd.DataFrame,\n",
    "    lambda df: df.to_html(max_rows = pd.get_option(\"display.max_rows\"), show_dimensions = True)\n",
    ")\n",
    "\n",
    "# remove the <ggplot: (528...)> printout\n",
    "html_formatter.for_type(ggplot, lambda g: \"\")\n"
   ]
  },
  {
   "cell_type": "raw",
   "id": "ac59c70a",
   "metadata": {},
   "source": [
    "import slides from '../slides/02c-slides.markdown'\n",
    "\n",
    "<RevealSlides :slides=\"slides\" />\n"
   ]
  },
  {
   "cell_type": "markdown",
   "id": "f3cb763d",
   "metadata": {},
   "source": [
    "The plot below shows all top 200 hundred hits for Eric Chou across countries. \n",
    "Use the code cell below to recreate it.\n",
    "\n",
    "(Note: running the code won't delete the plot!).\n"
   ]
  },
  {
   "cell_type": "code",
   "execution_count": null,
   "id": "7a7b3abf",
   "metadata": {},
   "outputs": [],
   "source": [
    "# your code here\n",
    "\n",
    "\n",
    "\n",
    "#"
   ]
  },
  {
   "cell_type": "code",
   "execution_count": null,
   "id": "bd152b30",
   "metadata": {
    "tags": [
     "hide-input"
    ]
   },
   "outputs": [],
   "source": [
    "(music_top200\n",
    "  >> filter(_.artist == \"Eric Chou\")\n",
    "  >> ggplot(aes(\"position\", \"streams\", color = \"country\"))\n",
    "   + geom_point()\n",
    "   + labs(title = \"Top 200 hits for Eric Chou across countries\")\n",
    ")"
   ]
  },
  {
   "cell_type": "markdown",
   "id": "4527b1c4",
   "metadata": {},
   "source": [
    "### Exercise 2:\n",
    "\n",
    "Use plots of the data for the artists Snelle, Bazzi, and Davyi, to answer the questions below.\n",
    "\n",
    "You may need to write and run code multiple times, and produce multiple plots."
   ]
  },
  {
   "cell_type": "code",
   "execution_count": null,
   "id": "b29e4ea8",
   "metadata": {},
   "outputs": [],
   "source": [
    "(\n",
    "    \n",
    ")"
   ]
  },
  {
   "cell_type": "code",
   "execution_count": null,
   "id": "8170427c",
   "metadata": {
    "tags": [
     "solution-code"
    ]
   },
   "outputs": [],
   "source": [
    "p1 = (music_top200\n",
    "  >> filter(_.artist.isin([\"Snelle\", \"Bazzi\", \"Dayvi\"]))\n",
    "  >> ggplot(aes(\"position\", \"streams\", color = \"country\"))\n",
    "   + geom_point()\n",
    "   + facet_wrap(\"~artist\")\n",
    ")\n",
    "\n",
    "p2 = (music_top200\n",
    "  >> filter(_.artist.isin([\"Snelle\", \"Bazzi\", \"Dayvi\"]))\n",
    "  >> ggplot(aes(\"position\", \"streams\", color = \"continent\"))\n",
    "   + geom_point()\n",
    "   + facet_wrap(\"~artist\")\n",
    ")\n",
    "\n",
    "print(p1, p2)"
   ]
  },
  {
   "cell_type": "markdown",
   "id": "ee57fa54",
   "metadata": {},
   "source": [
    "\n",
    "<prompt-expandable header=\"Which of these artists have hit tracks in the most continents?\">\n",
    "\n",
    "<q-multiple-choice>\n",
    "  <q-opt text=\"Snelle\"><span>Incorrect. Did you try using the color aesthetic?</span></q-opt>\n",
    "  <q-opt text=\"Bazzi\"><span>That's right. Bazzi has hits on every continent.</span></q-opt>\n",
    "  <q-opt text=\"Dayvi\"><span>Incorrect. Did you try using the color aesthetic?</span></q-opt>\n",
    "</q-multiple-choice>\n",
    "\n",
    "</prompt-expandable>\n",
    "\n",
    "\n",
    "<prompt-expandable header=\"How many *countries* does Dayvi have hit tracks in?\">\n",
    "\n",
    "<q-multiple-choice>\n",
    "  <q-opt text=\"1\"><span>Incorrect.</span></q-opt>\n",
    "  <q-opt text=\"2\"><span>That's right.</span></q-opt>\n",
    "  <q-opt text=\"3\"><span>Incorrect.</span></q-opt>\n",
    "</q-multiple-choice>\n",
    "\n",
    "</prompt-expandable>\n"
   ]
  }
 ],
 "metadata": {
  "jupytext": {
   "cell_metadata_filter": "name,tags,-all",
   "formats": "Rmd//Rmd,notebooks//ipynb",
   "notebook_metadata_filter": "purview"
  },
  "kernelspec": {
   "display_name": "venv-intro-to-siuba",
   "language": "python",
   "name": "venv-intro-to-siuba"
  },
  "purview": {
   "branch": "master",
   "repo": "machow/intro-to-siuba",
   "url": "https://mybinder.org",
   "useBinder": 1,
   "useStorage": 1
  }
 },
 "nbformat": 4,
 "nbformat_minor": 5
}
