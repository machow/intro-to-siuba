{
 "cells": [
  {
   "cell_type": "raw",
   "id": "c1481ebc",
   "metadata": {},
   "source": [
    "---\n",
    "title: \"Boxplots\"\n",
    "output: html_document\n",
    "editor_options: \n",
    "  chunk_output_type: console\n",
    "chunk: plot types\n",
    "---"
   ]
  },
  {
   "cell_type": "code",
   "execution_count": null,
   "id": "ca880a59",
   "metadata": {
    "name": "setup",
    "tags": [
     "input-details",
     "setup"
    ]
   },
   "outputs": [],
   "source": [
    "# TODO: explain how to run this, and that they only need the gist (loads tools)\n",
    "\n",
    "# wranglign ---------\n",
    "import pandas as pd\n",
    "from siuba import *\n",
    "\n",
    "# plotting ----------\n",
    "from plotnine import *\n",
    "\n",
    "theme_set(theme_classic(base_family = \"Noto Sans CJK JP\"))\n",
    "\n",
    "# data --------------\n",
    "from music_top200 import music_top200, track_features\n",
    "\n",
    "# student support ----------\n",
    "from siuba import pipe\n",
    "from IPython.display import HTML, display\n",
    "from siututor import Blank\n",
    "___ = Blank()\n",
    "\n",
    "# DataFrame display --------\n",
    "pd.set_option(\"display.max_rows\", 6)\n",
    "\n",
    "from IPython import get_ipython\n",
    "# special ipython function to get the html formatter\n",
    "html_formatter = get_ipython().display_formatter.formatters['text/html']\n",
    "\n",
    "# here, we avoid the default df._repr_html_ method, since it inlines css\n",
    "# (style tags make vue angry)\n",
    "html_formatter.for_type(\n",
    "    pd.DataFrame,\n",
    "    lambda df: df.to_html(max_rows = pd.get_option(\"display.max_rows\"), show_dimensions = True)\n",
    ")\n",
    "\n",
    "# remove the <ggplot: (528...)> printout\n",
    "html_formatter.for_type(ggplot, lambda g: \"\")\n"
   ]
  },
  {
   "cell_type": "raw",
   "id": "0a30fa33",
   "metadata": {},
   "source": [
    "\n",
    "import slides from '../slides/03c-slides.markdown'\n",
    "\n",
    "<RevealSlides :slides=\"slides\" />\n"
   ]
  }
 ],
 "metadata": {
  "jupytext": {
   "cell_metadata_filter": "name,tags,-all",
   "formats": "Rmd//Rmd,notebooks//ipynb",
   "notebook_metadata_filter": "purview"
  },
  "kernelspec": {
   "display_name": "venv-intro-to-siuba",
   "language": "python",
   "name": "venv-intro-to-siuba"
  },
  "purview": {
   "branch": "master",
   "repo": "machow/intro-to-siuba",
   "url": "https://mybinder.org",
   "useBinder": 1,
   "useStorage": 1
  }
 },
 "nbformat": 4,
 "nbformat_minor": 5
}
