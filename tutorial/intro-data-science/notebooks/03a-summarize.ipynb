{
 "cells": [
  {
   "cell_type": "raw",
   "id": "91d01774",
   "metadata": {},
   "source": [
    "---\n",
    "title: \"Summarize\"\n",
    "output: html_document\n",
    "editor_options: \n",
    "  chunk_output_type: console\n",
    "chunk: summarize\n",
    "---"
   ]
  },
  {
   "cell_type": "code",
   "execution_count": null,
   "id": "a8078284",
   "metadata": {
    "name": "setup",
    "tags": [
     "input-details",
     "setup"
    ]
   },
   "outputs": [],
   "source": [
    "# TODO: explain how to run this, and that they only need the gist (loads tools)\n",
    "\n",
    "# wranglign ---------\n",
    "import pandas as pd\n",
    "from siuba import *\n",
    "\n",
    "# plotting ----------\n",
    "from plotnine import *\n",
    "\n",
    "theme_set(theme_classic(base_family = \"Noto Sans CJK JP\"))\n",
    "\n",
    "# data --------------\n",
    "from music_top200 import music_top200, track_features\n",
    "\n",
    "# student support ----------\n",
    "from siuba import pipe\n",
    "from IPython.display import HTML, display\n",
    "from siututor import Blank\n",
    "___ = Blank()\n",
    "\n",
    "# DataFrame display --------\n",
    "pd.set_option(\"display.max_rows\", 6)\n",
    "\n",
    "from IPython import get_ipython\n",
    "# special ipython function to get the html formatter\n",
    "html_formatter = get_ipython().display_formatter.formatters['text/html']\n",
    "\n",
    "# here, we avoid the default df._repr_html_ method, since it inlines css\n",
    "# (style tags make vue angry)\n",
    "html_formatter.for_type(\n",
    "    pd.DataFrame,\n",
    "    lambda df: df.to_html(max_rows = pd.get_option(\"display.max_rows\"), show_dimensions = True)\n",
    ")\n",
    "\n",
    "# remove the <ggplot: (528...)> printout\n",
    "html_formatter.for_type(ggplot, lambda g: \"\")\n"
   ]
  },
  {
   "cell_type": "raw",
   "id": "9048f983",
   "metadata": {},
   "source": [
    "\n",
    "import slides from '../slides/03a-slides.markdown'\n",
    "\n",
    "<RevealSlides :slides=\"slides\" />\n"
   ]
  },
  {
   "cell_type": "markdown",
   "id": "4ed0626f",
   "metadata": {},
   "source": [
    "### Exercise 1:\n",
    "\n",
    "The code below calculates the average duration.\n",
    "\n",
    "* Uncomment the summarize verb.\n",
    "* Change it to calculate median duration.\n",
    "* Make sure to change the resulting column name to indicate its a median."
   ]
  },
  {
   "cell_type": "code",
   "execution_count": null,
   "id": "7ed27592",
   "metadata": {},
   "outputs": [],
   "source": [
    "(music_top200\n",
    "  #>> summarize(avg_duration = _.duration.mean())\n",
    ")"
   ]
  },
  {
   "cell_type": "code",
   "execution_count": null,
   "id": "fda5084b",
   "metadata": {
    "tags": [
     "solution-code"
    ]
   },
   "outputs": [],
   "source": [
    "(music_top200\n",
    "  >> summarize(median_duration = _.duration.median(), ttl_streams = _.streams.sum())\n",
    ")"
   ]
  },
  {
   "cell_type": "raw",
   "id": "aafe7922",
   "metadata": {},
   "source": [
    "<prompt-expandable header=\"What is the median duration?\">\n",
    "<q-multiple-choice>\n",
    "  <q-opt text=\"205.990\"><span></span></q-opt>\n",
    "  <q-opt text=\"65.631\"><span></span></q-opt>\n",
    "  <q-opt text=\"201.084\"><span>That's right!</span></q-opt>\n",
    "  <q-opt text=\"851.871\"><span></span></q-opt>  \n",
    "</q-multiple-choice>\n",
    "</prompt-expandable>"
   ]
  },
  {
   "cell_type": "raw",
   "id": "56d247fc",
   "metadata": {},
   "source": [
    "<prompt-expandable header=\"Add a second argument to summarize, which calculates the sum of streams. How large is it?\">\n",
    "<q-multiple-choice>\n",
    "  <q-opt text=\"30,182,252\"><span></span></q-opt>\n",
    "  <q-opt text=\"301,822,525\"><span>That's right!</span></q-opt>  \n",
    "  <q-opt text=\"451,822,525\"><span></span></q-opt>\n",
    "  <q-opt text=\"45,182,252\"><span></span></q-opt>  \n",
    "</q-multiple-choice>\n",
    "</prompt-expandable>"
   ]
  },
  {
   "cell_type": "markdown",
   "id": "32a08c49",
   "metadata": {},
   "source": [
    "### Exercise 2:\n",
    "\n",
    "Use verbs you learned in chapter 1 to do the following:\n",
    "\n",
    "* find the track with the lowest duration\n",
    "* subset the data to keep only the row for that track\n",
    "\n",
    "(Note, you may need to run code multiple times)"
   ]
  },
  {
   "cell_type": "code",
   "execution_count": null,
   "id": "15d8784d",
   "metadata": {},
   "outputs": [],
   "source": [
    "(music_top200\n",
    "\n",
    ")"
   ]
  },
  {
   "cell_type": "markdown",
   "id": "99d5ef25",
   "metadata": {},
   "source": [
    "Now, use summarize to calculate the min duration, and the max duration directly."
   ]
  },
  {
   "cell_type": "code",
   "execution_count": null,
   "id": "c55c453b",
   "metadata": {
    "lines_to_next_cell": 2
   },
   "outputs": [],
   "source": [
    "(music_top200\n",
    "\n",
    ")"
   ]
  },
  {
   "cell_type": "markdown",
   "id": "6b77b675",
   "metadata": {},
   "source": [
    "<prompt-expandable header=\"Why would you use summarize like this, rather than the arrange and filter approach?\">\n",
    "\n",
    "<q-multiple-choice>\n",
    "  <q-opt text=\"The min and max values might be in different observations (rows).\"><span>That's right. Filter keeps specific rows, but summarize can collect values from across rows.</span></q-opt>\n",
    "  <q-opt text=\"It keeps more of the original data.\"><span>Try again. Filter keeps all the variables (columns), while summarize will remove most of them.</span></q-opt>\n",
    "  <q-opt text=\"The arrange and filter approach can do anything summarize can.\"><span>Try again.</span></q-opt>\n",
    "</q-multiple-choice>\n",
    "\n",
    "</prompt-expandable>\n"
   ]
  },
  {
   "cell_type": "markdown",
   "id": "f996d01e",
   "metadata": {},
   "source": [
    "### Exercise 3:\n",
    "\n",
    "The examples below show what happens verbs like filter and mutate use methods like `.mean()`."
   ]
  },
  {
   "cell_type": "code",
   "execution_count": null,
   "id": "32df2a07",
   "metadata": {},
   "outputs": [],
   "source": [
    "# create column for average streams\n",
    "(music_top200\n",
    "  >> mutate(avg_streams = _.streams.mean())\n",
    ")"
   ]
  },
  {
   "cell_type": "code",
   "execution_count": null,
   "id": "12f6de49",
   "metadata": {},
   "outputs": [],
   "source": [
    "# keep observations where streams are above average\n",
    "(music_top200\n",
    "  >> filter(_.streams < _.streams.mean())\n",
    ")"
   ]
  },
  {
   "cell_type": "markdown",
   "id": "2d397dbe",
   "metadata": {},
   "source": [
    "Based on the examples above, can you use only the filter verb to get the most streamed song in all the data?"
   ]
  },
  {
   "cell_type": "code",
   "execution_count": null,
   "id": "7bec50de",
   "metadata": {},
   "outputs": [],
   "source": [
    "# modify the filter verb below\n",
    "\n",
    "(music_top200\n",
    "  >> filter()\n",
    ")"
   ]
  },
  {
   "cell_type": "code",
   "execution_count": null,
   "id": "f9850643",
   "metadata": {},
   "outputs": [],
   "source": [
    "(music_top200\n",
    "  >> filter(_.streams == _.streams.max())\n",
    ")"
   ]
  },
  {
   "cell_type": "markdown",
   "id": "dfa17425",
   "metadata": {},
   "source": [
    "<details><summary>What is the most streamed song?</summary>The Box by Roddy Ricch</details>"
   ]
  }
 ],
 "metadata": {
  "jupytext": {
   "cell_metadata_filter": "name,tags,-all",
   "formats": "Rmd//Rmd,notebooks//ipynb",
   "notebook_metadata_filter": "purview"
  },
  "kernelspec": {
   "display_name": "venv-intro-to-siuba",
   "language": "python",
   "name": "venv-intro-to-siuba"
  },
  "purview": {
   "branch": "master",
   "repo": "machow/intro-to-siuba",
   "url": "https://mybinder.org",
   "useBinder": 1,
   "useStorage": 1
  }
 },
 "nbformat": 4,
 "nbformat_minor": 5
}
