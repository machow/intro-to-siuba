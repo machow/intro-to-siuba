{
 "cells": [
  {
   "cell_type": "raw",
   "id": "e327bc12",
   "metadata": {},
   "source": [
    "---\n",
    "title: \"Arrange\"\n",
    "output: html_document\n",
    "editor_options: \n",
    "  chunk_output_type: console\n",
    "chunk: wrangle\n",
    "---"
   ]
  },
  {
   "cell_type": "code",
   "execution_count": null,
   "id": "9f6a6ad3",
   "metadata": {
    "name": "setup",
    "tags": [
     "input-details",
     "setup"
    ]
   },
   "outputs": [],
   "source": [
    "# TODO: explain how to run this, and that they only need the gist (loads tools)\n",
    "\n",
    "# wranglign ---------\n",
    "import pandas as pd\n",
    "from siuba import *\n",
    "\n",
    "# plotting ----------\n",
    "from plotnine import *\n",
    "\n",
    "theme_set(theme_classic(base_family = \"Noto Sans CJK JP\"))\n",
    "\n",
    "# data --------------\n",
    "from music_top200 import music_top200, track_features\n",
    "\n",
    "# student support ----------\n",
    "from siuba import pipe\n",
    "from IPython.display import HTML, display\n",
    "from siututor import Blank\n",
    "___ = Blank()\n",
    "\n",
    "# DataFrame display --------\n",
    "pd.set_option(\"display.max_rows\", 6)\n",
    "\n",
    "from IPython import get_ipython\n",
    "# special ipython function to get the html formatter\n",
    "html_formatter = get_ipython().display_formatter.formatters['text/html']\n",
    "\n",
    "# here, we avoid the default df._repr_html_ method, since it inlines css\n",
    "# (style tags make vue angry)\n",
    "html_formatter.for_type(\n",
    "    pd.DataFrame,\n",
    "    lambda df: df.to_html(max_rows = pd.get_option(\"display.max_rows\"), show_dimensions = True)\n",
    ")\n",
    "\n",
    "# remove the <ggplot: (528...)> printout\n",
    "html_formatter.for_type(ggplot, lambda g: \"\")\n"
   ]
  },
  {
   "cell_type": "raw",
   "id": "a3b2b2ea",
   "metadata": {
    "lines_to_next_cell": 2
   },
   "source": [
    "import slides from '../slides/01c-slides.markdown'\n",
    "\n",
    "<RevealSlides :slides=\"slides\" />\n"
   ]
  },
  {
   "cell_type": "markdown",
   "id": "4eb71992",
   "metadata": {},
   "source": [
    "### Exercise 1:\n",
    "\n",
    "Modify the code below to arrange by artist name in **descending** order.\n",
    "\n",
    "<details><summary>hint</summary>"
   ]
  },
  {
   "cell_type": "markdown",
   "id": "78ba8bb3",
   "metadata": {},
   "source": [
    "> You can sort something in descending order, using the `-` operator."
   ]
  },
  {
   "cell_type": "markdown",
   "id": "216d8af1",
   "metadata": {},
   "source": [
    "<details><summary>another hint</summary>"
   ]
  },
  {
   "cell_type": "markdown",
   "id": "316487cd",
   "metadata": {},
   "source": [
    "> Start by using the pipe operator with `arrange()`. You will need to specify what to arrange by."
   ]
  },
  {
   "cell_type": "markdown",
   "id": "bd36c009",
   "metadata": {},
   "source": [
    "</details>\n",
    "</details>"
   ]
  },
  {
   "cell_type": "code",
   "execution_count": null,
   "id": "86e85a51",
   "metadata": {},
   "outputs": [],
   "source": [
    "(music_top200\n",
    "\n",
    ")"
   ]
  },
  {
   "cell_type": "code",
   "execution_count": null,
   "id": "1e7a2e4d",
   "metadata": {
    "tags": [
     "solution-code"
    ]
   },
   "outputs": [],
   "source": [
    "(music_top200\n",
    "  >> arrange(-_.artist)\n",
    ")"
   ]
  },
  {
   "cell_type": "raw",
   "id": "4c33a98c",
   "metadata": {},
   "source": [
    "<prompt-expandable header=\"What artist is the last observation (row) in the result?\">\n",
    "\n",
    "<q-multiple-choice>\n",
    "  <q-opt text=\"$NOT\"><span>Great job!</span></q-opt>\n",
    "  <q-opt text=\"黃宣\"><span>That's not right. Did you arrange in ascending, rather than descending order?</span></q-opt>\n",
    "  <q-opt text=\"Aaron Smith\"><span>Incorrect</span></q-opt>\n",
    "  <q-opt text=\"Y2K\"><span>Incorrect</span></q-opt>    \n",
    "</q-multiple-choice>\n",
    "\n",
    "</prompt-expandable>\n"
   ]
  },
  {
   "cell_type": "markdown",
   "id": "38d74637",
   "metadata": {},
   "source": [
    "### Exercise 2:\n",
    "\n",
    "What is the first track, if you filter to keep only observations from the country Mexico, and then sort in **ascending order** by track name?"
   ]
  },
  {
   "cell_type": "code",
   "execution_count": null,
   "id": "874d61f6",
   "metadata": {},
   "outputs": [],
   "source": [
    "(music_top200\n",
    "  >> ___\n",
    "  >> arrange(___)\n",
    ")"
   ]
  },
  {
   "cell_type": "code",
   "execution_count": null,
   "id": "b6edb2c4",
   "metadata": {
    "tags": [
     "solution-code"
    ]
   },
   "outputs": [],
   "source": [
    "(music_top200\n",
    "  >> filter(_.country == \"Mexico\")\n",
    "  >> arrange(_.track_name)\n",
    ")"
   ]
  },
  {
   "cell_type": "raw",
   "id": "8a94eeb7",
   "metadata": {},
   "source": [
    "<prompt-expandable header=\"\">\n",
    "\n",
    "<q-multiple-choice>\n",
    "  <q-opt text=\"11 PM\"><span>Great job!</span></q-opt>\n",
    "  <q-opt text=\"一天 (電視劇《想見你》插曲)\"><span>Incorrect</span></q-opt>\n",
    "  <q-opt text=\"everything i wanted\"><span>Incorrect</span></q-opt>\n",
    "  <q-opt text=\"#24\"><span>Be sure to filter where country is Mexico</span></q-opt>    \n",
    "</q-multiple-choice>\n",
    "\n",
    "</prompt-expandable>\n"
   ]
  },
  {
   "cell_type": "markdown",
   "id": "f98760f3",
   "metadata": {},
   "source": [
    "### Exercise 3: \n",
    "\n",
    "Below is code with the arrange verb removed. Modify it to arrange in ascending order..\n",
    "\n",
    "* first by position\n",
    "* second by streams"
   ]
  },
  {
   "cell_type": "code",
   "execution_count": null,
   "id": "faf4cc0b",
   "metadata": {},
   "outputs": [],
   "source": [
    "(music_top200\n",
    "  >> ___\n",
    ")"
   ]
  },
  {
   "cell_type": "code",
   "execution_count": null,
   "id": "9248b274",
   "metadata": {
    "tags": [
     "solution-code"
    ]
   },
   "outputs": [],
   "source": [
    "(music_top200\n",
    "  >> arrange(_.position, _.streams)\n",
    ")"
   ]
  },
  {
   "cell_type": "raw",
   "id": "c78ede4a",
   "metadata": {},
   "source": [
    "\n",
    "<prompt-expandable header=\"What country has the position 1 track (The Box) with fewest streams?\">\n",
    "\n",
    "<q-multiple-choice>\n",
    "  <q-opt text=\"Cyprus\"><span>That's right! Make sure to double check that the track is named The Box by Roddy Ricch.</span></q-opt>\n",
    "  <q-opt text=\"United States\"><span>Incorrect</span></q-opt>\n",
    "  <q-opt text=\"Brazil\"><span>Incorrect</span></q-opt>\n",
    "    <q-opt text=\"Luxembou\"><span>Incorrect</span></q-opt>\n",
    "</q-multiple-choice>\n",
    "\n",
    "</prompt-expandable>\n"
   ]
  },
  {
   "cell_type": "markdown",
   "id": "75d98d2e",
   "metadata": {},
   "source": [
    "### Exercise 4\n",
    "\n",
    "What's the shortest song in the top position in the `music_top200` data?"
   ]
  },
  {
   "cell_type": "code",
   "execution_count": null,
   "id": "c22193d4",
   "metadata": {
    "tags": [
     "empty-code"
    ]
   },
   "outputs": [],
   "source": [
    "# add code below this line\n",
    "\n",
    "\n",
    "\n"
   ]
  },
  {
   "cell_type": "code",
   "execution_count": null,
   "id": "b91d4233",
   "metadata": {
    "tags": [
     "solution-code"
    ]
   },
   "outputs": [],
   "source": [
    "# NOTE: there are multiple ways to get the answer!\n",
    "(music_top200\n",
    "  >> arrange(_.position, _.duration)\n",
    ")"
   ]
  },
  {
   "cell_type": "raw",
   "id": "83cfbb88",
   "metadata": {},
   "source": [
    "\n",
    "<prompt-expandable header=\"\">\n",
    "\n",
    "<q-multiple-choice>\n",
    "  <q-opt text=\"Bad Girls, Good Vibes\"><span>That's right!</span></q-opt>\n",
    "  <q-opt text=\"Klop Klop\"><span>Incorrect. This is the shortest track in any position. Can you sort to get top position tracks first?</span></q-opt>\n",
    "  <q-opt text=\"Susamam\"><span>Incorrect. This is the longest track in any position. Can you sort to get top position tracks first?</span></q-opt>\n",
    "    <q-opt text=\"Blockparty\"><span>Incorrect. This is the shortest track in the last position.</span></q-opt>\n",
    "</q-multiple-choice>\n",
    "\n",
    "</prompt-expandable>\n"
   ]
  }
 ],
 "metadata": {
  "jupytext": {
   "cell_metadata_filter": "name,tags,-all",
   "formats": "Rmd//Rmd,notebooks//ipynb",
   "notebook_metadata_filter": "purview"
  },
  "kernelspec": {
   "display_name": "venv-intro-to-siuba",
   "language": "python",
   "name": "venv-intro-to-siuba"
  },
  "purview": {
   "branch": "master",
   "repo": "machow/intro-to-siuba",
   "url": "https://mybinder.org",
   "useBinder": 1,
   "useStorage": 1
  }
 },
 "nbformat": 4,
 "nbformat_minor": 5
}
