{
 "cells": [
  {
   "cell_type": "raw",
   "metadata": {},
   "source": [
    "---\n",
    "title: \"Arrange\"\n",
    "output: html_document\n",
    "editor_options: \n",
    "  chunk_output_type: console\n",
    "chunk: wrangle\n",
    "---"
   ]
  },
  {
   "cell_type": "code",
   "execution_count": 1,
   "metadata": {
    "name": "setup",
    "tags": [
     "input-details",
     "setup"
    ]
   },
   "outputs": [],
   "source": [
    "# TODO: explain how to run this, and that they only need the gist (loads tools)\n",
    "\n",
    "# wranglign ---------\n",
    "import pandas as pd\n",
    "from siuba import *\n",
    "\n",
    "# plotting ----------\n",
    "from plotnine import *\n",
    "\n",
    "theme_set(theme_classic(base_family = \"Noto Sans CJK JP\"))\n",
    "\n",
    "# data --------------\n",
    "#fname = \"/Users/machow/Dropbox/Repo/siublocks-org/intro-tidyverse/tutorial/data/music200.csv\"\n",
    "fname = \"https://siublocks.s3.us-east-2.amazonaws.com/course-data/music200.csv\"\n",
    "music_top200 = pd.read_csv(fname)\n",
    "\n",
    "# tracks\n",
    "#fname = \"/Users/machow/Dropbox/Repo/siublocks-org/intro-tidyverse/tutorial/data/track_features.csv\"\n",
    "fname = \"https://siublocks.s3.us-east-2.amazonaws.com/course-data/track_features.csv\"\n",
    "track_features = pd.read_csv(fname)\n",
    "\n",
    "# student support ----------\n",
    "from siuba import pipe\n",
    "from IPython.display import HTML, display\n",
    "from siututor import Blank\n",
    "___ = Blank()\n",
    "\n",
    "# DataFrame display --------\n",
    "pd.set_option(\"display.max_rows\", 6)\n",
    "\n",
    "from IPython import get_ipython\n",
    "# special ipython function to get the html formatter\n",
    "html_formatter = get_ipython().display_formatter.formatters['text/html']\n",
    "\n",
    "# here, we avoid the default df._repr_html_ method, since it inlines css\n",
    "# (style tags make vue angry)\n",
    "html_formatter.for_type(\n",
    "    pd.DataFrame,\n",
    "    lambda df: df.to_html(max_rows = pd.get_option(\"display.max_rows\"), show_dimensions = True)\n",
    ")\n",
    "\n",
    "# remove the <ggplot: (528...)> printout\n",
    "html_formatter.for_type(ggplot, lambda g: \"\")\n"
   ]
  },
  {
   "cell_type": "raw",
   "metadata": {
    "lines_to_next_cell": 2
   },
   "source": [
    "import slides from '../slides/01c-slides.markdown'\n",
    "\n",
    "<RevealSlides :slides=\"slides\" />\n"
   ]
  },
  {
   "cell_type": "markdown",
   "metadata": {},
   "source": [
    "### Exercise 1:\n",
    "\n",
    "Modify the code below to arrange by artist name in **descending** order.\n",
    "\n",
    "<details><summary>hint</summary>"
   ]
  },
  {
   "cell_type": "markdown",
   "metadata": {},
   "source": [
    "> You can sort something in descending order, using the `-` operator."
   ]
  },
  {
   "cell_type": "markdown",
   "metadata": {},
   "source": [
    "<details><summary>another hint</summary>"
   ]
  },
  {
   "cell_type": "markdown",
   "metadata": {},
   "source": [
    "> Start by using the pipe operator with `arrange()`. You will need to specify what to arrange by."
   ]
  },
  {
   "cell_type": "markdown",
   "metadata": {},
   "source": [
    "</details>\n",
    "</details>"
   ]
  },
  {
   "cell_type": "code",
   "execution_count": 2,
   "metadata": {},
   "outputs": [
    {
     "data": {
      "text/html": [
       "<table border=\"1\" class=\"dataframe\">\n",
       "  <thead>\n",
       "    <tr style=\"text-align: right;\">\n",
       "      <th></th>\n",
       "      <th>country</th>\n",
       "      <th>position</th>\n",
       "      <th>track_name</th>\n",
       "      <th>artist</th>\n",
       "      <th>streams</th>\n",
       "      <th>duration</th>\n",
       "      <th>continent</th>\n",
       "    </tr>\n",
       "  </thead>\n",
       "  <tbody>\n",
       "    <tr>\n",
       "      <th>0</th>\n",
       "      <td>Argentina</td>\n",
       "      <td>1</td>\n",
       "      <td>Tusa</td>\n",
       "      <td>KAROL G</td>\n",
       "      <td>1858666</td>\n",
       "      <td>200.960</td>\n",
       "      <td>Americas</td>\n",
       "    </tr>\n",
       "    <tr>\n",
       "      <th>1</th>\n",
       "      <td>Argentina</td>\n",
       "      <td>2</td>\n",
       "      <td>Tattoo</td>\n",
       "      <td>Rauw Alejandro</td>\n",
       "      <td>1344382</td>\n",
       "      <td>202.887</td>\n",
       "      <td>Americas</td>\n",
       "    </tr>\n",
       "    <tr>\n",
       "      <th>2</th>\n",
       "      <td>Argentina</td>\n",
       "      <td>3</td>\n",
       "      <td>Hola - Remix</td>\n",
       "      <td>Dalex</td>\n",
       "      <td>1330011</td>\n",
       "      <td>249.520</td>\n",
       "      <td>Americas</td>\n",
       "    </tr>\n",
       "    <tr>\n",
       "      <th>...</th>\n",
       "      <td>...</td>\n",
       "      <td>...</td>\n",
       "      <td>...</td>\n",
       "      <td>...</td>\n",
       "      <td>...</td>\n",
       "      <td>...</td>\n",
       "      <td>...</td>\n",
       "    </tr>\n",
       "    <tr>\n",
       "      <th>12397</th>\n",
       "      <td>South Africa</td>\n",
       "      <td>198</td>\n",
       "      <td>Black And White</td>\n",
       "      <td>Niall Horan</td>\n",
       "      <td>11771</td>\n",
       "      <td>193.090</td>\n",
       "      <td>Africa</td>\n",
       "    </tr>\n",
       "    <tr>\n",
       "      <th>12398</th>\n",
       "      <td>South Africa</td>\n",
       "      <td>199</td>\n",
       "      <td>When I See U</td>\n",
       "      <td>Fantasia</td>\n",
       "      <td>11752</td>\n",
       "      <td>217.347</td>\n",
       "      <td>Africa</td>\n",
       "    </tr>\n",
       "    <tr>\n",
       "      <th>12399</th>\n",
       "      <td>South Africa</td>\n",
       "      <td>200</td>\n",
       "      <td>Psycho!</td>\n",
       "      <td>MASN</td>\n",
       "      <td>11743</td>\n",
       "      <td>197.217</td>\n",
       "      <td>Africa</td>\n",
       "    </tr>\n",
       "  </tbody>\n",
       "</table>\n",
       "<p>12400 rows × 7 columns</p>"
      ],
      "text/plain": [
       "            country  position       track_name          artist  streams  \\\n",
       "0         Argentina         1             Tusa         KAROL G  1858666   \n",
       "1         Argentina         2           Tattoo  Rauw Alejandro  1344382   \n",
       "2         Argentina         3     Hola - Remix           Dalex  1330011   \n",
       "...             ...       ...              ...             ...      ...   \n",
       "12397  South Africa       198  Black And White     Niall Horan    11771   \n",
       "12398  South Africa       199     When I See U        Fantasia    11752   \n",
       "12399  South Africa       200          Psycho!            MASN    11743   \n",
       "\n",
       "       duration continent  \n",
       "0       200.960  Americas  \n",
       "1       202.887  Americas  \n",
       "2       249.520  Americas  \n",
       "...         ...       ...  \n",
       "12397   193.090    Africa  \n",
       "12398   217.347    Africa  \n",
       "12399   197.217    Africa  \n",
       "\n",
       "[12400 rows x 7 columns]"
      ]
     },
     "execution_count": 2,
     "metadata": {},
     "output_type": "execute_result"
    }
   ],
   "source": [
    "(music_top200\n",
    "\n",
    ")"
   ]
  },
  {
   "cell_type": "code",
   "execution_count": 3,
   "metadata": {
    "collapsed": true,
    "jupyter": {
     "outputs_hidden": true,
     "source_hidden": true
    },
    "tags": [
     "solution-code"
    ]
   },
   "outputs": [
    {
     "data": {
      "text/html": [
       "<table border=\"1\" class=\"dataframe\">\n",
       "  <thead>\n",
       "    <tr style=\"text-align: right;\">\n",
       "      <th></th>\n",
       "      <th>country</th>\n",
       "      <th>position</th>\n",
       "      <th>track_name</th>\n",
       "      <th>artist</th>\n",
       "      <th>streams</th>\n",
       "      <th>duration</th>\n",
       "      <th>continent</th>\n",
       "    </tr>\n",
       "  </thead>\n",
       "  <tbody>\n",
       "    <tr>\n",
       "      <th>11783</th>\n",
       "      <td>Taiwan, Province of China</td>\n",
       "      <td>184</td>\n",
       "      <td>一天 (電視劇《想見你》插曲)</td>\n",
       "      <td>黃宣</td>\n",
       "      <td>41615</td>\n",
       "      <td>248.630</td>\n",
       "      <td>Asia</td>\n",
       "    </tr>\n",
       "    <tr>\n",
       "      <th>4797</th>\n",
       "      <td>Hong Kong</td>\n",
       "      <td>198</td>\n",
       "      <td>Without You</td>\n",
       "      <td>高爾宣 OSN</td>\n",
       "      <td>19956</td>\n",
       "      <td>175.500</td>\n",
       "      <td>Asia</td>\n",
       "    </tr>\n",
       "    <tr>\n",
       "      <th>10745</th>\n",
       "      <td>Singapore</td>\n",
       "      <td>146</td>\n",
       "      <td>Without You</td>\n",
       "      <td>高爾宣 OSN</td>\n",
       "      <td>57383</td>\n",
       "      <td>175.500</td>\n",
       "      <td>Asia</td>\n",
       "    </tr>\n",
       "    <tr>\n",
       "      <th>...</th>\n",
       "      <td>...</td>\n",
       "      <td>...</td>\n",
       "      <td>...</td>\n",
       "      <td>...</td>\n",
       "      <td>...</td>\n",
       "      <td>...</td>\n",
       "      <td>...</td>\n",
       "    </tr>\n",
       "    <tr>\n",
       "      <th>9737</th>\n",
       "      <td>Philippines</td>\n",
       "      <td>138</td>\n",
       "      <td>This I Promise You</td>\n",
       "      <td>*NSYNC</td>\n",
       "      <td>196170</td>\n",
       "      <td>283.507</td>\n",
       "      <td>Asia</td>\n",
       "    </tr>\n",
       "    <tr>\n",
       "      <th>11394</th>\n",
       "      <td>Thailand</td>\n",
       "      <td>195</td>\n",
       "      <td>LION</td>\n",
       "      <td>(G)I-DLE</td>\n",
       "      <td>44329</td>\n",
       "      <td>210.973</td>\n",
       "      <td>Asia</td>\n",
       "    </tr>\n",
       "    <tr>\n",
       "      <th>7153</th>\n",
       "      <td>Latvia</td>\n",
       "      <td>154</td>\n",
       "      <td>GOSHA</td>\n",
       "      <td>$NOT</td>\n",
       "      <td>5849</td>\n",
       "      <td>120.000</td>\n",
       "      <td>Europe</td>\n",
       "    </tr>\n",
       "  </tbody>\n",
       "</table>\n",
       "<p>12400 rows × 7 columns</p>"
      ],
      "text/plain": [
       "                         country  position          track_name    artist  \\\n",
       "11783  Taiwan, Province of China       184     一天 (電視劇《想見你》插曲)        黃宣   \n",
       "4797                   Hong Kong       198         Without You   高爾宣 OSN   \n",
       "10745                  Singapore       146         Without You   高爾宣 OSN   \n",
       "...                          ...       ...                 ...       ...   \n",
       "9737                 Philippines       138  This I Promise You    *NSYNC   \n",
       "11394                   Thailand       195                LION  (G)I-DLE   \n",
       "7153                      Latvia       154               GOSHA      $NOT   \n",
       "\n",
       "       streams  duration continent  \n",
       "11783    41615   248.630      Asia  \n",
       "4797     19956   175.500      Asia  \n",
       "10745    57383   175.500      Asia  \n",
       "...        ...       ...       ...  \n",
       "9737    196170   283.507      Asia  \n",
       "11394    44329   210.973      Asia  \n",
       "7153      5849   120.000    Europe  \n",
       "\n",
       "[12400 rows x 7 columns]"
      ]
     },
     "execution_count": 3,
     "metadata": {},
     "output_type": "execute_result"
    }
   ],
   "source": [
    "(music_top200\n",
    "  >> arrange(-_.artist)\n",
    ")"
   ]
  },
  {
   "cell_type": "raw",
   "metadata": {},
   "source": [
    "<prompt-expandable header=\"What artist is the last observation (row) in the result?\">\n",
    "\n",
    "<q-multiple-choice>\n",
    "  <q-opt text=\"$NOT\"><span>Great job!</span></q-opt>\n",
    "  <q-opt text=\"黃宣\"><span>That's not right. Did you arrange in ascending, rather than descending order?</span></q-opt>\n",
    "  <q-opt text=\"Aaron Smith\"><span>Incorrect</span></q-opt>\n",
    "  <q-opt text=\"Y2K\"><span>Incorrect</span></q-opt>    \n",
    "</q-multiple-choice>\n",
    "\n",
    "</prompt-expandable>\n"
   ]
  },
  {
   "cell_type": "markdown",
   "metadata": {},
   "source": [
    "### Exercise 2:\n",
    "\n",
    "What is the first track, if you filter to keep only observations from the country Mexico, and then sort in **ascending order** by track name?"
   ]
  },
  {
   "cell_type": "code",
   "execution_count": 4,
   "metadata": {},
   "outputs": [
    {
     "data": {
      "text/html": [
       "⚠️: <b>Don't forget to replace all the blanks!</b>"
      ],
      "text/plain": [
       "⚠️: <b>Don't forget to replace all the blanks!</b>"
      ]
     },
     "execution_count": 4,
     "metadata": {},
     "output_type": "execute_result"
    }
   ],
   "source": [
    "(music_top200\n",
    "  >> ___\n",
    "  >> arrange(___)\n",
    ")"
   ]
  },
  {
   "cell_type": "code",
   "execution_count": 5,
   "metadata": {
    "collapsed": true,
    "jupyter": {
     "outputs_hidden": true,
     "source_hidden": true
    },
    "tags": [
     "solution-code"
    ]
   },
   "outputs": [
    {
     "data": {
      "text/html": [
       "<table border=\"1\" class=\"dataframe\">\n",
       "  <thead>\n",
       "    <tr style=\"text-align: right;\">\n",
       "      <th></th>\n",
       "      <th>country</th>\n",
       "      <th>position</th>\n",
       "      <th>track_name</th>\n",
       "      <th>artist</th>\n",
       "      <th>streams</th>\n",
       "      <th>duration</th>\n",
       "      <th>continent</th>\n",
       "    </tr>\n",
       "  </thead>\n",
       "  <tbody>\n",
       "    <tr>\n",
       "      <th>8263</th>\n",
       "      <td>Mexico</td>\n",
       "      <td>64</td>\n",
       "      <td>11 PM</td>\n",
       "      <td>Maluma</td>\n",
       "      <td>1160043</td>\n",
       "      <td>175.733</td>\n",
       "      <td>Americas</td>\n",
       "    </tr>\n",
       "    <tr>\n",
       "      <th>8233</th>\n",
       "      <td>Mexico</td>\n",
       "      <td>34</td>\n",
       "      <td>25/8</td>\n",
       "      <td>Bad Bunny</td>\n",
       "      <td>1781488</td>\n",
       "      <td>243.276</td>\n",
       "      <td>Americas</td>\n",
       "    </tr>\n",
       "    <tr>\n",
       "      <th>8356</th>\n",
       "      <td>Mexico</td>\n",
       "      <td>157</td>\n",
       "      <td>7 rings</td>\n",
       "      <td>Ariana Grande</td>\n",
       "      <td>660372</td>\n",
       "      <td>178.640</td>\n",
       "      <td>Americas</td>\n",
       "    </tr>\n",
       "    <tr>\n",
       "      <th>...</th>\n",
       "      <td>...</td>\n",
       "      <td>...</td>\n",
       "      <td>...</td>\n",
       "      <td>...</td>\n",
       "      <td>...</td>\n",
       "      <td>...</td>\n",
       "      <td>...</td>\n",
       "    </tr>\n",
       "    <tr>\n",
       "      <th>8291</th>\n",
       "      <td>Mexico</td>\n",
       "      <td>92</td>\n",
       "      <td>bad guy</td>\n",
       "      <td>Billie Eilish</td>\n",
       "      <td>958347</td>\n",
       "      <td>194.088</td>\n",
       "      <td>Americas</td>\n",
       "    </tr>\n",
       "    <tr>\n",
       "      <th>8329</th>\n",
       "      <td>Mexico</td>\n",
       "      <td>130</td>\n",
       "      <td>death bed (coffee for your head) (feat. beabadoobee)</td>\n",
       "      <td>Powfu</td>\n",
       "      <td>765591</td>\n",
       "      <td>173.333</td>\n",
       "      <td>Americas</td>\n",
       "    </tr>\n",
       "    <tr>\n",
       "      <th>8337</th>\n",
       "      <td>Mexico</td>\n",
       "      <td>138</td>\n",
       "      <td>everything i wanted</td>\n",
       "      <td>Billie Eilish</td>\n",
       "      <td>721895</td>\n",
       "      <td>245.426</td>\n",
       "      <td>Americas</td>\n",
       "    </tr>\n",
       "  </tbody>\n",
       "</table>\n",
       "<p>200 rows × 7 columns</p>"
      ],
      "text/plain": [
       "     country  position                                         track_name  \\\n",
       "8263  Mexico        64                                              11 PM   \n",
       "8233  Mexico        34                                               25/8   \n",
       "8356  Mexico       157                                            7 rings   \n",
       "...      ...       ...                                                ...   \n",
       "8291  Mexico        92                                            bad guy   \n",
       "8329  Mexico       130  death bed (coffee for your head) (feat. beabad...   \n",
       "8337  Mexico       138                                everything i wanted   \n",
       "\n",
       "             artist  streams  duration continent  \n",
       "8263         Maluma  1160043   175.733  Americas  \n",
       "8233      Bad Bunny  1781488   243.276  Americas  \n",
       "8356  Ariana Grande   660372   178.640  Americas  \n",
       "...             ...      ...       ...       ...  \n",
       "8291  Billie Eilish   958347   194.088  Americas  \n",
       "8329          Powfu   765591   173.333  Americas  \n",
       "8337  Billie Eilish   721895   245.426  Americas  \n",
       "\n",
       "[200 rows x 7 columns]"
      ]
     },
     "execution_count": 5,
     "metadata": {},
     "output_type": "execute_result"
    }
   ],
   "source": [
    "(music_top200\n",
    "  >> filter(_.country == \"Mexico\")\n",
    "  >> arrange(_.track_name)\n",
    ")"
   ]
  },
  {
   "cell_type": "raw",
   "metadata": {},
   "source": [
    "<prompt-expandable header=\"\">\n",
    "\n",
    "<q-multiple-choice>\n",
    "  <q-opt text=\"11 PM\"><span>Great job!</span></q-opt>\n",
    "  <q-opt text=\"一天 (電視劇《想見你》插曲)\"><span>Incorrect</span></q-opt>\n",
    "  <q-opt text=\"everything i wanted\"><span>Incorrect</span></q-opt>\n",
    "  <q-opt text=\"#24\"><span>Be sure to filter where country is Mexico</span></q-opt>    \n",
    "</q-multiple-choice>\n",
    "\n",
    "</prompt-expandable>\n"
   ]
  },
  {
   "cell_type": "markdown",
   "metadata": {},
   "source": [
    "### Exercise 3: \n",
    "\n",
    "Below is code with the arrange verb removed. Modify it to arrange in ascending order..\n",
    "\n",
    "* first by position\n",
    "* second by streams"
   ]
  },
  {
   "cell_type": "code",
   "execution_count": 6,
   "metadata": {},
   "outputs": [
    {
     "data": {
      "text/html": [
       "⚠️: <b>Don't forget to replace all the blanks!</b>"
      ],
      "text/plain": [
       "⚠️: <b>Don't forget to replace all the blanks!</b>"
      ]
     },
     "execution_count": 6,
     "metadata": {},
     "output_type": "execute_result"
    }
   ],
   "source": [
    "(music_top200\n",
    "  >> ___\n",
    ")"
   ]
  },
  {
   "cell_type": "code",
   "execution_count": 7,
   "metadata": {
    "collapsed": true,
    "jupyter": {
     "outputs_hidden": true,
     "source_hidden": true
    },
    "tags": [
     "solution-code"
    ]
   },
   "outputs": [
    {
     "data": {
      "text/html": [
       "<table border=\"1\" class=\"dataframe\">\n",
       "  <thead>\n",
       "    <tr style=\"text-align: right;\">\n",
       "      <th></th>\n",
       "      <th>country</th>\n",
       "      <th>position</th>\n",
       "      <th>track_name</th>\n",
       "      <th>artist</th>\n",
       "      <th>streams</th>\n",
       "      <th>duration</th>\n",
       "      <th>continent</th>\n",
       "    </tr>\n",
       "  </thead>\n",
       "  <tbody>\n",
       "    <tr>\n",
       "      <th>8000</th>\n",
       "      <td>Cyprus</td>\n",
       "      <td>1</td>\n",
       "      <td>The Box</td>\n",
       "      <td>Roddy Ricch</td>\n",
       "      <td>13604</td>\n",
       "      <td>196.653</td>\n",
       "      <td>Asia</td>\n",
       "    </tr>\n",
       "    <tr>\n",
       "      <th>7200</th>\n",
       "      <td>Malta</td>\n",
       "      <td>1</td>\n",
       "      <td>Blinding Lights</td>\n",
       "      <td>The Weeknd</td>\n",
       "      <td>21416</td>\n",
       "      <td>201.573</td>\n",
       "      <td>Europe</td>\n",
       "    </tr>\n",
       "    <tr>\n",
       "      <th>6800</th>\n",
       "      <td>Luxembourg</td>\n",
       "      <td>1</td>\n",
       "      <td>Blinding Lights</td>\n",
       "      <td>The Weeknd</td>\n",
       "      <td>22509</td>\n",
       "      <td>201.573</td>\n",
       "      <td>Europe</td>\n",
       "    </tr>\n",
       "    <tr>\n",
       "      <th>...</th>\n",
       "      <td>...</td>\n",
       "      <td>...</td>\n",
       "      <td>...</td>\n",
       "      <td>...</td>\n",
       "      <td>...</td>\n",
       "      <td>...</td>\n",
       "      <td>...</td>\n",
       "    </tr>\n",
       "    <tr>\n",
       "      <th>1399</th>\n",
       "      <td>Brazil</td>\n",
       "      <td>200</td>\n",
       "      <td>Procuro Alguém (prod. Coyote Beatz)</td>\n",
       "      <td>Djonga</td>\n",
       "      <td>542021</td>\n",
       "      <td>213.983</td>\n",
       "      <td>Americas</td>\n",
       "    </tr>\n",
       "    <tr>\n",
       "      <th>8399</th>\n",
       "      <td>Mexico</td>\n",
       "      <td>200</td>\n",
       "      <td>Verte Ir</td>\n",
       "      <td>DJ Luian</td>\n",
       "      <td>558925</td>\n",
       "      <td>267.500</td>\n",
       "      <td>Americas</td>\n",
       "    </tr>\n",
       "    <tr>\n",
       "      <th>7999</th>\n",
       "      <td>United States</td>\n",
       "      <td>200</td>\n",
       "      <td>Enemies (feat. DaBaby)</td>\n",
       "      <td>Post Malone</td>\n",
       "      <td>1597824</td>\n",
       "      <td>196.760</td>\n",
       "      <td>Americas</td>\n",
       "    </tr>\n",
       "  </tbody>\n",
       "</table>\n",
       "<p>12400 rows × 7 columns</p>"
      ],
      "text/plain": [
       "            country  position                           track_name  \\\n",
       "8000         Cyprus         1                              The Box   \n",
       "7200          Malta         1                      Blinding Lights   \n",
       "6800     Luxembourg         1                      Blinding Lights   \n",
       "...             ...       ...                                  ...   \n",
       "1399         Brazil       200  Procuro Alguém (prod. Coyote Beatz)   \n",
       "8399         Mexico       200                             Verte Ir   \n",
       "7999  United States       200               Enemies (feat. DaBaby)   \n",
       "\n",
       "           artist  streams  duration continent  \n",
       "8000  Roddy Ricch    13604   196.653      Asia  \n",
       "7200   The Weeknd    21416   201.573    Europe  \n",
       "6800   The Weeknd    22509   201.573    Europe  \n",
       "...           ...      ...       ...       ...  \n",
       "1399       Djonga   542021   213.983  Americas  \n",
       "8399     DJ Luian   558925   267.500  Americas  \n",
       "7999  Post Malone  1597824   196.760  Americas  \n",
       "\n",
       "[12400 rows x 7 columns]"
      ]
     },
     "execution_count": 7,
     "metadata": {},
     "output_type": "execute_result"
    }
   ],
   "source": [
    "(music_top200\n",
    "  >> arrange(_.position, _.streams)\n",
    ")"
   ]
  },
  {
   "cell_type": "raw",
   "metadata": {},
   "source": [
    "\n",
    "<prompt-expandable header=\"What country has the position 1 track (The Box) with fewest streams?\">\n",
    "\n",
    "<q-multiple-choice>\n",
    "  <q-opt text=\"Cyprus\"><span>That's right! Make sure to double check that the track is named The Box by Roddy Ricch.</span></q-opt>\n",
    "  <q-opt text=\"United States\"><span>Incorrect</span></q-opt>\n",
    "  <q-opt text=\"Brazil\"><span>Incorrect</span></q-opt>\n",
    "    <q-opt text=\"Luxembou\"><span>Incorrect</span></q-opt>\n",
    "</q-multiple-choice>\n",
    "\n",
    "</prompt-expandable>\n"
   ]
  },
  {
   "cell_type": "markdown",
   "metadata": {},
   "source": [
    "### Exercise 4\n",
    "\n",
    "What's the shortest song in the top position in the `music_top200` data?"
   ]
  },
  {
   "cell_type": "code",
   "execution_count": 8,
   "metadata": {
    "tags": [
     "empty-code"
    ]
   },
   "outputs": [],
   "source": [
    "# add code below this line\n",
    "\n",
    "\n",
    "\n"
   ]
  },
  {
   "cell_type": "code",
   "execution_count": 9,
   "metadata": {
    "tags": [
     "solution-code"
    ]
   },
   "outputs": [
    {
     "data": {
      "text/html": [
       "<table border=\"1\" class=\"dataframe\">\n",
       "  <thead>\n",
       "    <tr style=\"text-align: right;\">\n",
       "      <th></th>\n",
       "      <th>country</th>\n",
       "      <th>position</th>\n",
       "      <th>track_name</th>\n",
       "      <th>artist</th>\n",
       "      <th>streams</th>\n",
       "      <th>duration</th>\n",
       "      <th>continent</th>\n",
       "    </tr>\n",
       "  </thead>\n",
       "  <tbody>\n",
       "    <tr>\n",
       "      <th>2600</th>\n",
       "      <td>Germany</td>\n",
       "      <td>1</td>\n",
       "      <td>Bad Girls, Good Vibes</td>\n",
       "      <td>Ufo361</td>\n",
       "      <td>4081472</td>\n",
       "      <td>107.446</td>\n",
       "      <td>Europe</td>\n",
       "    </tr>\n",
       "    <tr>\n",
       "      <th>4400</th>\n",
       "      <td>Greece</td>\n",
       "      <td>1</td>\n",
       "      <td>Drip</td>\n",
       "      <td>Snik</td>\n",
       "      <td>367041</td>\n",
       "      <td>147.429</td>\n",
       "      <td>Europe</td>\n",
       "    </tr>\n",
       "    <tr>\n",
       "      <th>2000</th>\n",
       "      <td>Colombia</td>\n",
       "      <td>1</td>\n",
       "      <td>Rojo</td>\n",
       "      <td>J Balvin</td>\n",
       "      <td>997830</td>\n",
       "      <td>150.720</td>\n",
       "      <td>Americas</td>\n",
       "    </tr>\n",
       "    <tr>\n",
       "      <th>...</th>\n",
       "      <td>...</td>\n",
       "      <td>...</td>\n",
       "      <td>...</td>\n",
       "      <td>...</td>\n",
       "      <td>...</td>\n",
       "      <td>...</td>\n",
       "      <td>...</td>\n",
       "    </tr>\n",
       "    <tr>\n",
       "      <th>11999</th>\n",
       "      <td>Uruguay</td>\n",
       "      <td>200</td>\n",
       "      <td>Creo</td>\n",
       "      <td>Callejeros</td>\n",
       "      <td>11300</td>\n",
       "      <td>289.760</td>\n",
       "      <td>Americas</td>\n",
       "    </tr>\n",
       "    <tr>\n",
       "      <th>3999</th>\n",
       "      <td>Finland</td>\n",
       "      <td>200</td>\n",
       "      <td>Without Me</td>\n",
       "      <td>Eminem</td>\n",
       "      <td>40460</td>\n",
       "      <td>290.320</td>\n",
       "      <td>Europe</td>\n",
       "    </tr>\n",
       "    <tr>\n",
       "      <th>4399</th>\n",
       "      <td>United Kingdom</td>\n",
       "      <td>200</td>\n",
       "      <td>Africa</td>\n",
       "      <td>TOTO</td>\n",
       "      <td>334637</td>\n",
       "      <td>295.893</td>\n",
       "      <td>Europe</td>\n",
       "    </tr>\n",
       "  </tbody>\n",
       "</table>\n",
       "<p>12400 rows × 7 columns</p>"
      ],
      "text/plain": [
       "              country  position             track_name      artist  streams  \\\n",
       "2600          Germany         1  Bad Girls, Good Vibes      Ufo361  4081472   \n",
       "4400           Greece         1                   Drip        Snik   367041   \n",
       "2000         Colombia         1                   Rojo    J Balvin   997830   \n",
       "...               ...       ...                    ...         ...      ...   \n",
       "11999         Uruguay       200                   Creo  Callejeros    11300   \n",
       "3999          Finland       200             Without Me      Eminem    40460   \n",
       "4399   United Kingdom       200                 Africa        TOTO   334637   \n",
       "\n",
       "       duration continent  \n",
       "2600    107.446    Europe  \n",
       "4400    147.429    Europe  \n",
       "2000    150.720  Americas  \n",
       "...         ...       ...  \n",
       "11999   289.760  Americas  \n",
       "3999    290.320    Europe  \n",
       "4399    295.893    Europe  \n",
       "\n",
       "[12400 rows x 7 columns]"
      ]
     },
     "execution_count": 9,
     "metadata": {},
     "output_type": "execute_result"
    }
   ],
   "source": [
    "# NOTE: there are multiple ways to get the answer!\n",
    "(music_top200\n",
    "  >> arrange(_.position, _.duration)\n",
    ")"
   ]
  },
  {
   "cell_type": "raw",
   "metadata": {},
   "source": [
    "\n",
    "<prompt-expandable header=\"\">\n",
    "\n",
    "<q-multiple-choice>\n",
    "  <q-opt text=\"Bad Girls, Good Vibes\"><span>That's right!</span></q-opt>\n",
    "  <q-opt text=\"Klop Klop\"><span>Incorrect. This is the shortest track in any position. Can you sort to get top position tracks first?</span></q-opt>\n",
    "  <q-opt text=\"Susamam\"><span>Incorrect. This is the longest track in any position. Can you sort to get top position tracks first?</span></q-opt>\n",
    "    <q-opt text=\"Blockparty\"><span>Incorrect. This is the shortest track in the last position.</span></q-opt>\n",
    "</q-multiple-choice>\n",
    "\n",
    "</prompt-expandable>\n"
   ]
  }
 ],
 "metadata": {
  "jupytext": {
   "cell_metadata_filter": "name,tags,-all",
   "formats": "Rmd//Rmd,notebooks//ipynb",
   "notebook_metadata_filter": "purview"
  },
  "kernelspec": {
   "display_name": "Python 3",
   "language": "python",
   "name": "python3"
  },
  "language_info": {
   "codemirror_mode": {
    "name": "ipython",
    "version": 3
   },
   "file_extension": ".py",
   "mimetype": "text/x-python",
   "name": "python",
   "nbconvert_exporter": "python",
   "pygments_lexer": "ipython3",
   "version": "3.7.3"
  },
  "purview": {
   "branch": "master",
   "repo": "machow/purview",
   "url": "https://mybinder.org",
   "useBinder": 1,
   "useStorage": 1
  }
 },
 "nbformat": 4,
 "nbformat_minor": 4
}
