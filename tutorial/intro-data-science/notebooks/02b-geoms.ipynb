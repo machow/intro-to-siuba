{
 "cells": [
  {
   "cell_type": "raw",
   "id": "1be31b09",
   "metadata": {},
   "source": [
    "---\n",
    "title: \"Geoms\"\n",
    "output: html_document\n",
    "editor_options: \n",
    "  chunk_output_type: console\n",
    "chunk: visualize\n",
    "exercise_pars:\n",
    "  - size: \n",
    "      label: 'Size'\n",
    "      options: [11, 5, 7, 14]\n",
    "    ha:\n",
    "      label: 'Horizontal align'\n",
    "      options: ['center', 'left', 'right']      \n",
    "    nudge:\n",
    "      label: 'Nudge'\n",
    "      options: ['nudge_y = 0', 'nudge_y = .05', 'nudge_y = -.05', 'nudge_x = .05']\n",
    "---"
   ]
  },
  {
   "cell_type": "code",
   "execution_count": null,
   "id": "f5c75e74",
   "metadata": {
    "name": "setup",
    "tags": [
     "input-details",
     "setup"
    ]
   },
   "outputs": [],
   "source": [
    "# TODO: explain how to run this, and that they only need the gist (loads tools)\n",
    "\n",
    "# wranglign ---------\n",
    "import pandas as pd\n",
    "from siuba import *\n",
    "\n",
    "# plotting ----------\n",
    "from plotnine import *\n",
    "\n",
    "theme_set(theme_classic(base_family = \"Noto Sans CJK JP\"))\n",
    "\n",
    "# data --------------\n",
    "from music_top200 import music_top200, track_features\n",
    "\n",
    "# student support ----------\n",
    "from siuba import pipe\n",
    "from IPython.display import HTML, display\n",
    "from siututor import Blank\n",
    "___ = Blank()\n",
    "\n",
    "# DataFrame display --------\n",
    "pd.set_option(\"display.max_rows\", 6)\n",
    "\n",
    "from IPython import get_ipython\n",
    "# special ipython function to get the html formatter\n",
    "html_formatter = get_ipython().display_formatter.formatters['text/html']\n",
    "\n",
    "# here, we avoid the default df._repr_html_ method, since it inlines css\n",
    "# (style tags make vue angry)\n",
    "html_formatter.for_type(\n",
    "    pd.DataFrame,\n",
    "    lambda df: df.to_html(max_rows = pd.get_option(\"display.max_rows\"), show_dimensions = True)\n",
    ")\n",
    "\n",
    "# remove the <ggplot: (528...)> printout\n",
    "html_formatter.for_type(ggplot, lambda g: \"\")\n"
   ]
  },
  {
   "cell_type": "raw",
   "id": "e61067b0",
   "metadata": {},
   "source": [
    "import slides from '../slides/02b-slides.markdown'\n",
    "\n",
    "<RevealSlides :slides=\"slides\" />\n"
   ]
  },
  {
   "cell_type": "markdown",
   "id": "20a5be9b",
   "metadata": {},
   "source": [
    "### Exercise 1:\n",
    "\n",
    "The options below let you change different arguments to `geom_text()`. Try changing them and running the code, in order to get a readable plot. Then, answer the questions underneath the plot."
   ]
  },
  {
   "cell_type": "raw",
   "id": "78f0f3e5",
   "metadata": {},
   "source": [
    "\n",
    "import CodeCellTemplater from '~/components/Cell/CodeCellTemplater.vue'\n",
    "\n",
    "<CodeCellTemplater\n",
    "    :templateVars=\"$frontmatter.exercise_pars[0]\"\n",
    "    :status=\"nb.status\" :onExecute=\"nb.execute\" language=\"python\"\n",
    "    >\n",
    "\n",
    "    (track_features\n",
    "      >> filter(_.artist == \"Queen\")\n",
    "      >> ggplot(aes(\"energy\", \"valence\", label = \"track_name\"))\n",
    "       + geom_point()\n",
    "       + geom_text(size = ${this.size}, ha = \"${this.ha}\", ${this.nudge})\n",
    "    )    \n",
    "    \n",
    "<template v-slot:output>\n",
    "\n",
    "![](../assets/02b-queen-plot.png)\n",
    "\n",
    "\n",
    "</template>    \n",
    "\n",
    "</CodeCellTemplater>\n"
   ]
  },
  {
   "cell_type": "raw",
   "id": "a9c2266c",
   "metadata": {},
   "source": [
    "\n",
    "<p>Below are three songs at different corners of the graph. Can you tell whether they have high or low energy? Valence? Which do you think has low energy and low valence?</p>\n",
    "\n",
    "\n",
    "<div style=\"display: flex; width: 100%; flex-grow: 1;\">\n",
    "<div style=\"flex: 1 0;\">\n",
    "<p>Hammer to Fall</p>\n",
    "\n",
    "<iframe width=\"200\" src=\"https://www.youtube.com/embed/JU5LMG3WFBw\" frameborder=\"0\" allow=\"accelerometer; autoplay; encrypted-media; gyroscope; picture-in-picture\" allowfullscreen></iframe>\n",
    "</div>\n",
    "<div style=\"flex: 1 0;\">\n",
    "<p>Crazy Little Thing Called Love</p>\n",
    "\n",
    "<iframe width=\"200\" src=\"https://www.youtube.com/embed/zO6D_BAuYCI\" frameborder=\"0\" allow=\"accelerometer; autoplay; encrypted-media; gyroscope; picture-in-picture\" allowfullscreen></iframe>\n",
    "</div>\n",
    "<div style=\"flex: 1 0;\">\n",
    "<p>Love of My Life</p>\n",
    "\n",
    "<iframe width=\"200\" src=\"https://www.youtube.com/embed/7hFeER3_ZRQ\" frameborder=\"0\" allow=\"accelerometer; autoplay; encrypted-media; gyroscope; picture-in-picture\" allowfullscreen></iframe>\n",
    "</div>\n",
    "</div>\n"
   ]
  },
  {
   "cell_type": "markdown",
   "id": "4a857a29",
   "metadata": {},
   "source": [
    "### Exercise 2:\n",
    "\n",
    "This exercise is a case study on selecting extreme differences between two features, such as energy and acousticness.\n",
    "\n",
    "At the end of the case study, you'll be prompted to add code!"
   ]
  },
  {
   "cell_type": "markdown",
   "id": "cd3b40d6",
   "metadata": {},
   "source": [
    "Generally tracks with higher energy tend to be less acoustic, as shown in the plot below."
   ]
  },
  {
   "cell_type": "code",
   "execution_count": null,
   "id": "e2841977",
   "metadata": {},
   "outputs": [],
   "source": [
    "(track_features\n",
    "  >> filter(_.popularity > 33)\n",
    "  >> ggplot(aes(\"energy\", \"acousticness\"))\n",
    "   + geom_point()\n",
    ")"
   ]
  },
  {
   "cell_type": "markdown",
   "id": "674cfbc9",
   "metadata": {},
   "source": [
    "But notice that in the plot above, there's a point in the top right, that is high energy and high acousticness.\n",
    "\n",
    "In order to find high energy and acousticness songs like this, I used the following code."
   ]
  },
  {
   "cell_type": "code",
   "execution_count": null,
   "id": "5c328302",
   "metadata": {},
   "outputs": [],
   "source": [
    "(track_features\n",
    "  >> filter(_.energy > .9, _.popularity > 33)\n",
    "  >> arrange(-_.acousticness)\n",
    ")"
   ]
  },
  {
   "cell_type": "markdown",
   "id": "06a82cb7",
   "metadata": {},
   "source": [
    "Can you plot songs by MC Kevin o Chris, with both points and text?"
   ]
  },
  {
   "cell_type": "code",
   "execution_count": null,
   "id": "738aaadc",
   "metadata": {},
   "outputs": [],
   "source": [
    "(track_features\n",
    "  >> filter(_.artist == \"MC Kevin o Chris\")\n",
    "  >> ___\n",
    ")"
   ]
  },
  {
   "cell_type": "markdown",
   "id": "f7076b8b",
   "metadata": {},
   "source": [
    "Why do you think Vamos pra Gaiola is high energy and high acousticness?\n",
    "\n",
    "<iframe width=\"200\" src=\"https://www.youtube.com/embed/0R6zBcV9JiY\" frameborder=\"0\" allow=\"accelerometer; autoplay; encrypted-media; gyroscope; picture-in-picture\" allowfullscreen></iframe>\n",
    "\n",
    "<details><summary>answer</summary>\n",
    "My best guess is because the drums are done by a persons voice, there are few instruments, but it is still a pretty fast tempo. It would be interesting to look at their other tracks for a comparison.\n",
    "</details>"
   ]
  },
  {
   "cell_type": "markdown",
   "id": "bec591bd",
   "metadata": {},
   "source": [
    "Can you modify each code block in the case study to be about high energy and low danceability songs?"
   ]
  }
 ],
 "metadata": {
  "jupytext": {
   "cell_metadata_filter": "name,tags,-all",
   "formats": "Rmd//Rmd,notebooks//ipynb",
   "notebook_metadata_filter": "purview"
  },
  "kernelspec": {
   "display_name": "venv-intro-to-siuba",
   "language": "python",
   "name": "venv-intro-to-siuba"
  },
  "purview": {
   "branch": "master",
   "repo": "machow/intro-to-siuba",
   "url": "https://mybinder.org",
   "useBinder": 1,
   "useStorage": 1
  }
 },
 "nbformat": 4,
 "nbformat_minor": 5
}
