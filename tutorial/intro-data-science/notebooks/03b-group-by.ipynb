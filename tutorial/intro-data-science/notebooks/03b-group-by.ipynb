{
 "cells": [
  {
   "cell_type": "raw",
   "id": "68e46811",
   "metadata": {},
   "source": [
    "---\n",
    "title: \"Group by\"\n",
    "output: html_document\n",
    "editor_options: \n",
    "  chunk_output_type: console\n",
    "chunk: summarize\n",
    "---"
   ]
  },
  {
   "cell_type": "code",
   "execution_count": null,
   "id": "6f9deefc",
   "metadata": {
    "name": "setup",
    "tags": [
     "input-details",
     "setup"
    ]
   },
   "outputs": [],
   "source": [
    "# TODO: explain how to run this, and that they only need the gist (loads tools)\n",
    "\n",
    "# wranglign ---------\n",
    "import pandas as pd\n",
    "from siuba import *\n",
    "\n",
    "# plotting ----------\n",
    "from plotnine import *\n",
    "\n",
    "theme_set(theme_classic(base_family = \"Noto Sans CJK JP\"))\n",
    "\n",
    "# data --------------\n",
    "from music_top200 import music_top200, track_features\n",
    "\n",
    "# student support ----------\n",
    "from siuba import pipe\n",
    "from IPython.display import HTML, display\n",
    "from siututor import Blank\n",
    "___ = Blank()\n",
    "\n",
    "# DataFrame display --------\n",
    "pd.set_option(\"display.max_rows\", 6)\n",
    "\n",
    "from IPython import get_ipython\n",
    "# special ipython function to get the html formatter\n",
    "html_formatter = get_ipython().display_formatter.formatters['text/html']\n",
    "\n",
    "# here, we avoid the default df._repr_html_ method, since it inlines css\n",
    "# (style tags make vue angry)\n",
    "html_formatter.for_type(\n",
    "    pd.DataFrame,\n",
    "    lambda df: df.to_html(max_rows = pd.get_option(\"display.max_rows\"), show_dimensions = True)\n",
    ")\n",
    "\n",
    "# remove the <ggplot: (528...)> printout\n",
    "html_formatter.for_type(ggplot, lambda g: \"\")\n"
   ]
  },
  {
   "cell_type": "raw",
   "id": "36905925",
   "metadata": {},
   "source": [
    "\n",
    "import slides from '../slides/03b-slides.markdown'\n",
    "\n",
    "<RevealSlides :slides=\"slides\" />\n"
   ]
  },
  {
   "cell_type": "markdown",
   "id": "08bd3eb8",
   "metadata": {},
   "source": [
    "### Exercise 1:\n",
    "\n",
    "Modify the code below so it calculates max popularity and average danceability **for each artist**."
   ]
  },
  {
   "cell_type": "code",
   "execution_count": null,
   "id": "e3f2ec9d",
   "metadata": {},
   "outputs": [],
   "source": [
    "artists = (track_features\n",
    "  >> summarize(\n",
    "      max_popularity = _.popularity.max(),\n",
    "      avg_danceability = _.danceability.mean()\n",
    "  )\n",
    ")\n",
    "artists"
   ]
  },
  {
   "cell_type": "markdown",
   "id": "81030ae6",
   "metadata": {},
   "source": [
    "Make a scatterplot of the data."
   ]
  },
  {
   "cell_type": "code",
   "execution_count": null,
   "id": "03f868bc",
   "metadata": {
    "tags": [
     "empty-code"
    ]
   },
   "outputs": [],
   "source": [
    "\n",
    "\n",
    "\n",
    "\n"
   ]
  },
  {
   "cell_type": "code",
   "execution_count": null,
   "id": "124ef5fa",
   "metadata": {
    "tags": [
     "solution-code"
    ]
   },
   "outputs": [],
   "source": [
    "artists = (track_features\n",
    "  >> group_by(_.artist)\n",
    "  >> summarize(\n",
    "      max_popularity = _.popularity.max(),\n",
    "      avg_danceability = _.danceability.mean()\n",
    "  )\n",
    ")\n",
    "\n",
    "print(artists)\n",
    "\n",
    "(artists\n",
    "  >> ggplot(aes(\"max_popularity\", \"avg_danceability\"))\n",
    "   + geom_point()\n",
    ")"
   ]
  },
  {
   "cell_type": "markdown",
   "id": "94788595",
   "metadata": {},
   "source": [
    "In the plot above, what strange thing is going on with the distribution of max popularity?\n",
    "\n",
    "<details>\n",
    "<summary>possible answer</summary>\n",
    "\n",
    "There are many artists with a max popularity of 0! \n",
    "  \n",
    "</details>    "
   ]
  },
  {
   "cell_type": "markdown",
   "id": "c453a070",
   "metadata": {},
   "source": [
    "### Exercise 2:"
   ]
  },
  {
   "cell_type": "markdown",
   "id": "0003a2de",
   "metadata": {},
   "source": [
    "In the last exercise of the facets chapter, you examined track features for three artists."
   ]
  },
  {
   "cell_type": "code",
   "execution_count": null,
   "id": "d5e289f9",
   "metadata": {},
   "outputs": [],
   "source": [
    "# This code keeps the 3 artists listed ----\n",
    "\n",
    "artists_to_keep = [\"Billie Eilish\", \"ITZY\", \"Roddy Ricch\"]\n",
    "\n",
    "some_artists = (\n",
    "  track_features\n",
    "  >> filter(_.artist.isin(artists_to_keep))\n",
    ")\n",
    "\n",
    "#uncomment line below to see data\n",
    "#some_artists"
   ]
  },
  {
   "cell_type": "markdown",
   "id": "a33ad36d",
   "metadata": {},
   "source": [
    "We used a plot and intuition to judge who tended to have highest energy and valence tracks."
   ]
  },
  {
   "cell_type": "code",
   "execution_count": null,
   "id": "2d14d0d0",
   "metadata": {},
   "outputs": [],
   "source": [
    "# This code plots the data ----\n",
    "(some_artists\n",
    "  >> ggplot(aes(\"energy\", \"valence\", color = \"artist\"))\n",
    "   + geom_point()\n",
    "   + facet_wrap(\"~artist\", nrow = 1)\n",
    "   + labs(title = \"Song features across 3 artists\")\n",
    ")"
   ]
  },
  {
   "cell_type": "markdown",
   "id": "17df5bc9",
   "metadata": {},
   "source": [
    "Now you should be able to answer the question more directly!\n",
    "\n",
    "**Use a grouped summarize to calculate the mean energy and valence for each artist**."
   ]
  },
  {
   "cell_type": "code",
   "execution_count": null,
   "id": "2f4479be",
   "metadata": {
    "tags": [
     "empty-code"
    ]
   },
   "outputs": [],
   "source": [
    "# summarizing mean energy and valence for each artist\n",
    "\n",
    "\n",
    "\n"
   ]
  },
  {
   "cell_type": "code",
   "execution_count": null,
   "id": "d528e619",
   "metadata": {
    "tags": [
     "solution-code"
    ]
   },
   "outputs": [],
   "source": [
    "# This code plots the data ----\n",
    "(some_artists\n",
    "  >> group_by(_.artist)\n",
    "  >> summarize(avg_energy = _.energy.mean(), avg_valence = _.valence.mean())\n",
    ")"
   ]
  },
  {
   "cell_type": "markdown",
   "id": "efbe563c",
   "metadata": {},
   "source": [
    "Q: In this data, which artist has the lowest average energy, and what is its value?\n",
    "\n",
    "<details><summary>answer</summary>Billie Eilish, 0.321004</details>"
   ]
  },
  {
   "cell_type": "markdown",
   "id": "fb9586de",
   "metadata": {},
   "source": [
    "Q: What about for lowest average valence?\n",
    "\n",
    "<details><summary>answer</summary>Billie Eilish, 0.266948</details>"
   ]
  }
 ],
 "metadata": {
  "jupytext": {
   "cell_metadata_filter": "name,tags,-all",
   "formats": "Rmd//Rmd,notebooks//ipynb",
   "notebook_metadata_filter": "purview"
  },
  "kernelspec": {
   "display_name": "venv-intro-to-siuba",
   "language": "python",
   "name": "venv-intro-to-siuba"
  },
  "purview": {
   "branch": "master",
   "repo": "machow/intro-to-siuba",
   "url": "https://mybinder.org",
   "useBinder": 1,
   "useStorage": 1
  }
 },
 "nbformat": 4,
 "nbformat_minor": 5
}
