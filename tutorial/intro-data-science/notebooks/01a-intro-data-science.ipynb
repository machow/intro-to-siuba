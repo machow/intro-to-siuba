{
 "cells": [
  {
   "cell_type": "raw",
   "metadata": {},
   "source": [
    "---\n",
    "title: \"Meet the data\"\n",
    "output: html_document\n",
    "editor_options: \n",
    "  chunk_output_type: console\n",
    "chunk: wrangle\n",
    "include: false\n",
    "---"
   ]
  },
  {
   "cell_type": "markdown",
   "metadata": {},
   "source": [
    "# Introduction to Data Analysis with Siuba: Basics\n"
   ]
  },
  {
   "cell_type": "code",
   "execution_count": 1,
   "metadata": {
    "name": "setup",
    "tags": [
     "input-details",
     "setup"
    ]
   },
   "outputs": [],
   "source": [
    "# TODO: explain how to run this, and that they only need the gist (loads tools)\n",
    "\n",
    "# wranglign ---------\n",
    "import pandas as pd\n",
    "from siuba import *\n",
    "\n",
    "# plotting ----------\n",
    "from plotnine import *\n",
    "\n",
    "theme_set(theme_classic(base_family = \"Noto Sans CJK JP\"))\n",
    "\n",
    "# data --------------\n",
    "#fname = \"/Users/machow/Dropbox/Repo/siublocks-org/intro-tidyverse/tutorial/data/music200.csv\"\n",
    "fname = \"https://siublocks.s3.us-east-2.amazonaws.com/course-data/music200.csv\"\n",
    "music_top200 = pd.read_csv(fname)\n",
    "\n",
    "# tracks\n",
    "#fname = \"/Users/machow/Dropbox/Repo/siublocks-org/intro-tidyverse/tutorial/data/track_features.csv\"\n",
    "fname = \"https://siublocks.s3.us-east-2.amazonaws.com/course-data/track_features.csv\"\n",
    "track_features = pd.read_csv(fname)\n",
    "\n",
    "# student support ----------\n",
    "from siuba import pipe\n",
    "from IPython.display import HTML, display\n",
    "from siututor import Blank\n",
    "___ = Blank()\n",
    "\n",
    "# DataFrame display --------\n",
    "pd.set_option(\"display.max_rows\", 6)\n",
    "\n",
    "from IPython import get_ipython\n",
    "# special ipython function to get the html formatter\n",
    "html_formatter = get_ipython().display_formatter.formatters['text/html']\n",
    "\n",
    "# here, we avoid the default df._repr_html_ method, since it inlines css\n",
    "# (style tags make vue angry)\n",
    "html_formatter.for_type(\n",
    "    pd.DataFrame,\n",
    "    lambda df: df.to_html(max_rows = pd.get_option(\"display.max_rows\"), show_dimensions = True)\n",
    ")\n",
    "\n"
   ]
  },
  {
   "cell_type": "raw",
   "metadata": {},
   "source": [
    "import slides from '../slides/01a-slides.markdown'\n",
    "\n",
    "<RevealSlides :slides=\"slides\" />\n",
    "\n"
   ]
  },
  {
   "cell_type": "markdown",
   "metadata": {},
   "source": [
    "## Introduction to Spotify data"
   ]
  },
  {
   "cell_type": "code",
   "execution_count": 2,
   "metadata": {},
   "outputs": [
    {
     "data": {
      "text/html": [
       "<table border=\"1\" class=\"dataframe\">\n",
       "  <thead>\n",
       "    <tr style=\"text-align: right;\">\n",
       "      <th></th>\n",
       "      <th>country</th>\n",
       "      <th>position</th>\n",
       "      <th>track_name</th>\n",
       "      <th>artist</th>\n",
       "      <th>streams</th>\n",
       "      <th>duration</th>\n",
       "      <th>continent</th>\n",
       "    </tr>\n",
       "  </thead>\n",
       "  <tbody>\n",
       "    <tr>\n",
       "      <th>0</th>\n",
       "      <td>Argentina</td>\n",
       "      <td>1</td>\n",
       "      <td>Tusa</td>\n",
       "      <td>KAROL G</td>\n",
       "      <td>1858666</td>\n",
       "      <td>200.960</td>\n",
       "      <td>Americas</td>\n",
       "    </tr>\n",
       "    <tr>\n",
       "      <th>1</th>\n",
       "      <td>Argentina</td>\n",
       "      <td>2</td>\n",
       "      <td>Tattoo</td>\n",
       "      <td>Rauw Alejandro</td>\n",
       "      <td>1344382</td>\n",
       "      <td>202.887</td>\n",
       "      <td>Americas</td>\n",
       "    </tr>\n",
       "    <tr>\n",
       "      <th>2</th>\n",
       "      <td>Argentina</td>\n",
       "      <td>3</td>\n",
       "      <td>Hola - Remix</td>\n",
       "      <td>Dalex</td>\n",
       "      <td>1330011</td>\n",
       "      <td>249.520</td>\n",
       "      <td>Americas</td>\n",
       "    </tr>\n",
       "    <tr>\n",
       "      <th>...</th>\n",
       "      <td>...</td>\n",
       "      <td>...</td>\n",
       "      <td>...</td>\n",
       "      <td>...</td>\n",
       "      <td>...</td>\n",
       "      <td>...</td>\n",
       "      <td>...</td>\n",
       "    </tr>\n",
       "    <tr>\n",
       "      <th>12397</th>\n",
       "      <td>South Africa</td>\n",
       "      <td>198</td>\n",
       "      <td>Black And White</td>\n",
       "      <td>Niall Horan</td>\n",
       "      <td>11771</td>\n",
       "      <td>193.090</td>\n",
       "      <td>Africa</td>\n",
       "    </tr>\n",
       "    <tr>\n",
       "      <th>12398</th>\n",
       "      <td>South Africa</td>\n",
       "      <td>199</td>\n",
       "      <td>When I See U</td>\n",
       "      <td>Fantasia</td>\n",
       "      <td>11752</td>\n",
       "      <td>217.347</td>\n",
       "      <td>Africa</td>\n",
       "    </tr>\n",
       "    <tr>\n",
       "      <th>12399</th>\n",
       "      <td>South Africa</td>\n",
       "      <td>200</td>\n",
       "      <td>Psycho!</td>\n",
       "      <td>MASN</td>\n",
       "      <td>11743</td>\n",
       "      <td>197.217</td>\n",
       "      <td>Africa</td>\n",
       "    </tr>\n",
       "  </tbody>\n",
       "</table>\n",
       "<p>12400 rows × 7 columns</p>"
      ],
      "text/plain": [
       "            country  position       track_name          artist  streams  \\\n",
       "0         Argentina         1             Tusa         KAROL G  1858666   \n",
       "1         Argentina         2           Tattoo  Rauw Alejandro  1344382   \n",
       "2         Argentina         3     Hola - Remix           Dalex  1330011   \n",
       "...             ...       ...              ...             ...      ...   \n",
       "12397  South Africa       198  Black And White     Niall Horan    11771   \n",
       "12398  South Africa       199     When I See U        Fantasia    11752   \n",
       "12399  South Africa       200          Psycho!            MASN    11743   \n",
       "\n",
       "       duration continent  \n",
       "0       200.960  Americas  \n",
       "1       202.887  Americas  \n",
       "2       249.520  Americas  \n",
       "...         ...       ...  \n",
       "12397   193.090    Africa  \n",
       "12398   217.347    Africa  \n",
       "12399   197.217    Africa  \n",
       "\n",
       "[12400 rows x 7 columns]"
      ]
     },
     "execution_count": 2,
     "metadata": {},
     "output_type": "execute_result"
    }
   ],
   "source": [
    "#from IPython.display import HTML, display\n",
    "music_top200"
   ]
  },
  {
   "cell_type": "markdown",
   "metadata": {},
   "source": [
    "> 🔎 How many streams did the track named Blinding lights get this week?\n",
    "\n",
    "> 🔎 How many rows in the 12,417 row DataFrame are being shown above?\n",
    "\n",
    "> 🔎 What is the speechiness level of the track named Myron?\n",
    "\n",
    "<details>\n",
    "    <summary>show answers</summary>\n",
    "\n",
    "    * Blinding lights was streamed 7744570 times.\n",
    "    * 10 rows are being shown from the DataFrame\n",
    "    * The track named Myron has a speechiness of 0.29\n",
    "</details>\n",
    "    "
   ]
  },
  {
   "cell_type": "markdown",
   "metadata": {},
   "source": [
    "## What you'll learn to do\n",
    "\n",
    "In this tutorial you will learn about..\n",
    "\n",
    "* data that is represented in table called a DataFrame.\n",
    "* how to arrange rows and select columns.\n",
    "* how to create new columns and cut out specific rows.\n",
    "\n",
    "The next two examples show what you'll be able to do by the end of this chapter.\n",
    "It's okay if the code doesn't make sense yet.\n",
    "Just being able to run someone else's code goes a long way!\n"
   ]
  },
  {
   "cell_type": "markdown",
   "metadata": {},
   "source": [
    "### Big example 1: finding high energy hits\n",
    "\n",
    "Run the code below. It should do the following:\n",
    "\n",
    "* **arrange** the rows--first by position (lowest first), and second by energy (highest first).\n",
    "* **select** specific columns, such as country, position, and artist."
   ]
  },
  {
   "cell_type": "code",
   "execution_count": 3,
   "metadata": {},
   "outputs": [
    {
     "data": {
      "text/html": [
       "<table border=\"1\" class=\"dataframe\">\n",
       "  <thead>\n",
       "    <tr style=\"text-align: right;\">\n",
       "      <th></th>\n",
       "      <th>country</th>\n",
       "      <th>position</th>\n",
       "      <th>artist</th>\n",
       "      <th>track_name</th>\n",
       "      <th>duration</th>\n",
       "    </tr>\n",
       "  </thead>\n",
       "  <tbody>\n",
       "    <tr>\n",
       "      <th>2600</th>\n",
       "      <td>Germany</td>\n",
       "      <td>1</td>\n",
       "      <td>Ufo361</td>\n",
       "      <td>Bad Girls, Good Vibes</td>\n",
       "      <td>107.446</td>\n",
       "    </tr>\n",
       "    <tr>\n",
       "      <th>4400</th>\n",
       "      <td>Greece</td>\n",
       "      <td>1</td>\n",
       "      <td>Snik</td>\n",
       "      <td>Drip</td>\n",
       "      <td>147.429</td>\n",
       "    </tr>\n",
       "    <tr>\n",
       "      <th>2000</th>\n",
       "      <td>Colombia</td>\n",
       "      <td>1</td>\n",
       "      <td>J Balvin</td>\n",
       "      <td>Rojo</td>\n",
       "      <td>150.720</td>\n",
       "    </tr>\n",
       "    <tr>\n",
       "      <th>...</th>\n",
       "      <td>...</td>\n",
       "      <td>...</td>\n",
       "      <td>...</td>\n",
       "      <td>...</td>\n",
       "      <td>...</td>\n",
       "    </tr>\n",
       "    <tr>\n",
       "      <th>11999</th>\n",
       "      <td>Uruguay</td>\n",
       "      <td>200</td>\n",
       "      <td>Callejeros</td>\n",
       "      <td>Creo</td>\n",
       "      <td>289.760</td>\n",
       "    </tr>\n",
       "    <tr>\n",
       "      <th>3999</th>\n",
       "      <td>Finland</td>\n",
       "      <td>200</td>\n",
       "      <td>Eminem</td>\n",
       "      <td>Without Me</td>\n",
       "      <td>290.320</td>\n",
       "    </tr>\n",
       "    <tr>\n",
       "      <th>4399</th>\n",
       "      <td>United Kingdom</td>\n",
       "      <td>200</td>\n",
       "      <td>TOTO</td>\n",
       "      <td>Africa</td>\n",
       "      <td>295.893</td>\n",
       "    </tr>\n",
       "  </tbody>\n",
       "</table>\n",
       "<p>12400 rows × 5 columns</p>"
      ],
      "text/plain": [
       "              country  position      artist             track_name  duration\n",
       "2600          Germany         1      Ufo361  Bad Girls, Good Vibes   107.446\n",
       "4400           Greece         1        Snik                   Drip   147.429\n",
       "2000         Colombia         1    J Balvin                   Rojo   150.720\n",
       "...               ...       ...         ...                    ...       ...\n",
       "11999         Uruguay       200  Callejeros                   Creo   289.760\n",
       "3999          Finland       200      Eminem             Without Me   290.320\n",
       "4399   United Kingdom       200        TOTO                 Africa   295.893\n",
       "\n",
       "[12400 rows x 5 columns]"
      ]
     },
     "execution_count": 3,
     "metadata": {},
     "output_type": "execute_result"
    }
   ],
   "source": [
    "(music_top200\n",
    "  >> arrange(_.position, _.duration)\n",
    "  >> select(_.country, _.position, _.artist, _.track_name, _.duration)\n",
    ")"
   ]
  },
  {
   "cell_type": "markdown",
   "metadata": {},
   "source": [
    "Try doing the actions below, and then running the code.\n",
    "\n",
    "> 🔨 Try changing the two uses of `_.energy` above to `_.danciness`."
   ]
  },
  {
   "cell_type": "markdown",
   "metadata": {},
   "source": [
    "### Big example 2: which countries does an artist have hits in?\n",
    "\n",
    "Run the code below. It should do the following:\n",
    "\n",
    "* **filter** to keep rows for the artist ITZY\n",
    "* use **ggplot** to add a point for each row in the filtered data."
   ]
  },
  {
   "cell_type": "code",
   "execution_count": 4,
   "metadata": {
    "lines_to_next_cell": 2
   },
   "outputs": [
    {
     "name": "stderr",
     "output_type": "stream",
     "text": [
      "findfont: Font family ['Noto Sans CJK JP'] not found. Falling back to DejaVu Sans.\n"
     ]
    },
    {
     "name": "stderr",
     "output_type": "stream",
     "text": [
      "findfont: Font family ['Noto Sans CJK JP'] not found. Falling back to DejaVu Sans.\n"
     ]
    },
    {
     "name": "stderr",
     "output_type": "stream",
     "text": [
      "findfont: Font family ['Noto Sans CJK JP'] not found. Falling back to DejaVu Sans.\n"
     ]
    },
    {
     "data": {
      "image/png": "[encoded data removed]",
      "text/plain": [
       "<Figure size 640x480 with 1 Axes>"
      ]
     },
     "metadata": {},
     "output_type": "display_data"
    },
    {
     "data": {
      "text/plain": [
       "<ggplot: (-9223372036552020883)>"
      ]
     },
     "execution_count": 4,
     "metadata": {},
     "output_type": "execute_result"
    }
   ],
   "source": [
    "(music_top200\n",
    "  >> filter(_.artist == \"ITZY\")\n",
    "  >> ggplot(aes(\"streams\", \"country\")) + geom_point() + labs(title = \"ITZY hits across countries\")\n",
    ")"
   ]
  },
  {
   "cell_type": "markdown",
   "metadata": {},
   "source": [
    "> 🔨 Try changing the term `\"ITZY\"` to `\"TIX\"`. How many countries have TIX hits?\n",
    "\n",
    "> 🔨 Try stopping the plot with a comment. That is, put `#` to the left of `>> ggplot`. This should show you the raw data.\n",
    "\n",
    "<details>\n",
    "    <summary>solution</summary>\n",
    "\n",
    "Here is the solution code...\n",
    "    \n",
    "```python\n",
    "# code with artist changed, and plot commented out\n",
    "(music_top200\n",
    "  >> filter(_.artist == \"TIX\")\n",
    "  #>> ggplot(aes(\"streams\", \"country\")) + geom_point() + labs(title = \"ITZY hits across countries\")\n",
    ")\n",
    "```\n",
    "\n",
    "</details>"
   ]
  }
 ],
 "metadata": {
  "jupytext": {
   "cell_metadata_filter": "name,tags,-all",
   "formats": "Rmd//Rmd,notebooks//ipynb",
   "notebook_metadata_filter": "purview"
  },
  "kernelspec": {
   "display_name": "Python 3",
   "language": "python",
   "name": "python3"
  },
  "language_info": {
   "codemirror_mode": {
    "name": "ipython",
    "version": 3
   },
   "file_extension": ".py",
   "mimetype": "text/x-python",
   "name": "python",
   "nbconvert_exporter": "python",
   "pygments_lexer": "ipython3",
   "version": "3.6.8"
  },
  "purview": {
   "branch": "master",
   "repo": "machow/purview",
   "url": "https://mybinder.org",
   "useBinder": 1
  }
 },
 "nbformat": 4,
 "nbformat_minor": 4
}
