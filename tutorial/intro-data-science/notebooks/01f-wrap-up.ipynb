{
 "cells": [
  {
   "cell_type": "raw",
   "id": "ab3e25fa",
   "metadata": {},
   "source": [
    "---\n",
    "title: \"Wrap up\"\n",
    "output: html_document\n",
    "editor_options: \n",
    "  chunk_output_type: console\n",
    "chunk: wrangle\n",
    "---"
   ]
  },
  {
   "cell_type": "code",
   "execution_count": null,
   "id": "1377ce76",
   "metadata": {
    "name": "setup",
    "tags": [
     "input-details",
     "setup"
    ]
   },
   "outputs": [],
   "source": [
    "# TODO: explain how to run this, and that they only need the gist (loads tools)\n",
    "\n",
    "# wranglign ---------\n",
    "import pandas as pd\n",
    "from siuba import *\n",
    "\n",
    "# plotting ----------\n",
    "from plotnine import *\n",
    "\n",
    "theme_set(theme_classic(base_family = \"Noto Sans CJK JP\"))\n",
    "\n",
    "# data --------------\n",
    "from music_top200 import music_top200, track_features\n",
    "\n",
    "# student support ----------\n",
    "from siuba import pipe\n",
    "from IPython.display import HTML, display\n",
    "from siututor import Blank\n",
    "___ = Blank()\n",
    "\n",
    "# DataFrame display --------\n",
    "pd.set_option(\"display.max_rows\", 6)\n",
    "\n",
    "from IPython import get_ipython\n",
    "# special ipython function to get the html formatter\n",
    "html_formatter = get_ipython().display_formatter.formatters['text/html']\n",
    "\n",
    "# here, we avoid the default df._repr_html_ method, since it inlines css\n",
    "# (style tags make vue angry)\n",
    "html_formatter.for_type(\n",
    "    pd.DataFrame,\n",
    "    lambda df: df.to_html(max_rows = pd.get_option(\"display.max_rows\"), show_dimensions = True)\n",
    ")\n",
    "\n",
    "# remove the <ggplot: (528...)> printout\n",
    "html_formatter.for_type(ggplot, lambda g: \"\")\n"
   ]
  },
  {
   "cell_type": "markdown",
   "id": "b97cd048",
   "metadata": {},
   "source": [
    "### Putting it together\n",
    "\n",
    "This lesson shows what the beginning of an analysis might look like.\n",
    "Generally, data analysis is done in **notebooks**, like this one. In a notebook, you can alternate between blocks of code and narrative text.\n",
    "\n",
    "The first part of an analysis is often **importing** tools you will need for the analysis.\n",
    "For example, verbs like `filter` and `mutate` are imported from siuba.\n",
    "\n",
    "The imports for this analysis are shown below.\n",
    "\n",
    "```python\n",
    "# here we import verbs like filter, arrange, and mutate from siuba.\n",
    "# the import * means to import all of siuba's verbs.\n",
    "from siuba import *\n",
    "\n",
    "# here we import everything for plotting from plotnine (like ggplot())\n",
    "from plotnine import *\n",
    "\n",
    "# here we import the data for the course\n",
    "# note that rather than using * to get everything, you can name\n",
    "# specific things to import (like track_features)\n",
    "from music_top200 import music_top200, track_features\n",
    "```"
   ]
  },
  {
   "cell_type": "markdown",
   "id": "66456265",
   "metadata": {},
   "source": [
    "### Exercise 1:\n",
    "\n",
    "For the artist with the top track in Spain, what country has the most streams for one of their tracks?\n",
    "\n",
    "**Note: you may need to write and run code multiple times.**\n",
    "\n",
    "<details><summary>hint</summary>"
   ]
  },
  {
   "cell_type": "markdown",
   "id": "05b9097d",
   "metadata": {},
   "source": [
    "> First, find the artist in the top position in Spain. After, can you get only that artists tracks? Once you do that you should be close!\n",
    "    \n",
    "</details>"
   ]
  },
  {
   "cell_type": "code",
   "execution_count": null,
   "id": "15cf88ad",
   "metadata": {
    "lines_to_next_cell": 2
   },
   "outputs": [],
   "source": [
    "# getting most streamed track for top artist in Spain\n",
    "(\n",
    "\n",
    "\n",
    ")"
   ]
  },
  {
   "cell_type": "code",
   "execution_count": null,
   "id": "8222b79d",
   "metadata": {
    "tags": [
     "solution-code"
    ]
   },
   "outputs": [],
   "source": [
    "# Note: I would run the pipe with...\n",
    "#   * only the commented out filter first, to get the artist (KAROL G)\n",
    "#   * then, with the uncommented filter and arrange\n",
    "(music_top200 \n",
    "  # >> filter(_.country == \"Spain\")\n",
    "  >> filter(_.artist == \"KAROL G\")\n",
    "  >> arrange(-_.streams)\n",
    ")"
   ]
  },
  {
   "cell_type": "markdown",
   "id": "62c46d59",
   "metadata": {},
   "source": [
    "### Exercise 2:\n",
    "\n",
    "Subset to keep only tracks in Hong Kong, then calculate a new column called stream_seconds, that's equal to streams times their duration.\n",
    "\n",
    "Once you've done that, try deleting the comments (`#`) in the code below to plot the data."
   ]
  },
  {
   "cell_type": "code",
   "execution_count": null,
   "id": "d9be2d49",
   "metadata": {
    "lines_to_next_cell": 2
   },
   "outputs": [],
   "source": [
    "(music_top200\n",
    "  >> ___\n",
    "  >> ___\n",
    "  #>> ggplot(aes(\"stream_seconds\", \"position\", color = \"duration\"))\n",
    "  # + geom_point()\n",
    ")"
   ]
  },
  {
   "cell_type": "code",
   "execution_count": null,
   "id": "0d72f5e7",
   "metadata": {
    "tags": [
     "solution-code"
    ]
   },
   "outputs": [],
   "source": [
    "(music_top200\n",
    "  >> filter(_.country == \"Hong Kong\")\n",
    "  >> mutate(stream_seconds = _.streams * _.duration)\n",
    "  >> ggplot(aes(\"stream_seconds\", \"position\", color = \"duration\"))\n",
    "   + geom_point()\n",
    ")"
   ]
  }
 ],
 "metadata": {
  "jupytext": {
   "cell_metadata_filter": "name,tags,-all",
   "formats": "Rmd//Rmd,notebooks//ipynb",
   "notebook_metadata_filter": "purview"
  },
  "kernelspec": {
   "display_name": "venv-intro-to-siuba",
   "language": "python",
   "name": "venv-intro-to-siuba"
  },
  "purview": {
   "branch": "master",
   "repo": "machow/intro-to-siuba",
   "url": "https://mybinder.org",
   "useBinder": 1,
   "useStorage": 1
  }
 },
 "nbformat": 4,
 "nbformat_minor": 5
}
