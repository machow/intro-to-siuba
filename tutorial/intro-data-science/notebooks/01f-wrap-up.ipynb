{
 "cells": [
  {
   "cell_type": "raw",
   "metadata": {},
   "source": [
    "---\n",
    "title: \"Wrap up\"\n",
    "output: html_document\n",
    "editor_options: \n",
    "  chunk_output_type: console\n",
    "chunk: wrangle\n",
    "---"
   ]
  },
  {
   "cell_type": "code",
   "execution_count": 1,
   "metadata": {
    "name": "setup",
    "tags": [
     "input-details",
     "setup"
    ]
   },
   "outputs": [],
   "source": [
    "# TODO: explain how to run this, and that they only need the gist (loads tools)\n",
    "\n",
    "# wranglign ---------\n",
    "import pandas as pd\n",
    "from siuba import *\n",
    "\n",
    "# plotting ----------\n",
    "from plotnine import *\n",
    "\n",
    "theme_set(theme_classic(base_family = \"Noto Sans CJK JP\"))\n",
    "\n",
    "# data --------------\n",
    "from music_top200 import music_top200, track_features\n",
    "\n",
    "# student support ----------\n",
    "from siuba import pipe\n",
    "from IPython.display import HTML, display\n",
    "from siututor import Blank\n",
    "___ = Blank()\n",
    "\n",
    "# DataFrame display --------\n",
    "pd.set_option(\"display.max_rows\", 6)\n",
    "\n",
    "from IPython import get_ipython\n",
    "# special ipython function to get the html formatter\n",
    "html_formatter = get_ipython().display_formatter.formatters['text/html']\n",
    "\n",
    "# here, we avoid the default df._repr_html_ method, since it inlines css\n",
    "# (style tags make vue angry)\n",
    "html_formatter.for_type(\n",
    "    pd.DataFrame,\n",
    "    lambda df: df.to_html(max_rows = pd.get_option(\"display.max_rows\"), show_dimensions = True)\n",
    ")\n",
    "\n",
    "# remove the <ggplot: (528...)> printout\n",
    "html_formatter.for_type(ggplot, lambda g: \"\")\n"
   ]
  },
  {
   "cell_type": "markdown",
   "metadata": {},
   "source": [
    "### Putting it together\n",
    "\n",
    "This lesson shows what the beginning of an analysis might look like.\n",
    "Generally, data analysis is done in **notebooks**, like this one. In a notebook, you can alternate between blocks of code and narrative text.\n",
    "\n",
    "The first part of an analysis is often **importing** tools you will need for the analysis.\n",
    "For example, verbs like `filter` and `mutate` are imported from siuba.\n",
    "\n",
    "The imports for this analysis are shown below.\n",
    "\n",
    "```python\n",
    "# here we import verbs like filter, arrange, and mutate from siuba.\n",
    "# the import * means to import all of siuba's verbs.\n",
    "from siuba import *\n",
    "\n",
    "# here we import everything for plotting from plotnine (like ggplot())\n",
    "from plotnine import *\n",
    "\n",
    "# here we import the data for the course\n",
    "# note that rather than using * to get everything, you can name\n",
    "# specific things to import (like track_features)\n",
    "from music_top200 import music_top200, track_features\n",
    "```"
   ]
  },
  {
   "cell_type": "markdown",
   "metadata": {},
   "source": [
    "### Exercise 1:\n",
    "\n",
    "For the artist with the top track in Spain, what country has the most streams for one of their tracks?\n",
    "\n",
    "**Note: you may need to write and run code multiple times.**\n",
    "\n",
    "<details><summary>hint</summary>"
   ]
  },
  {
   "cell_type": "markdown",
   "metadata": {},
   "source": [
    "> First, find the artist in the top position in Spain. After, can you get only that artists tracks? Once you do that you should be close!\n",
    "    \n",
    "</details>"
   ]
  },
  {
   "cell_type": "code",
   "execution_count": 2,
   "metadata": {
    "lines_to_next_cell": 2
   },
   "outputs": [
    {
     "data": {
      "text/plain": [
       "()"
      ]
     },
     "execution_count": 2,
     "metadata": {},
     "output_type": "execute_result"
    }
   ],
   "source": [
    "# getting most streamed track for top artist in Spain\n",
    "(\n",
    "\n",
    "\n",
    ")"
   ]
  },
  {
   "cell_type": "code",
   "execution_count": 3,
   "metadata": {
    "collapsed": true,
    "jupyter": {
     "outputs_hidden": true,
     "source_hidden": true
    },
    "tags": [
     "solution-code"
    ]
   },
   "outputs": [
    {
     "data": {
      "text/html": [
       "<table border=\"1\" class=\"dataframe\">\n",
       "  <thead>\n",
       "    <tr style=\"text-align: right;\">\n",
       "      <th></th>\n",
       "      <th>country</th>\n",
       "      <th>position</th>\n",
       "      <th>track_name</th>\n",
       "      <th>artist</th>\n",
       "      <th>streams</th>\n",
       "      <th>duration</th>\n",
       "      <th>continent</th>\n",
       "    </tr>\n",
       "  </thead>\n",
       "  <tbody>\n",
       "    <tr>\n",
       "      <th>8204</th>\n",
       "      <td>Mexico</td>\n",
       "      <td>5</td>\n",
       "      <td>Tusa</td>\n",
       "      <td>KAROL G</td>\n",
       "      <td>4830583</td>\n",
       "      <td>200.96</td>\n",
       "      <td>Americas</td>\n",
       "    </tr>\n",
       "    <tr>\n",
       "      <th>3600</th>\n",
       "      <td>Spain</td>\n",
       "      <td>1</td>\n",
       "      <td>Tusa</td>\n",
       "      <td>KAROL G</td>\n",
       "      <td>3295893</td>\n",
       "      <td>200.96</td>\n",
       "      <td>Europe</td>\n",
       "    </tr>\n",
       "    <tr>\n",
       "      <th>7897</th>\n",
       "      <td>United States</td>\n",
       "      <td>98</td>\n",
       "      <td>Tusa</td>\n",
       "      <td>KAROL G</td>\n",
       "      <td>2385525</td>\n",
       "      <td>200.96</td>\n",
       "      <td>Americas</td>\n",
       "    </tr>\n",
       "    <tr>\n",
       "      <th>...</th>\n",
       "      <td>...</td>\n",
       "      <td>...</td>\n",
       "      <td>...</td>\n",
       "      <td>...</td>\n",
       "      <td>...</td>\n",
       "      <td>...</td>\n",
       "      <td>...</td>\n",
       "    </tr>\n",
       "    <tr>\n",
       "      <th>3563</th>\n",
       "      <td>Estonia</td>\n",
       "      <td>164</td>\n",
       "      <td>Tusa</td>\n",
       "      <td>KAROL G</td>\n",
       "      <td>4681</td>\n",
       "      <td>200.96</td>\n",
       "      <td>Europe</td>\n",
       "    </tr>\n",
       "    <tr>\n",
       "      <th>7265</th>\n",
       "      <td>Malta</td>\n",
       "      <td>66</td>\n",
       "      <td>Tusa</td>\n",
       "      <td>KAROL G</td>\n",
       "      <td>3732</td>\n",
       "      <td>200.96</td>\n",
       "      <td>Europe</td>\n",
       "    </tr>\n",
       "    <tr>\n",
       "      <th>8095</th>\n",
       "      <td>Cyprus</td>\n",
       "      <td>96</td>\n",
       "      <td>Tusa</td>\n",
       "      <td>KAROL G</td>\n",
       "      <td>2168</td>\n",
       "      <td>200.96</td>\n",
       "      <td>Asia</td>\n",
       "    </tr>\n",
       "  </tbody>\n",
       "</table>\n",
       "<p>40 rows × 7 columns</p>"
      ],
      "text/plain": [
       "            country  position track_name   artist  streams  duration continent\n",
       "8204         Mexico         5       Tusa  KAROL G  4830583    200.96  Americas\n",
       "3600          Spain         1       Tusa  KAROL G  3295893    200.96    Europe\n",
       "7897  United States        98       Tusa  KAROL G  2385525    200.96  Americas\n",
       "...             ...       ...        ...      ...      ...       ...       ...\n",
       "3563        Estonia       164       Tusa  KAROL G     4681    200.96    Europe\n",
       "7265          Malta        66       Tusa  KAROL G     3732    200.96    Europe\n",
       "8095         Cyprus        96       Tusa  KAROL G     2168    200.96      Asia\n",
       "\n",
       "[40 rows x 7 columns]"
      ]
     },
     "execution_count": 3,
     "metadata": {},
     "output_type": "execute_result"
    }
   ],
   "source": [
    "# Note: I would run the pipe with...\n",
    "#   * only the commented out filter first, to get the artist (KAROL G)\n",
    "#   * then, with the uncommented filter and arrange\n",
    "(music_top200 \n",
    "  # >> filter(_.country == \"Spain\")\n",
    "  >> filter(_.artist == \"KAROL G\")\n",
    "  >> arrange(-_.streams)\n",
    ")"
   ]
  },
  {
   "cell_type": "markdown",
   "metadata": {},
   "source": [
    "### Exercise 2:\n",
    "\n",
    "Subset to keep only tracks in Hong Kong, then calculate a new column called stream_seconds, that's equal to streams times their duration.\n",
    "\n",
    "Once you've done that, try deleting the comments (`#`) in the code below to plot the data."
   ]
  },
  {
   "cell_type": "code",
   "execution_count": 4,
   "metadata": {
    "lines_to_next_cell": 2
   },
   "outputs": [
    {
     "data": {
      "text/html": [
       "⚠️: <b>Don't forget to replace all the blanks!</b>"
      ],
      "text/plain": [
       "⚠️: <b>Don't forget to replace all the blanks!</b>"
      ]
     },
     "execution_count": 4,
     "metadata": {},
     "output_type": "execute_result"
    }
   ],
   "source": [
    "(music_top200\n",
    "  >> ___\n",
    "  >> ___\n",
    "  #>> ggplot(aes(\"stream_seconds\", \"position\", color = \"duration\"))\n",
    "  # + geom_point()\n",
    ")"
   ]
  },
  {
   "cell_type": "code",
   "execution_count": 5,
   "metadata": {
    "tags": [
     "solution-code"
    ]
   },
   "outputs": [
    {
     "data": {
      "image/png": "[encoded data removed]",
      "text/plain": [
       "<Figure size 640x480 with 1 Axes>"
      ]
     },
     "metadata": {},
     "output_type": "display_data"
    },
    {
     "data": {
      "text/html": [],
      "text/plain": [
       "<ggplot: (-9223372036562565793)>"
      ]
     },
     "execution_count": 5,
     "metadata": {},
     "output_type": "execute_result"
    }
   ],
   "source": [
    "(music_top200\n",
    "  >> filter(_.country == \"Hong Kong\")\n",
    "  >> mutate(stream_seconds = _.streams * _.duration)\n",
    "  >> ggplot(aes(\"stream_seconds\", \"position\", color = \"duration\"))\n",
    "   + geom_point()\n",
    ")"
   ]
  }
 ],
 "metadata": {
  "jupytext": {
   "cell_metadata_filter": "name,tags,-all",
   "formats": "Rmd//Rmd,notebooks//ipynb",
   "notebook_metadata_filter": "purview"
  },
  "kernelspec": {
   "display_name": "venv-intro-to-siuba",
   "language": "python",
   "name": "venv-intro-to-siuba"
  },
  "language_info": {
   "codemirror_mode": {
    "name": "ipython",
    "version": 3
   },
   "file_extension": ".py",
   "mimetype": "text/x-python",
   "name": "python",
   "nbconvert_exporter": "python",
   "pygments_lexer": "ipython3",
   "version": "3.7.3"
  },
  "purview": {
   "branch": "master",
   "repo": "machow/intro-to-siuba",
   "url": "https://mybinder.org",
   "useBinder": 1,
   "useStorage": 1
  }
 },
 "nbformat": 4,
 "nbformat_minor": 4
}
